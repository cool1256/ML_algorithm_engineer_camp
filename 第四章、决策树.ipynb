{
 "cells": [
  {
   "cell_type": "markdown",
   "metadata": {},
   "source": [
    "# 决策树简介"
   ]
  },
  {
   "cell_type": "markdown",
   "metadata": {},
   "source": [
    "# 熵\n",
    "+ 表示随机变量的不确定性  \n",
    "$H(p)=-\\sum_{i=1}^{n} p_{i} \\log p_{i}$\n",
    "+ 熵越大，随机变量的不确定性越大！！"
   ]
  },
  {
   "cell_type": "markdown",
   "metadata": {},
   "source": [
    "# 熵的计算\n",
    "$H(p)=-\\sum_{i=1}^{n} p_{i} \\log p_{i}$  \n",
    "$H(D)=-\\sum_{k=1}^{k} \\frac{\\left|C_{k}\\right|}{|D|} \\log _{2} \\frac{\\left|C_{k}\\right|}{|D|}$"
   ]
  },
  {
   "cell_type": "markdown",
   "metadata": {},
   "source": [
    "# 条件熵\n",
    "定义如下：\n",
    "$H(Y \\mid X)=\\sum_{i=1}^{n} p_{i} H\\left(Y \\mid X=x_{i}\\right)$  \n",
    "其中 $p_{i}=P\\left(X=x_{i}\\right)$    \n",
    "\n",
    "---\n",
    "$H(D \\mid A)=\\sum_{i=1}^{n} \\frac{\\left|D_{i}\\right|}{D \\mid} H\\left(D_{i}\\right)$  \n",
    "$=-\\sum_{i=1}^{n} \\frac{\\left|D_{i}\\right|}{D \\mid} \\sum_{k=1}^{K} \\frac{\\left|D_{ik}\\right|}{D_{i} \\mid} \\log _{2} \\frac{\\left|D_{ik}\\right|}{\\left|D_{i}\\right|}$"
   ]
  },
  {
   "cell_type": "markdown",
   "metadata": {},
   "source": [
    "# 信息增益  \n",
    "+ 定义  \n",
    "信息增益（也叫互信息），定义如下：  \n",
    "$g(D,A) = H(D)-H(D|A)$  其中D是训练数据集，A是某个特征\n",
    "+ 根据信息增益准则的特征选择方法是：\n",
    "    1. 对训练数据集（或子集）D， 计算其中每个特征的洗洗增益\n",
    "    2. 比较他们的大小，选择信息增益最大的特征\n",
    "+ 信息增益法\n",
    "    1. 计算数据集D的经验熵$H(D)$:   \n",
    "    $H(D)=-\\sum_{k=1}^{k} \\frac{\\left|C_{k}\\right|}{|D|} \\log _{2} \\frac{\\left|C_{k}\\right|}{|D|}$\n",
    "    2. 计算特征A对数据集的经验条件熵$H(D|A)$  \n",
    "    $H(D \\mid A)=\\sum_{i=1}^{n} \\frac{\\left|D_{i}\\right|}{|D|} H\\left(D_{i}\\right)=-\\sum_{i=1}^{n} \\frac{\\left|D_{i}\\right|}{|D|} \\sum_{k=1}^{k} \\frac{\\left|D_{ik}\\right|}{\\left|D_{i}\\right|} \\log _{2} \\frac{\\left|D_{ik}\\right|}{\\left|D_{i}\\right|}$\n",
    "    3. 计算信息增益   \n",
    "    $g(D,A) = H(D)-H(D|A)$\n"
   ]
  },
  {
   "cell_type": "markdown",
   "metadata": {},
   "source": [
    "+ 例子  \n",
    "![](./img/4_1.png)"
   ]
  },
  {
   "cell_type": "markdown",
   "metadata": {},
   "source": [
    "+ ID3算法： 在决策树递归构建过程中，使用信息增益的方法进行特征选择\n",
    "+ 决策树生成过程：  \n",
    " 1. 从根节点开始计算所有特征的信息增益，选择信息增益最大的特征作为结点特征\n",
    " 2. 再对子节点递归以上的方法，构建决策树\n",
    " 3. 所有特征信息增益很小或没有特征可以选择时递归结束得到一颗决策树"
   ]
  },
  {
   "cell_type": "markdown",
   "metadata": {},
   "source": [
    "# ID3代码实现\n",
    "![](./img/4_2.png)"
   ]
  },
  {
   "cell_type": "code",
   "execution_count": 1,
   "metadata": {
    "ExecuteTime": {
     "end_time": "2020-09-15T23:12:07.715050Z",
     "start_time": "2020-09-15T23:12:07.694050Z"
    }
   },
   "outputs": [
    {
     "data": {
      "text/plain": [
       "[[0, 0, 0, 0, 'no'], [0, 0, 0, 1, 'no'], [0, 1, 0, 1, 'yes']]"
      ]
     },
     "execution_count": 1,
     "metadata": {},
     "output_type": "execute_result"
    }
   ],
   "source": [
    "def loaddata():\n",
    "    feature_name = ['age','job','house','credit']\n",
    "    dataSet = [[0, 0,0,0, 'no'],\n",
    "               [0, 0,0,1,'no'],\n",
    "               [0, 1,0,1, 'yes'],\n",
    "               [0, 1,1,0, 'yes'],\n",
    "               [0, 0,0,0, 'no'],\n",
    "               [1, 0,0,0, 'no'],\n",
    "               [1, 0,0,1, 'no'],\n",
    "               [1, 1,1,1, 'yes'],\n",
    "               [1, 0,1,2, 'yes'],\n",
    "               [1, 0,1,2, 'yes'],\n",
    "               [2, 0,1,2, 'yes'],\n",
    "               [2, 0,1,1, 'yes'],\n",
    "               [2, 1,0,1, 'yes'],\n",
    "               [2, 1,0,2, 'yes'],\n",
    "               [2, 0,0,0,'no']]\n",
    "    \n",
    "    return dataSet, feature_name\n",
    "datas, features = loaddata()\n",
    "datas[:3]"
   ]
  },
  {
   "cell_type": "code",
   "execution_count": 18,
   "metadata": {
    "ExecuteTime": {
     "end_time": "2020-09-15T23:25:26.971904Z",
     "start_time": "2020-09-15T23:25:26.950904Z"
    }
   },
   "outputs": [],
   "source": [
    "from scipy import math\n",
    "def entropy(datas):\n",
    "    entropy_ = 0\n",
    "    label_counts = {}\n",
    "    goaldata = [d[-1] for d in datas]\n",
    "    length = len(datas)\n",
    "    for d in goaldata:\n",
    "        label_counts[d] = label_counts.get(d, 0) + 1\n",
    "    \n",
    "    for k, v in label_counts.items():\n",
    "        p = v / length\n",
    "        e_ = - p * math.log2(p)\n",
    "        entropy_ += e_\n",
    "    return entropy_\n",
    "\n",
    "def feature_entropy(datas, axis):\n",
    "    all_length = len(datas)\n",
    "    feature_entropy = 0\n",
    "    discounts = set([d[axis] for d in datas])\n",
    "    for dis in discounts:\n",
    "        data = [d for d in datas if d[axis] == dis]\n",
    "        data_length = len(data)\n",
    "        e = (data_length / all_length) * entropy(data)\n",
    "        feature_entropy += e\n",
    "    return feature_entropy\n",
    "\n",
    "def choose_best_feature(datas, features):\n",
    "    \n",
    "    all_e = entropy(datas)\n",
    "    info_gain = []\n",
    "    for idx, feature in enumerate(features):\n",
    "        feature_e = feature_entropy(datas, idx)\n",
    "        diff = all_e - feature_e\n",
    "        info_gain.append(diff)\n",
    "    \n",
    "    max_ = max(info_gain)\n",
    "    idx = info_gain.index(max_)\n",
    "    feature = features[idx]\n",
    "#     print(datas, features, info_gain)\n",
    "    return idx, feature\n",
    "    \n",
    "\n",
    "#划分数据集\n",
    "def split_dataset(datas, axis, value):\n",
    "    ret_dataset = [d[0:axis] + d[axis+1:] for d in datas if d[axis] == value]\n",
    "    return ret_dataset\n",
    "\n",
    "def class_vote(class_list):\n",
    "    class_set = set(class_list)\n",
    "    class_count = {c: class_list.count(c) for c in class_set}\n",
    "    class_count = sorted(class_count.items(), key=lambda d: d[1], reverse=True)\n",
    "    return class_count[0][0]\n",
    "\n",
    "def train_tree(datas, features):\n",
    "    classlist = [d[-1] for d in datas]\n",
    "    if len(set(classlist)) == 1: #就剩下一个类别\n",
    "        return classlist[0]\n",
    "    if len(datas[0]) == 2: #就剩下一个特征\n",
    "        return class_vote(classlist)\n",
    "    bestidx, bestfeature = choose_best_feature(datas, features)\n",
    "    my_tree = {bestfeature:{}}\n",
    "    sub_features = [f for f in features if f != bestfeature]\n",
    "    best_datas = [d[bestidx] for d in datas]\n",
    "    for value in set(best_datas):\n",
    "        sub_datas = split_dataset(datas, bestidx, value)\n",
    "        my_tree[bestfeature][value] = train_tree(sub_datas, sub_features)\n",
    "    return my_tree\n",
    "        "
   ]
  },
  {
   "cell_type": "code",
   "execution_count": 20,
   "metadata": {
    "ExecuteTime": {
     "end_time": "2020-09-15T23:28:43.041870Z",
     "start_time": "2020-09-15T23:28:43.036871Z"
    }
   },
   "outputs": [
    {
     "name": "stdout",
     "output_type": "stream",
     "text": [
      "{'house': {0: {'job': {0: 'no', 1: 'yes'}}, 1: 'yes'}}\n"
     ]
    }
   ],
   "source": [
    "datas, features = loaddata()\n",
    "mytree = train_tree(datas, features)\n",
    "print(mytree)"
   ]
  },
  {
   "cell_type": "code",
   "execution_count": 21,
   "metadata": {
    "ExecuteTime": {
     "end_time": "2020-09-15T23:31:00.592564Z",
     "start_time": "2020-09-15T23:31:00.586565Z"
    }
   },
   "outputs": [
    {
     "data": {
      "text/plain": [
       "dict_keys(['house'])"
      ]
     },
     "execution_count": 21,
     "metadata": {},
     "output_type": "execute_result"
    }
   ],
   "source": [
    "mytree.keys()"
   ]
  },
  {
   "cell_type": "code",
   "execution_count": 43,
   "metadata": {
    "ExecuteTime": {
     "end_time": "2020-09-15T23:42:01.062337Z",
     "start_time": "2020-09-15T23:42:01.056334Z"
    }
   },
   "outputs": [],
   "source": [
    "def predict(mytree, features, testdata):\n",
    "    firstkey = list(mytree.keys())[0]\n",
    "    subtree = mytree.get(firstkey)\n",
    "    idx = features.index(firstkey)\n",
    "    dv = testdata[idx]\n",
    "    subtree = subtree.get(dv)\n",
    "    if isinstance(subtree, dict):\n",
    "        classlabel = predict(subtree, features, testdata)\n",
    "    else:\n",
    "        classlabel = subtree\n",
    "        \n",
    "    return classlabel\n",
    "        "
   ]
  },
  {
   "cell_type": "code",
   "execution_count": 44,
   "metadata": {
    "ExecuteTime": {
     "end_time": "2020-09-15T23:42:01.623337Z",
     "start_time": "2020-09-15T23:42:01.618337Z"
    }
   },
   "outputs": [
    {
     "data": {
      "text/plain": [
       "'yes'"
      ]
     },
     "execution_count": 44,
     "metadata": {},
     "output_type": "execute_result"
    }
   ],
   "source": [
    "predict(mytree, features, [1, 1, 0, 1])"
   ]
  },
  {
   "cell_type": "code",
   "execution_count": 60,
   "metadata": {
    "ExecuteTime": {
     "end_time": "2020-09-15T23:51:53.946593Z",
     "start_time": "2020-09-15T23:51:53.465589Z"
    }
   },
   "outputs": [
    {
     "data": {
      "text/plain": [
       "DecisionTreeClassifier(ccp_alpha=0.0, class_weight=None, criterion='gini',\n",
       "                       max_depth=None, max_features=None, max_leaf_nodes=None,\n",
       "                       min_impurity_decrease=0.0, min_impurity_split=None,\n",
       "                       min_samples_leaf=1, min_samples_split=2,\n",
       "                       min_weight_fraction_leaf=0.0, presort='deprecated',\n",
       "                       random_state=None, splitter='best')"
      ]
     },
     "execution_count": 60,
     "metadata": {},
     "output_type": "execute_result"
    },
    {
     "data": {
      "text/plain": [
       "array(['yes'], dtype='<U3')"
      ]
     },
     "execution_count": 60,
     "metadata": {},
     "output_type": "execute_result"
    },
    {
     "data": {
      "text/plain": [
       "[Text(200.88000000000002, 181.2, 'house <= 0.5\\ngini = 0.48\\nsamples = 15\\nvalue = [6, 9]'),\n",
       " Text(133.92000000000002, 108.72, 'job <= 0.5\\ngini = 0.444\\nsamples = 9\\nvalue = [6, 3]'),\n",
       " Text(66.96000000000001, 36.23999999999998, 'gini = 0.0\\nsamples = 6\\nvalue = [6, 0]'),\n",
       " Text(200.88000000000002, 36.23999999999998, 'gini = 0.0\\nsamples = 3\\nvalue = [0, 3]'),\n",
       " Text(267.84000000000003, 108.72, 'gini = 0.0\\nsamples = 6\\nvalue = [0, 6]')]"
      ]
     },
     "execution_count": 60,
     "metadata": {},
     "output_type": "execute_result"
    },
    {
     "data": {
      "image/png": "[encoded data removed]",
      "text/plain": [
       "<Figure size 432x288 with 1 Axes>"
      ]
     },
     "metadata": {
      "needs_background": "light"
     },
     "output_type": "display_data"
    }
   ],
   "source": [
    "from sklearn.tree import DecisionTreeClassifier, plot_tree\n",
    "dtc = DecisionTreeClassifier()\n",
    "X = np.array([d[:-1] for d in datas])\n",
    "y = np.array([d[-1] for d in datas]).reshape(-1, 1)\n",
    "dtc.fit(X, y)\n",
    "dtc.predict([[1, 1, 0, 1]])\n",
    "plot_tree(dtc, feature_names=features)"
   ]
  },
  {
   "cell_type": "markdown",
   "metadata": {},
   "source": [
    "# C4.5算法"
   ]
  },
  {
   "cell_type": "markdown",
   "metadata": {},
   "source": [
    "C4.5是对ID3的改进， 在树的生成过程中，使用信息增益比来选择特征  \n",
    "ID3计算信息增益的公式：$g(D,A)=H(D)-H(D|A)$  \n",
    "C4.5计算信息增益比公式：  \n",
    "$g_{R}(D, A)=\\frac{g(D, A)}{H_{A}(D)}$  \n",
    "其中$H_{A}(D)=-\\sum_{i=1}^{n} \\frac{\\left|D_{i}\\right|}{|D|} \\log _{2} \\frac{\\left|D_{i}\\right|}{|D|}$"
   ]
  },
  {
   "cell_type": "markdown",
   "metadata": {},
   "source": [
    "# Gini指数"
   ]
  },
  {
   "cell_type": "markdown",
   "metadata": {},
   "source": [
    "CART算法：在树生成过程中，使用基尼指数选择最优特征。征程的是二叉树。  \n",
    "1. 设样本点属于第K累的概率为$p_k$, 则$Gini(p)=\\sum_{k=1}^{k}p_k(1-p_k)=1-\\sum_{k=1}^{k}p_k^2$   \n",
    "2. 给定样本集合D， 起基尼指数为： $\\operatorname{Gini}(D)=1-\\sum_{k=1}^{K}\\left(\\frac{|C_{k} \\mid}{|D|}\\right)^{2}$  \n",
    "3. 在特定A的条件下，集合D的基尼指数为：$\\operatorname{Gini}(D, A)=\\frac{\\left|D_{1}\\right|}{|D|} \\operatorname{Gini}(D 1)+\\frac{\\left|D_{2}\\right|}{|D|} \\operatorname{Gini}(D 2)$  \n",
    "基尼指数越大，样本你的不确定性越大，这点与熵相似。"
   ]
  },
  {
   "cell_type": "markdown",
   "metadata": {},
   "source": [
    "# 决策树剪枝\n",
    "+ 预剪枝（根据验证集精度是否提升，不提高去停止）\n",
    "+ 后剪枝（先生成整个树，然后找到最深的叶子节点，如果去掉，精度提升，则剪掉），训练开销大，泛化性能好"
   ]
  },
  {
   "cell_type": "markdown",
   "metadata": {},
   "source": [
    "# 决策树处理连续值和离散值\n",
    "+ 连续值， 采用二分法\n",
    "+ 缺失值， 不包含缺失值计算信息增益，然后计算非缺失值比例。然后缺失值的数据按照权重进入所有的分支里。"
   ]
  },
  {
   "cell_type": "markdown",
   "metadata": {},
   "source": [
    "# 多变量决策树\n",
    "分裂的时候使用线性分类器"
   ]
  },
  {
   "cell_type": "markdown",
   "metadata": {},
   "source": [
    "# sklearn"
   ]
  },
  {
   "cell_type": "code",
   "execution_count": 6,
   "metadata": {
    "ExecuteTime": {
     "end_time": "2020-09-22T23:15:35.658866Z",
     "start_time": "2020-09-22T23:15:35.653821Z"
    }
   },
   "outputs": [],
   "source": [
    "from sklearn.tree import DecisionTreeClassifier, plot_tree"
   ]
  },
  {
   "cell_type": "markdown",
   "metadata": {},
   "source": [
    "Sklearn中实现的决策树都是二叉树\n",
    "\n",
    "DecisionTreeClassifier的常用参数含义：\n",
    "- criterion：‘gini’ or ‘entropy’ (default=”gini”)，前者是基尼系数，后者是信息熵。\n",
    "- max_depth：决策树最大深度。常用来解决过拟合。\n",
    "- min_impurity_decrease：这个值限制了决策树的增长，如果某节点的不纯度(基尼系数，信息增益)小于这个阈值，则该节点不再生成子节点。\n",
    "- min_samples_split：如果是 int，则取传入值本身作为最小样本数； 如果是 float，则用 ceil(min_samples_split * 样本数量) 的值作为最小样本数，即向上取整。\n",
    "- min_samples_leaf：如果是 int，则取传入值本身作为最小样本数； 如果是 float，则去 ceil(min_samples_leaf * 样本数量) 的值作为最小样本数，即向上取整。 这个值限制了叶子节点最少的样本数，如果某叶子节点数目小于样本数，则会和兄弟节点一起被剪枝。\n",
    "- max_leaf_nodes：最大叶子节点数。如果特征不多，可以不考虑这个值，但是如果特征分成多的话，可以加以限制，具体的值可以通过交叉验证得到。\n",
    "- min_impurity_split：决策树在创建分支时，信息增益（基尼系数）必须大于这个阀值，否则不分裂"
   ]
  },
  {
   "cell_type": "code",
   "execution_count": 7,
   "metadata": {
    "ExecuteTime": {
     "end_time": "2020-09-22T23:15:37.470451Z",
     "start_time": "2020-09-22T23:15:37.460444Z"
    }
   },
   "outputs": [],
   "source": [
    "def loaddata():\n",
    "    dataSet = [[0, 0,0,0, 'no'],\n",
    "               [0, 0,0,1,'no'],\n",
    "               [0, 1,0,1, 'yes'],\n",
    "               [0, 1,1,0, 'yes'],\n",
    "               [0, 0,0,0, 'no'],\n",
    "               [1, 0,0,0, 'no'],\n",
    "               [1, 0,0,1, 'no'],\n",
    "               [1, 1,1,1, 'yes'],\n",
    "               [1, 0,1,2, 'yes'],\n",
    "               [1, 0,1,2, 'yes'],\n",
    "               [2, 0,1,2, 'yes'],\n",
    "               [2, 0,1,1, 'yes'],\n",
    "               [2, 1,0,1, 'yes'],\n",
    "               [2, 1,0,2, 'yes'],\n",
    "               [2, 0,0,0,'no']]\n",
    "    feature_name = ['age','job','house','credit']\n",
    "    return dataSet, feature_name"
   ]
  },
  {
   "cell_type": "code",
   "execution_count": 9,
   "metadata": {
    "ExecuteTime": {
     "end_time": "2020-09-22T23:20:31.666230Z",
     "start_time": "2020-09-22T23:20:31.352231Z"
    },
    "scrolled": false
   },
   "outputs": [
    {
     "data": {
      "text/plain": [
       "DecisionTreeClassifier(ccp_alpha=0.0, class_weight=None, criterion='gini',\n",
       "                       max_depth=None, max_features=None, max_leaf_nodes=None,\n",
       "                       min_impurity_decrease=0.0, min_impurity_split=None,\n",
       "                       min_samples_leaf=1, min_samples_split=2,\n",
       "                       min_weight_fraction_leaf=0.0, presort='deprecated',\n",
       "                       random_state=None, splitter='best')"
      ]
     },
     "execution_count": 9,
     "metadata": {},
     "output_type": "execute_result"
    },
    {
     "data": {
      "text/plain": [
       "array(['yes'], dtype='<U11')"
      ]
     },
     "execution_count": 9,
     "metadata": {},
     "output_type": "execute_result"
    },
    {
     "data": {
      "text/plain": [
       "[Text(200.88000000000002, 181.2, 'house <= 0.5\\ngini = 0.48\\nsamples = 15\\nvalue = [6, 9]'),\n",
       " Text(133.92000000000002, 108.72, 'job <= 0.5\\ngini = 0.444\\nsamples = 9\\nvalue = [6, 3]'),\n",
       " Text(66.96000000000001, 36.23999999999998, 'gini = 0.0\\nsamples = 6\\nvalue = [6, 0]'),\n",
       " Text(200.88000000000002, 36.23999999999998, 'gini = 0.0\\nsamples = 3\\nvalue = [0, 3]'),\n",
       " Text(267.84000000000003, 108.72, 'gini = 0.0\\nsamples = 6\\nvalue = [0, 6]')]"
      ]
     },
     "execution_count": 9,
     "metadata": {},
     "output_type": "execute_result"
    },
    {
     "data": {
      "image/png": "[encoded data removed]",
      "text/plain": [
       "<Figure size 432x288 with 1 Axes>"
      ]
     },
     "metadata": {
      "needs_background": "light"
     },
     "output_type": "display_data"
    }
   ],
   "source": [
    "myDat,feature_name = loaddata()\n",
    "X = np.array(myDat)[:,0:4]\n",
    "y = np.array(myDat)[:,-1]\n",
    "model = DecisionTreeClassifier()\n",
    "model.fit(X,y)\n",
    "model.predict([[1,1,0,1]])\n",
    "plot_tree(model, feature_names=feature_name)"
   ]
  },
  {
   "cell_type": "markdown",
   "metadata": {},
   "source": [
    "# 使用决策树进行个人信用风险评估\n",
    "[1 数据源](#1)<br>\n",
    "[2 数据探索和预处理](#2)<br>\n",
    "[3 划分训练集和测试集](#3)<br>\n",
    "[4 模型训练](#4)<br>\n",
    "[5 模型性能评估](#5)<br>\n",
    "[6 模型性能提升](#6)<br>"
   ]
  },
  {
   "cell_type": "markdown",
   "metadata": {},
   "source": [
    "## 数据源\n",
    "使用UCI上的德国信用数据集。该数据集包含了1000个贷款信息，每一个贷款有20个自变量和一个类变量记录该笔贷款是否违约。\n",
    "我们将使用该数据集构建模型来预测贷款是否违约。"
   ]
  },
  {
   "cell_type": "markdown",
   "metadata": {},
   "source": [
    "## 数据探索和预处理"
   ]
  },
  {
   "cell_type": "code",
   "execution_count": 19,
   "metadata": {
    "ExecuteTime": {
     "end_time": "2020-09-23T23:25:34.102990Z",
     "start_time": "2020-09-23T23:25:34.026991Z"
    }
   },
   "outputs": [
    {
     "data": {
      "text/html": [
       "<div>\n",
       "<style scoped>\n",
       "    .dataframe tbody tr th:only-of-type {\n",
       "        vertical-align: middle;\n",
       "    }\n",
       "\n",
       "    .dataframe tbody tr th {\n",
       "        vertical-align: top;\n",
       "    }\n",
       "\n",
       "    .dataframe thead th {\n",
       "        text-align: right;\n",
       "    }\n",
       "</style>\n",
       "<table border=\"1\" class=\"dataframe\">\n",
       "  <thead>\n",
       "    <tr style=\"text-align: right;\">\n",
       "      <th></th>\n",
       "      <th>default</th>\n",
       "      <th>account_check_status</th>\n",
       "      <th>duration_in_month</th>\n",
       "      <th>credit_history</th>\n",
       "      <th>purpose</th>\n",
       "      <th>credit_amount</th>\n",
       "      <th>savings</th>\n",
       "      <th>present_emp_since</th>\n",
       "      <th>installment_as_income_perc</th>\n",
       "      <th>personal_status_sex</th>\n",
       "      <th>...</th>\n",
       "      <th>present_res_since</th>\n",
       "      <th>property</th>\n",
       "      <th>age</th>\n",
       "      <th>other_installment_plans</th>\n",
       "      <th>housing</th>\n",
       "      <th>credits_this_bank</th>\n",
       "      <th>job</th>\n",
       "      <th>people_under_maintenance</th>\n",
       "      <th>telephone</th>\n",
       "      <th>foreign_worker</th>\n",
       "    </tr>\n",
       "  </thead>\n",
       "  <tbody>\n",
       "    <tr>\n",
       "      <th>0</th>\n",
       "      <td>0</td>\n",
       "      <td>&lt; 0 DM</td>\n",
       "      <td>6</td>\n",
       "      <td>critical account/ other credits existing (not ...</td>\n",
       "      <td>domestic appliances</td>\n",
       "      <td>1169</td>\n",
       "      <td>unknown/ no savings account</td>\n",
       "      <td>.. &gt;= 7 years</td>\n",
       "      <td>4</td>\n",
       "      <td>male : single</td>\n",
       "      <td>...</td>\n",
       "      <td>4</td>\n",
       "      <td>real estate</td>\n",
       "      <td>67</td>\n",
       "      <td>none</td>\n",
       "      <td>own</td>\n",
       "      <td>2</td>\n",
       "      <td>skilled employee / official</td>\n",
       "      <td>1</td>\n",
       "      <td>yes, registered under the customers name</td>\n",
       "      <td>yes</td>\n",
       "    </tr>\n",
       "    <tr>\n",
       "      <th>1</th>\n",
       "      <td>1</td>\n",
       "      <td>0 &lt;= ... &lt; 200 DM</td>\n",
       "      <td>48</td>\n",
       "      <td>existing credits paid back duly till now</td>\n",
       "      <td>domestic appliances</td>\n",
       "      <td>5951</td>\n",
       "      <td>... &lt; 100 DM</td>\n",
       "      <td>1 &lt;= ... &lt; 4 years</td>\n",
       "      <td>2</td>\n",
       "      <td>female : divorced/separated/married</td>\n",
       "      <td>...</td>\n",
       "      <td>2</td>\n",
       "      <td>real estate</td>\n",
       "      <td>22</td>\n",
       "      <td>none</td>\n",
       "      <td>own</td>\n",
       "      <td>1</td>\n",
       "      <td>skilled employee / official</td>\n",
       "      <td>1</td>\n",
       "      <td>none</td>\n",
       "      <td>yes</td>\n",
       "    </tr>\n",
       "  </tbody>\n",
       "</table>\n",
       "<p>2 rows × 21 columns</p>\n",
       "</div>"
      ],
      "text/plain": [
       "   default account_check_status  duration_in_month  \\\n",
       "0        0               < 0 DM                  6   \n",
       "1        1    0 <= ... < 200 DM                 48   \n",
       "\n",
       "                                      credit_history              purpose  \\\n",
       "0  critical account/ other credits existing (not ...  domestic appliances   \n",
       "1           existing credits paid back duly till now  domestic appliances   \n",
       "\n",
       "   credit_amount                      savings   present_emp_since  \\\n",
       "0           1169  unknown/ no savings account       .. >= 7 years   \n",
       "1           5951                 ... < 100 DM  1 <= ... < 4 years   \n",
       "\n",
       "   installment_as_income_perc                  personal_status_sex  ...  \\\n",
       "0                           4                        male : single  ...   \n",
       "1                           2  female : divorced/separated/married  ...   \n",
       "\n",
       "  present_res_since     property age  other_installment_plans housing  \\\n",
       "0                 4  real estate  67                     none     own   \n",
       "1                 2  real estate  22                     none     own   \n",
       "\n",
       "  credits_this_bank                          job people_under_maintenance  \\\n",
       "0                 2  skilled employee / official                        1   \n",
       "1                 1  skilled employee / official                        1   \n",
       "\n",
       "                                   telephone foreign_worker  \n",
       "0  yes, registered under the customers name             yes  \n",
       "1                                       none            yes  \n",
       "\n",
       "[2 rows x 21 columns]"
      ]
     },
     "execution_count": 19,
     "metadata": {},
     "output_type": "execute_result"
    }
   ],
   "source": [
    "credit = pd.read_csv(\"./data/4_1.csv\")\n",
    "credit.head(2)"
   ]
  },
  {
   "cell_type": "code",
   "execution_count": 20,
   "metadata": {
    "ExecuteTime": {
     "end_time": "2020-09-23T23:25:34.691517Z",
     "start_time": "2020-09-23T23:25:34.670515Z"
    }
   },
   "outputs": [
    {
     "name": "stdout",
     "output_type": "stream",
     "text": [
      "<class 'pandas.core.frame.DataFrame'>\n",
      "RangeIndex: 1000 entries, 0 to 999\n",
      "Data columns (total 21 columns):\n",
      " #   Column                      Non-Null Count  Dtype \n",
      "---  ------                      --------------  ----- \n",
      " 0   default                     1000 non-null   int64 \n",
      " 1   account_check_status        1000 non-null   object\n",
      " 2   duration_in_month           1000 non-null   int64 \n",
      " 3   credit_history              1000 non-null   object\n",
      " 4   purpose                     1000 non-null   object\n",
      " 5   credit_amount               1000 non-null   int64 \n",
      " 6   savings                     1000 non-null   object\n",
      " 7   present_emp_since           1000 non-null   object\n",
      " 8   installment_as_income_perc  1000 non-null   int64 \n",
      " 9   personal_status_sex         1000 non-null   object\n",
      " 10  other_debtors               1000 non-null   object\n",
      " 11  present_res_since           1000 non-null   int64 \n",
      " 12  property                    1000 non-null   object\n",
      " 13  age                         1000 non-null   int64 \n",
      " 14  other_installment_plans     1000 non-null   object\n",
      " 15  housing                     1000 non-null   object\n",
      " 16  credits_this_bank           1000 non-null   int64 \n",
      " 17  job                         1000 non-null   object\n",
      " 18  people_under_maintenance    1000 non-null   int64 \n",
      " 19  telephone                   1000 non-null   object\n",
      " 20  foreign_worker              1000 non-null   object\n",
      "dtypes: int64(8), object(13)\n",
      "memory usage: 164.2+ KB\n"
     ]
    }
   ],
   "source": [
    "credit.info()"
   ]
  },
  {
   "cell_type": "code",
   "execution_count": 21,
   "metadata": {
    "ExecuteTime": {
     "end_time": "2020-09-23T23:25:35.401524Z",
     "start_time": "2020-09-23T23:25:35.271512Z"
    }
   },
   "outputs": [
    {
     "data": {
      "text/html": [
       "<div>\n",
       "<style scoped>\n",
       "    .dataframe tbody tr th:only-of-type {\n",
       "        vertical-align: middle;\n",
       "    }\n",
       "\n",
       "    .dataframe tbody tr th {\n",
       "        vertical-align: top;\n",
       "    }\n",
       "\n",
       "    .dataframe thead th {\n",
       "        text-align: right;\n",
       "    }\n",
       "</style>\n",
       "<table border=\"1\" class=\"dataframe\">\n",
       "  <thead>\n",
       "    <tr style=\"text-align: right;\">\n",
       "      <th></th>\n",
       "      <th>default</th>\n",
       "      <th>account_check_status</th>\n",
       "      <th>duration_in_month</th>\n",
       "      <th>credit_history</th>\n",
       "      <th>purpose</th>\n",
       "      <th>credit_amount</th>\n",
       "      <th>savings</th>\n",
       "      <th>present_emp_since</th>\n",
       "      <th>installment_as_income_perc</th>\n",
       "      <th>personal_status_sex</th>\n",
       "      <th>...</th>\n",
       "      <th>present_res_since</th>\n",
       "      <th>property</th>\n",
       "      <th>age</th>\n",
       "      <th>other_installment_plans</th>\n",
       "      <th>housing</th>\n",
       "      <th>credits_this_bank</th>\n",
       "      <th>job</th>\n",
       "      <th>people_under_maintenance</th>\n",
       "      <th>telephone</th>\n",
       "      <th>foreign_worker</th>\n",
       "    </tr>\n",
       "  </thead>\n",
       "  <tbody>\n",
       "    <tr>\n",
       "      <th>0</th>\n",
       "      <td>0</td>\n",
       "      <td>1</td>\n",
       "      <td>6</td>\n",
       "      <td>1</td>\n",
       "      <td>0</td>\n",
       "      <td>1169</td>\n",
       "      <td>1</td>\n",
       "      <td>1</td>\n",
       "      <td>4</td>\n",
       "      <td>0</td>\n",
       "      <td>...</td>\n",
       "      <td>4</td>\n",
       "      <td>1</td>\n",
       "      <td>67</td>\n",
       "      <td>0</td>\n",
       "      <td>0</td>\n",
       "      <td>2</td>\n",
       "      <td>0</td>\n",
       "      <td>1</td>\n",
       "      <td>1</td>\n",
       "      <td>0</td>\n",
       "    </tr>\n",
       "    <tr>\n",
       "      <th>1</th>\n",
       "      <td>1</td>\n",
       "      <td>2</td>\n",
       "      <td>48</td>\n",
       "      <td>0</td>\n",
       "      <td>0</td>\n",
       "      <td>5951</td>\n",
       "      <td>0</td>\n",
       "      <td>0</td>\n",
       "      <td>2</td>\n",
       "      <td>1</td>\n",
       "      <td>...</td>\n",
       "      <td>2</td>\n",
       "      <td>1</td>\n",
       "      <td>22</td>\n",
       "      <td>0</td>\n",
       "      <td>0</td>\n",
       "      <td>1</td>\n",
       "      <td>0</td>\n",
       "      <td>1</td>\n",
       "      <td>0</td>\n",
       "      <td>0</td>\n",
       "    </tr>\n",
       "    <tr>\n",
       "      <th>2</th>\n",
       "      <td>0</td>\n",
       "      <td>0</td>\n",
       "      <td>12</td>\n",
       "      <td>1</td>\n",
       "      <td>5</td>\n",
       "      <td>2096</td>\n",
       "      <td>0</td>\n",
       "      <td>2</td>\n",
       "      <td>2</td>\n",
       "      <td>0</td>\n",
       "      <td>...</td>\n",
       "      <td>3</td>\n",
       "      <td>1</td>\n",
       "      <td>49</td>\n",
       "      <td>0</td>\n",
       "      <td>0</td>\n",
       "      <td>1</td>\n",
       "      <td>1</td>\n",
       "      <td>2</td>\n",
       "      <td>0</td>\n",
       "      <td>0</td>\n",
       "    </tr>\n",
       "    <tr>\n",
       "      <th>3</th>\n",
       "      <td>0</td>\n",
       "      <td>1</td>\n",
       "      <td>42</td>\n",
       "      <td>0</td>\n",
       "      <td>2</td>\n",
       "      <td>7882</td>\n",
       "      <td>0</td>\n",
       "      <td>2</td>\n",
       "      <td>2</td>\n",
       "      <td>0</td>\n",
       "      <td>...</td>\n",
       "      <td>4</td>\n",
       "      <td>2</td>\n",
       "      <td>45</td>\n",
       "      <td>0</td>\n",
       "      <td>1</td>\n",
       "      <td>1</td>\n",
       "      <td>0</td>\n",
       "      <td>2</td>\n",
       "      <td>0</td>\n",
       "      <td>0</td>\n",
       "    </tr>\n",
       "    <tr>\n",
       "      <th>4</th>\n",
       "      <td>1</td>\n",
       "      <td>1</td>\n",
       "      <td>24</td>\n",
       "      <td>2</td>\n",
       "      <td>1</td>\n",
       "      <td>4870</td>\n",
       "      <td>0</td>\n",
       "      <td>0</td>\n",
       "      <td>3</td>\n",
       "      <td>0</td>\n",
       "      <td>...</td>\n",
       "      <td>4</td>\n",
       "      <td>3</td>\n",
       "      <td>53</td>\n",
       "      <td>0</td>\n",
       "      <td>1</td>\n",
       "      <td>2</td>\n",
       "      <td>0</td>\n",
       "      <td>2</td>\n",
       "      <td>0</td>\n",
       "      <td>0</td>\n",
       "    </tr>\n",
       "  </tbody>\n",
       "</table>\n",
       "<p>5 rows × 21 columns</p>\n",
       "</div>"
      ],
      "text/plain": [
       "   default  account_check_status  duration_in_month  credit_history  purpose  \\\n",
       "0        0                     1                  6               1        0   \n",
       "1        1                     2                 48               0        0   \n",
       "2        0                     0                 12               1        5   \n",
       "3        0                     1                 42               0        2   \n",
       "4        1                     1                 24               2        1   \n",
       "\n",
       "   credit_amount  savings  present_emp_since  installment_as_income_perc  \\\n",
       "0           1169        1                  1                           4   \n",
       "1           5951        0                  0                           2   \n",
       "2           2096        0                  2                           2   \n",
       "3           7882        0                  2                           2   \n",
       "4           4870        0                  0                           3   \n",
       "\n",
       "   personal_status_sex  ...  present_res_since  property  age  \\\n",
       "0                    0  ...                  4         1   67   \n",
       "1                    1  ...                  2         1   22   \n",
       "2                    0  ...                  3         1   49   \n",
       "3                    0  ...                  4         2   45   \n",
       "4                    0  ...                  4         3   53   \n",
       "\n",
       "   other_installment_plans  housing  credits_this_bank  job  \\\n",
       "0                        0        0                  2    0   \n",
       "1                        0        0                  1    0   \n",
       "2                        0        0                  1    1   \n",
       "3                        0        1                  1    0   \n",
       "4                        0        1                  2    0   \n",
       "\n",
       "   people_under_maintenance  telephone  foreign_worker  \n",
       "0                         1          1               0  \n",
       "1                         1          0               0  \n",
       "2                         2          0               0  \n",
       "3                         2          0               0  \n",
       "4                         2          0               0  \n",
       "\n",
       "[5 rows x 21 columns]"
      ]
     },
     "execution_count": 21,
     "metadata": {},
     "output_type": "execute_result"
    }
   ],
   "source": [
    "#取字符串的数组\n",
    "cols = ['account_check_status','credit_history', 'purpose', 'savings', 'present_emp_since','personal_status_sex', \n",
    "        'other_debtors','property','other_installment_plans','housing','job','telephone','foreign_worker']\n",
    "#映射字典\n",
    "col_dicts = {}\n",
    "col_dicts = {\n",
    "  'account_check_status': {\n",
    "    '0 <= ... < 200 DM': 2,\n",
    "    '< 0 DM': 1,\n",
    "    '>= 200 DM / salary assignments for at least 1 year': 3,\n",
    "    'no checking account': 0\n",
    "  },\n",
    "             \n",
    "  'credit_history': {\n",
    "      'existing credits paid back duly till now': 0,\n",
    "      'critical account/ other credits existing (not at this bank)': 1,\n",
    "      'delay in paying off in the past': 2,\n",
    "      'all credits at this bank paid back duly': 3,\n",
    "      'no credits taken/ all credits paid back duly': 4\n",
    "  },\n",
    "           \n",
    "  'purpose': {\n",
    "      'domestic appliances': 0,\n",
    "      'car (new)': 1,\n",
    "      'radio/television': 2,\n",
    "      'car (used)': 3,\n",
    "      'business': 4,\n",
    "      '(vacation - does not exist?)': 5,\n",
    "      'education': 6,\n",
    "      'furniture/equipment': 7,\n",
    "      'repairs': 8,\n",
    "      'retraining': 9\n",
    "  },\n",
    "                \n",
    " 'savings': {'... < 100 DM': 0,\n",
    "  'unknown/ no savings account': 1,\n",
    "  '100 <= ... < 500 DM': 2,\n",
    "  '500 <= ... < 1000 DM': 3,\n",
    "  '.. >= 1000 DM': 4},\n",
    "  \n",
    " 'present_emp_since':{\n",
    "     '1 <= ... < 4 years':0,\n",
    "     '.. >= 7 years':1,\n",
    "     '4 <= ... < 7 years':2,\n",
    "     '... < 1 year':3,\n",
    "     'unemployed':4\n",
    " },\n",
    " \n",
    "'other_installment_plans':{\n",
    "    'none':0,\n",
    "    'bank':1,\n",
    "    'stores':2\n",
    "},\n",
    "             \n",
    " 'foreign_worker': {'no': 1, 'yes': 0},\n",
    "             \n",
    " 'housing': {'for free': 1, 'own': 0, 'rent': 2},\n",
    "                               \n",
    " 'job': {'skilled employee / official': 0,\n",
    "  'unskilled - resident': 1,\n",
    "  'management/ self-employed/ highly qualified employee/ officer': 2,\n",
    "  'unemployed/ unskilled - non-resident': 3},\n",
    "             \n",
    " 'other_debtors': {'co-applicant': 2, 'guarantor': 1, 'none': 0},\n",
    "             \n",
    " 'personal_status_sex': {'male : single': 0,\n",
    "  'female : divorced/separated/married': 1,\n",
    "  'male : married/widowed': 2,\n",
    "  'male : divorced/separated': 3},\n",
    "           \n",
    " 'property': {'if not A121/A122 : car or other, not in attribute 6': 0,\n",
    "  'real estate': 1,\n",
    "  'if not A121 : building society savings agreement/ life insurance': 2,\n",
    "  'unknown / no property': 3},\n",
    "             \n",
    " 'telephone': {'none': 0, 'yes, registered under the customers name': 1}}\n",
    "\n",
    "for col in cols:\n",
    "    credit[col] = credit[col].map(lambda x: x.strip())\n",
    "    credit[col] = credit[col].map(col_dicts[col])\n",
    "    \n",
    "credit.head(5)"
   ]
  },
  {
   "cell_type": "markdown",
   "metadata": {},
   "source": [
    "## 划分数据集"
   ]
  },
  {
   "cell_type": "code",
   "execution_count": 22,
   "metadata": {
    "ExecuteTime": {
     "end_time": "2020-09-23T23:25:36.670271Z",
     "start_time": "2020-09-23T23:25:36.652268Z"
    }
   },
   "outputs": [],
   "source": [
    "from sklearn.model_selection import train_test_split\n",
    "y = credit['default']\n",
    "X  = credit.loc[:,'account_check_status':'foreign_worker']\n",
    "X_train, X_test, y_train, y_test = train_test_split(X, y, test_size=0.3, random_state=1)"
   ]
  },
  {
   "cell_type": "code",
   "execution_count": 23,
   "metadata": {
    "ExecuteTime": {
     "end_time": "2020-09-23T23:25:37.326051Z",
     "start_time": "2020-09-23T23:25:37.312050Z"
    }
   },
   "outputs": [
    {
     "name": "stdout",
     "output_type": "stream",
     "text": [
      "0    0.694286\n",
      "1    0.305714\n",
      "Name: default, dtype: float64\n",
      "0    0.713333\n",
      "1    0.286667\n",
      "Name: default, dtype: float64\n"
     ]
    }
   ],
   "source": [
    "print (y_train.value_counts()/len(y_train))\n",
    "print (y_test.value_counts()/len(y_test))"
   ]
  },
  {
   "cell_type": "markdown",
   "metadata": {},
   "source": [
    "# 模型训练"
   ]
  },
  {
   "cell_type": "code",
   "execution_count": 24,
   "metadata": {
    "ExecuteTime": {
     "end_time": "2020-09-23T23:25:38.506053Z",
     "start_time": "2020-09-23T23:25:38.501047Z"
    }
   },
   "outputs": [],
   "source": [
    "from sklearn.tree import DecisionTreeClassifier, plot_tree"
   ]
  },
  {
   "cell_type": "code",
   "execution_count": 25,
   "metadata": {
    "ExecuteTime": {
     "end_time": "2020-09-23T23:25:46.830877Z",
     "start_time": "2020-09-23T23:25:39.219049Z"
    },
    "scrolled": false
   },
   "outputs": [
    {
     "data": {
      "text/plain": [
       "DecisionTreeClassifier(ccp_alpha=0.0, class_weight=None, criterion='gini',\n",
       "                       max_depth=None, max_features=None, max_leaf_nodes=None,\n",
       "                       min_impurity_decrease=0.0, min_impurity_split=None,\n",
       "                       min_samples_leaf=6, min_samples_split=2,\n",
       "                       min_weight_fraction_leaf=0.0, presort='deprecated',\n",
       "                       random_state=1, splitter='best')"
      ]
     },
     "execution_count": 25,
     "metadata": {},
     "output_type": "execute_result"
    },
    {
     "data": {
      "text/plain": [
       "[Text(159.09154411764706, 208.38, 'X[0] <= 0.5\\ngini = 0.425\\nsamples = 700\\nvalue = [486, 214]'),\n",
       " Text(81.85367647058824, 190.26, 'X[13] <= 0.5\\ngini = 0.221\\nsamples = 276\\nvalue = [241, 35]'),\n",
       " Text(60.31323529411765, 172.14, 'X[9] <= 0.5\\ngini = 0.167\\nsamples = 229\\nvalue = [208, 21]'),\n",
       " Text(46.773529411764706, 154.01999999999998, 'X[4] <= 4367.5\\ngini = 0.144\\nsamples = 217\\nvalue = [200, 17]'),\n",
       " Text(34.464705882352945, 135.89999999999998, 'X[3] <= 5.5\\ngini = 0.088\\nsamples = 174\\nvalue = [166, 8]'),\n",
       " Text(29.541176470588237, 117.77999999999999, 'X[11] <= 0.5\\ngini = 0.07\\nsamples = 166\\nvalue = [160, 6]'),\n",
       " Text(19.694117647058825, 99.66, 'X[4] <= 3230.5\\ngini = 0.165\\nsamples = 55\\nvalue = [50, 5]'),\n",
       " Text(14.770588235294118, 81.53999999999999, 'X[2] <= 1.5\\ngini = 0.115\\nsamples = 49\\nvalue = [46, 3]'),\n",
       " Text(9.847058823529412, 63.41999999999999, 'X[4] <= 1192.5\\ngini = 0.046\\nsamples = 42\\nvalue = [41, 1]'),\n",
       " Text(4.923529411764706, 45.29999999999998, 'gini = 0.245\\nsamples = 7\\nvalue = [6, 1]'),\n",
       " Text(14.770588235294118, 45.29999999999998, 'gini = 0.0\\nsamples = 35\\nvalue = [35, 0]'),\n",
       " Text(19.694117647058825, 63.41999999999999, 'gini = 0.408\\nsamples = 7\\nvalue = [5, 2]'),\n",
       " Text(24.61764705882353, 81.53999999999999, 'gini = 0.444\\nsamples = 6\\nvalue = [4, 2]'),\n",
       " Text(39.38823529411765, 99.66, 'X[1] <= 25.5\\ngini = 0.018\\nsamples = 111\\nvalue = [110, 1]'),\n",
       " Text(34.464705882352945, 81.53999999999999, 'gini = 0.0\\nsamples = 105\\nvalue = [105, 0]'),\n",
       " Text(44.311764705882354, 81.53999999999999, 'gini = 0.278\\nsamples = 6\\nvalue = [5, 1]'),\n",
       " Text(39.38823529411765, 117.77999999999999, 'gini = 0.375\\nsamples = 8\\nvalue = [6, 2]'),\n",
       " Text(59.082352941176474, 135.89999999999998, 'X[4] <= 4666.0\\ngini = 0.331\\nsamples = 43\\nvalue = [34, 9]'),\n",
       " Text(54.15882352941177, 117.77999999999999, 'gini = 0.444\\nsamples = 6\\nvalue = [2, 4]'),\n",
       " Text(64.00588235294119, 117.77999999999999, 'X[7] <= 3.5\\ngini = 0.234\\nsamples = 37\\nvalue = [32, 5]'),\n",
       " Text(59.082352941176474, 99.66, 'X[3] <= 1.5\\ngini = 0.133\\nsamples = 28\\nvalue = [26, 2]'),\n",
       " Text(54.15882352941177, 81.53999999999999, 'gini = 0.32\\nsamples = 10\\nvalue = [8, 2]'),\n",
       " Text(64.00588235294119, 81.53999999999999, 'gini = 0.0\\nsamples = 18\\nvalue = [18, 0]'),\n",
       " Text(68.92941176470589, 99.66, 'gini = 0.444\\nsamples = 9\\nvalue = [6, 3]'),\n",
       " Text(73.8529411764706, 154.01999999999998, 'X[4] <= 2155.5\\ngini = 0.444\\nsamples = 12\\nvalue = [8, 4]'),\n",
       " Text(68.92941176470589, 135.89999999999998, 'gini = 0.444\\nsamples = 6\\nvalue = [2, 4]'),\n",
       " Text(78.7764705882353, 135.89999999999998, 'gini = 0.0\\nsamples = 6\\nvalue = [6, 0]'),\n",
       " Text(103.39411764705883, 172.14, 'X[3] <= 3.5\\ngini = 0.418\\nsamples = 47\\nvalue = [33, 14]'),\n",
       " Text(93.54705882352941, 154.01999999999998, 'X[6] <= 1.5\\ngini = 0.334\\nsamples = 33\\nvalue = [26, 7]'),\n",
       " Text(88.62352941176471, 135.89999999999998, 'X[12] <= 29.5\\ngini = 0.434\\nsamples = 22\\nvalue = [15, 7]'),\n",
       " Text(83.7, 117.77999999999999, 'gini = 0.444\\nsamples = 6\\nvalue = [2, 4]'),\n",
       " Text(93.54705882352941, 117.77999999999999, 'X[10] <= 3.5\\ngini = 0.305\\nsamples = 16\\nvalue = [13, 3]'),\n",
       " Text(88.62352941176471, 99.66, 'gini = 0.42\\nsamples = 10\\nvalue = [7, 3]'),\n",
       " Text(98.47058823529412, 99.66, 'gini = 0.0\\nsamples = 6\\nvalue = [6, 0]'),\n",
       " Text(98.47058823529412, 135.89999999999998, 'gini = 0.0\\nsamples = 11\\nvalue = [11, 0]'),\n",
       " Text(113.24117647058824, 154.01999999999998, 'X[15] <= 1.5\\ngini = 0.5\\nsamples = 14\\nvalue = [7, 7]'),\n",
       " Text(108.31764705882354, 135.89999999999998, 'gini = 0.49\\nsamples = 7\\nvalue = [3, 4]'),\n",
       " Text(118.16470588235295, 135.89999999999998, 'gini = 0.49\\nsamples = 7\\nvalue = [4, 3]'),\n",
       " Text(236.3294117647059, 190.26, 'X[1] <= 22.5\\ngini = 0.488\\nsamples = 424\\nvalue = [245, 179]'),\n",
       " Text(188.94044117647059, 172.14, 'X[2] <= 2.5\\ngini = 0.44\\nsamples = 239\\nvalue = [161, 78]'),\n",
       " Text(166.16911764705884, 154.01999999999998, 'X[2] <= 0.5\\ngini = 0.406\\nsamples = 215\\nvalue = [154, 61]'),\n",
       " Text(145.24411764705883, 135.89999999999998, 'X[9] <= 0.5\\ngini = 0.455\\nsamples = 146\\nvalue = [95, 51]'),\n",
       " Text(128.01176470588237, 117.77999999999999, 'X[4] <= 1373.0\\ngini = 0.479\\nsamples = 126\\nvalue = [76, 50]'),\n",
       " Text(108.31764705882354, 99.66, 'X[18] <= 0.5\\ngini = 0.496\\nsamples = 57\\nvalue = [26, 31]'),\n",
       " Text(103.39411764705883, 81.53999999999999, 'X[3] <= 0.5\\ngini = 0.469\\nsamples = 48\\nvalue = [18, 30]'),\n",
       " Text(93.54705882352941, 63.41999999999999, 'X[4] <= 778.0\\ngini = 0.48\\nsamples = 15\\nvalue = [9, 6]'),\n",
       " Text(88.62352941176471, 45.29999999999998, 'gini = 0.444\\nsamples = 6\\nvalue = [2, 4]'),\n",
       " Text(98.47058823529412, 45.29999999999998, 'gini = 0.346\\nsamples = 9\\nvalue = [7, 2]'),\n",
       " Text(113.24117647058824, 63.41999999999999, 'X[11] <= 0.5\\ngini = 0.397\\nsamples = 33\\nvalue = [9, 24]'),\n",
       " Text(108.31764705882354, 45.29999999999998, 'gini = 0.0\\nsamples = 12\\nvalue = [0, 12]'),\n",
       " Text(118.16470588235295, 45.29999999999998, 'X[5] <= 0.5\\ngini = 0.49\\nsamples = 21\\nvalue = [9, 12]'),\n",
       " Text(113.24117647058824, 27.17999999999998, 'X[12] <= 25.0\\ngini = 0.375\\nsamples = 12\\nvalue = [3, 9]'),\n",
       " Text(108.31764705882354, 9.059999999999974, 'gini = 0.444\\nsamples = 6\\nvalue = [2, 4]'),\n",
       " Text(118.16470588235295, 9.059999999999974, 'gini = 0.278\\nsamples = 6\\nvalue = [1, 5]'),\n",
       " Text(123.08823529411765, 27.17999999999998, 'gini = 0.444\\nsamples = 9\\nvalue = [6, 3]'),\n",
       " Text(113.24117647058824, 81.53999999999999, 'gini = 0.198\\nsamples = 9\\nvalue = [8, 1]'),\n",
       " Text(147.7058823529412, 99.66, 'X[11] <= 2.5\\ngini = 0.399\\nsamples = 69\\nvalue = [50, 19]'),\n",
       " Text(142.78235294117647, 81.53999999999999, 'X[12] <= 27.5\\ngini = 0.354\\nsamples = 61\\nvalue = [47, 14]'),\n",
       " Text(132.93529411764706, 63.41999999999999, 'X[1] <= 13.5\\ngini = 0.483\\nsamples = 22\\nvalue = [13, 9]'),\n",
       " Text(128.01176470588237, 45.29999999999998, 'gini = 0.397\\nsamples = 11\\nvalue = [8, 3]'),\n",
       " Text(137.85882352941178, 45.29999999999998, 'gini = 0.496\\nsamples = 11\\nvalue = [5, 6]'),\n",
       " Text(152.62941176470588, 63.41999999999999, 'X[17] <= 1.5\\ngini = 0.224\\nsamples = 39\\nvalue = [34, 5]'),\n",
       " Text(147.7058823529412, 45.29999999999998, 'X[4] <= 2713.0\\ngini = 0.121\\nsamples = 31\\nvalue = [29, 2]'),\n",
       " Text(142.78235294117647, 27.17999999999998, 'gini = 0.0\\nsamples = 18\\nvalue = [18, 0]'),\n",
       " Text(152.62941176470588, 27.17999999999998, 'X[10] <= 2.5\\ngini = 0.26\\nsamples = 13\\nvalue = [11, 2]'),\n",
       " Text(147.7058823529412, 9.059999999999974, 'gini = 0.408\\nsamples = 7\\nvalue = [5, 2]'),\n",
       " Text(157.5529411764706, 9.059999999999974, 'gini = 0.0\\nsamples = 6\\nvalue = [6, 0]'),\n",
       " Text(157.5529411764706, 45.29999999999998, 'gini = 0.469\\nsamples = 8\\nvalue = [5, 3]'),\n",
       " Text(152.62941176470588, 81.53999999999999, 'gini = 0.469\\nsamples = 8\\nvalue = [3, 5]'),\n",
       " Text(162.47647058823532, 117.77999999999999, 'X[1] <= 12.5\\ngini = 0.095\\nsamples = 20\\nvalue = [19, 1]'),\n",
       " Text(157.5529411764706, 99.66, 'gini = 0.0\\nsamples = 14\\nvalue = [14, 0]'),\n",
       " Text(167.4, 99.66, 'gini = 0.278\\nsamples = 6\\nvalue = [5, 1]'),\n",
       " Text(187.09411764705882, 135.89999999999998, 'X[9] <= 0.5\\ngini = 0.248\\nsamples = 69\\nvalue = [59, 10]'),\n",
       " Text(182.17058823529413, 117.77999999999999, 'X[4] <= 948.5\\ngini = 0.177\\nsamples = 61\\nvalue = [55, 6]'),\n",
       " Text(177.24705882352941, 99.66, 'gini = 0.42\\nsamples = 10\\nvalue = [7, 3]'),\n",
       " Text(187.09411764705882, 99.66, 'X[2] <= 1.5\\ngini = 0.111\\nsamples = 51\\nvalue = [48, 3]'),\n",
       " Text(182.17058823529413, 81.53999999999999, 'gini = 0.0\\nsamples = 39\\nvalue = [39, 0]'),\n",
       " Text(192.01764705882354, 81.53999999999999, 'X[4] <= 3021.5\\ngini = 0.375\\nsamples = 12\\nvalue = [9, 3]'),\n",
       " Text(187.09411764705882, 63.41999999999999, 'gini = 0.278\\nsamples = 6\\nvalue = [5, 1]'),\n",
       " Text(196.94117647058823, 63.41999999999999, 'gini = 0.444\\nsamples = 6\\nvalue = [4, 2]'),\n",
       " Text(192.01764705882354, 117.77999999999999, 'gini = 0.5\\nsamples = 8\\nvalue = [4, 4]'),\n",
       " Text(211.71176470588236, 154.01999999999998, 'X[13] <= 0.5\\ngini = 0.413\\nsamples = 24\\nvalue = [7, 17]'),\n",
       " Text(206.78823529411767, 135.89999999999998, 'X[4] <= 1423.5\\ngini = 0.231\\nsamples = 15\\nvalue = [2, 13]'),\n",
       " Text(201.86470588235295, 117.77999999999999, 'gini = 0.444\\nsamples = 6\\nvalue = [2, 4]'),\n",
       " Text(211.71176470588236, 117.77999999999999, 'gini = 0.0\\nsamples = 9\\nvalue = [0, 9]'),\n",
       " Text(216.63529411764708, 135.89999999999998, 'gini = 0.494\\nsamples = 9\\nvalue = [5, 4]'),\n",
       " Text(283.7183823529412, 172.14, 'X[5] <= 0.5\\ngini = 0.496\\nsamples = 185\\nvalue = [84, 101]'),\n",
       " Text(254.79264705882355, 154.01999999999998, 'X[1] <= 47.5\\ngini = 0.467\\nsamples = 121\\nvalue = [45, 76]'),\n",
       " Text(238.79117647058825, 135.89999999999998, 'X[4] <= 2249.0\\ngini = 0.493\\nsamples = 100\\nvalue = [44, 56]'),\n",
       " Text(221.55882352941177, 117.77999999999999, 'X[14] <= 0.5\\ngini = 0.346\\nsamples = 27\\nvalue = [6, 21]'),\n",
       " Text(216.63529411764708, 99.66, 'X[4] <= 1789.0\\ngini = 0.48\\nsamples = 15\\nvalue = [6, 9]'),\n",
       " Text(211.71176470588236, 81.53999999999999, 'gini = 0.408\\nsamples = 7\\nvalue = [5, 2]'),\n",
       " Text(221.55882352941177, 81.53999999999999, 'gini = 0.219\\nsamples = 8\\nvalue = [1, 7]'),\n",
       " Text(226.4823529411765, 99.66, 'gini = 0.0\\nsamples = 12\\nvalue = [0, 12]'),\n",
       " Text(256.02352941176474, 117.77999999999999, 'X[4] <= 11025.0\\ngini = 0.499\\nsamples = 73\\nvalue = [38, 35]'),\n",
       " Text(251.10000000000002, 99.66, 'X[7] <= 2.5\\ngini = 0.491\\nsamples = 67\\nvalue = [38, 29]'),\n",
       " Text(231.40588235294118, 81.53999999999999, 'X[6] <= 1.5\\ngini = 0.375\\nsamples = 28\\nvalue = [21, 7]'),\n",
       " Text(221.55882352941177, 63.41999999999999, 'X[8] <= 0.5\\ngini = 0.142\\nsamples = 13\\nvalue = [12, 1]'),\n",
       " Text(216.63529411764708, 45.29999999999998, 'gini = 0.0\\nsamples = 7\\nvalue = [7, 0]'),\n",
       " Text(226.4823529411765, 45.29999999999998, 'gini = 0.278\\nsamples = 6\\nvalue = [5, 1]'),\n",
       " Text(241.2529411764706, 63.41999999999999, 'X[12] <= 32.0\\ngini = 0.48\\nsamples = 15\\nvalue = [9, 6]'),\n",
       " Text(236.3294117647059, 45.29999999999998, 'gini = 0.444\\nsamples = 6\\nvalue = [2, 4]'),\n",
       " Text(246.1764705882353, 45.29999999999998, 'gini = 0.346\\nsamples = 9\\nvalue = [7, 2]'),\n",
       " Text(270.79411764705884, 81.53999999999999, 'X[12] <= 45.5\\ngini = 0.492\\nsamples = 39\\nvalue = [17, 22]'),\n",
       " Text(265.8705882352941, 63.41999999999999, 'X[0] <= 1.5\\ngini = 0.437\\nsamples = 31\\nvalue = [10, 21]'),\n",
       " Text(256.02352941176474, 45.29999999999998, 'X[11] <= 1.5\\ngini = 0.266\\nsamples = 19\\nvalue = [3, 16]'),\n",
       " Text(251.10000000000002, 27.17999999999998, 'gini = 0.0\\nsamples = 8\\nvalue = [0, 8]'),\n",
       " Text(260.9470588235294, 27.17999999999998, 'gini = 0.397\\nsamples = 11\\nvalue = [3, 8]'),\n",
       " Text(275.71764705882356, 45.29999999999998, 'X[3] <= 0.5\\ngini = 0.486\\nsamples = 12\\nvalue = [7, 5]'),\n",
       " Text(270.79411764705884, 27.17999999999998, 'gini = 0.278\\nsamples = 6\\nvalue = [5, 1]'),\n",
       " Text(280.6411764705883, 27.17999999999998, 'gini = 0.444\\nsamples = 6\\nvalue = [2, 4]'),\n",
       " Text(275.71764705882356, 63.41999999999999, 'gini = 0.219\\nsamples = 8\\nvalue = [7, 1]'),\n",
       " Text(260.9470588235294, 99.66, 'gini = 0.0\\nsamples = 6\\nvalue = [0, 6]'),\n",
       " Text(270.79411764705884, 135.89999999999998, 'X[10] <= 2.5\\ngini = 0.091\\nsamples = 21\\nvalue = [1, 20]'),\n",
       " Text(265.8705882352941, 117.77999999999999, 'gini = 0.245\\nsamples = 7\\nvalue = [1, 6]'),\n",
       " Text(275.71764705882356, 117.77999999999999, 'gini = 0.0\\nsamples = 14\\nvalue = [0, 14]'),\n",
       " Text(312.64411764705886, 154.01999999999998, 'X[3] <= 2.5\\ngini = 0.476\\nsamples = 64\\nvalue = [39, 25]'),\n",
       " Text(300.3352941176471, 135.89999999999998, 'X[2] <= 1.5\\ngini = 0.5\\nsamples = 44\\nvalue = [22, 22]'),\n",
       " Text(290.48823529411766, 117.77999999999999, 'X[12] <= 39.5\\ngini = 0.482\\nsamples = 32\\nvalue = [13, 19]'),\n",
       " Text(285.56470588235294, 99.66, 'X[0] <= 1.5\\ngini = 0.426\\nsamples = 26\\nvalue = [8, 18]'),\n",
       " Text(280.6411764705883, 81.53999999999999, 'gini = 0.0\\nsamples = 9\\nvalue = [0, 9]'),\n",
       " Text(290.48823529411766, 81.53999999999999, 'X[11] <= 1.5\\ngini = 0.498\\nsamples = 17\\nvalue = [8, 9]'),\n",
       " Text(285.56470588235294, 63.41999999999999, 'gini = 0.444\\nsamples = 9\\nvalue = [6, 3]'),\n",
       " Text(295.4117647058824, 63.41999999999999, 'gini = 0.375\\nsamples = 8\\nvalue = [2, 6]'),\n",
       " Text(295.4117647058824, 99.66, 'gini = 0.278\\nsamples = 6\\nvalue = [5, 1]'),\n",
       " Text(310.1823529411765, 117.77999999999999, 'X[2] <= 2.5\\ngini = 0.375\\nsamples = 12\\nvalue = [9, 3]'),\n",
       " Text(305.25882352941176, 99.66, 'gini = 0.444\\nsamples = 6\\nvalue = [4, 2]'),\n",
       " Text(315.1058823529412, 99.66, 'gini = 0.278\\nsamples = 6\\nvalue = [5, 1]'),\n",
       " Text(324.95294117647063, 135.89999999999998, 'X[14] <= 0.5\\ngini = 0.255\\nsamples = 20\\nvalue = [17, 3]'),\n",
       " Text(320.0294117647059, 117.77999999999999, 'gini = 0.0\\nsamples = 9\\nvalue = [9, 0]'),\n",
       " Text(329.8764705882353, 117.77999999999999, 'gini = 0.397\\nsamples = 11\\nvalue = [8, 3]')]"
      ]
     },
     "execution_count": 25,
     "metadata": {},
     "output_type": "execute_result"
    },
    {
     "data": {
      "image/png": "[encoded data removed]",
      "text/plain": [
       "<Figure size 432x288 with 1 Axes>"
      ]
     },
     "metadata": {
      "needs_background": "light"
     },
     "output_type": "display_data"
    }
   ],
   "source": [
    "dtc = DecisionTreeClassifier(min_samples_leaf = 6,random_state=1)\n",
    "dtc.fit(X_train, y_train)\n",
    "plot_tree(dtc)"
   ]
  },
  {
   "cell_type": "markdown",
   "metadata": {},
   "source": [
    "## 模型性能评估"
   ]
  },
  {
   "cell_type": "markdown",
   "metadata": {},
   "source": [
    "![](./img/4_3.png)"
   ]
  },
  {
   "cell_type": "code",
   "execution_count": 26,
   "metadata": {
    "ExecuteTime": {
     "end_time": "2020-09-23T23:25:47.070932Z",
     "start_time": "2020-09-23T23:25:47.059932Z"
    }
   },
   "outputs": [],
   "source": [
    "y_pre = dtc.predict(X_test)"
   ]
  },
  {
   "cell_type": "code",
   "execution_count": 27,
   "metadata": {
    "ExecuteTime": {
     "end_time": "2020-09-23T23:25:47.336989Z",
     "start_time": "2020-09-23T23:25:47.307985Z"
    }
   },
   "outputs": [
    {
     "data": {
      "text/plain": [
       "array([[177,  37],\n",
       "       [ 52,  34]], dtype=int64)"
      ]
     },
     "execution_count": 27,
     "metadata": {},
     "output_type": "execute_result"
    },
    {
     "name": "stdout",
     "output_type": "stream",
     "text": [
      "              precision    recall  f1-score   support\n",
      "\n",
      "           0       0.77      0.83      0.80       214\n",
      "           1       0.48      0.40      0.43        86\n",
      "\n",
      "    accuracy                           0.70       300\n",
      "   macro avg       0.63      0.61      0.62       300\n",
      "weighted avg       0.69      0.70      0.69       300\n",
      "\n"
     ]
    }
   ],
   "source": [
    "from sklearn.metrics import confusion_matrix, classification_report \n",
    "confusion_matrix(y_test, y_pre)\n",
    "print(classification_report(y_test, y_pre))"
   ]
  },
  {
   "cell_type": "markdown",
   "metadata": {},
   "source": [
    "## 模型性能提升\n",
    "在实际应用中，模型的预测正确率不高，很难将其应用到实时的信贷评审过程。\n",
    "在本案例中，如果一个模型将所有的贷款都预测为“未违约”，此时模型的正确率将为72%，而该模型是一个完全无用的模型。\n",
    "上节中我们建立的模型，正确率为70%，但是对于违约贷款的识别性能很差。\n",
    "我们可以通过创建一个代价矩阵定义模型犯不同错误时的代价。\n",
    "假设我们认为一个贷款违约者给银行带来的损失是银行错过一个不违约的贷款带来损失的4倍，则未违约和违约的代价权重可以定义为："
   ]
  },
  {
   "cell_type": "code",
   "execution_count": 29,
   "metadata": {
    "ExecuteTime": {
     "end_time": "2020-09-23T23:29:34.635088Z",
     "start_time": "2020-09-23T23:29:34.600087Z"
    }
   },
   "outputs": [
    {
     "data": {
      "text/plain": [
       "DecisionTreeClassifier(ccp_alpha=0.0, class_weight={0: 1, 1: 4},\n",
       "                       criterion='gini', max_depth=6, max_features=None,\n",
       "                       max_leaf_nodes=None, min_impurity_decrease=0.0,\n",
       "                       min_impurity_split=None, min_samples_leaf=1,\n",
       "                       min_samples_split=2, min_weight_fraction_leaf=0.0,\n",
       "                       presort='deprecated', random_state=None,\n",
       "                       splitter='best')"
      ]
     },
     "execution_count": 29,
     "metadata": {},
     "output_type": "execute_result"
    },
    {
     "name": "stdout",
     "output_type": "stream",
     "text": [
      "              precision    recall  f1-score   support\n",
      "\n",
      "           0       0.91      0.54      0.68       214\n",
      "           1       0.43      0.86      0.57        86\n",
      "\n",
      "    accuracy                           0.63       300\n",
      "   macro avg       0.67      0.70      0.63       300\n",
      "weighted avg       0.77      0.63      0.65       300\n",
      "\n",
      "[[116  98]\n",
      " [ 12  74]]\n"
     ]
    }
   ],
   "source": [
    "class_weights = {0:1, 1:4}\n",
    "credit_model_cost = DecisionTreeClassifier(max_depth=6,class_weight = class_weights)\n",
    "credit_model_cost.fit(X_train, y_train)\n",
    "credit_pred_cost = credit_model_cost.predict(X_test)\n",
    "\n",
    "print (classification_report(y_test, credit_pred_cost))\n",
    "print (confusion_matrix(y_test, credit_pred_cost))\n"
   ]
  },
  {
   "cell_type": "markdown",
   "metadata": {},
   "source": [
    "可见，模型的整体正确率下降为63%，但是此时的模型能将86个违约贷款中的74个正确识别，识别率为85%(recall值)。"
   ]
  },
  {
   "cell_type": "code",
   "execution_count": null,
   "metadata": {},
   "outputs": [],
   "source": []
  }
 ],
 "metadata": {
  "hide_input": false,
  "kernelspec": {
   "display_name": "Python 3",
   "language": "python",
   "name": "python3"
  },
  "language_info": {
   "codemirror_mode": {
    "name": "ipython",
    "version": 3
   },
   "file_extension": ".py",
   "mimetype": "text/x-python",
   "name": "python",
   "nbconvert_exporter": "python",
   "pygments_lexer": "ipython3",
   "version": "3.7.6"
  },
  "nbTranslate": {
   "displayLangs": [
    "*"
   ],
   "hotkey": "alt-t",
   "langInMainMenu": true,
   "sourceLang": "en",
   "targetLang": "fr",
   "useGoogleTranslate": true
  },
  "toc": {
   "base_numbering": 1,
   "nav_menu": {},
   "number_sections": true,
   "sideBar": true,
   "skip_h1_title": false,
   "title_cell": "Table of Contents",
   "title_sidebar": "Contents",
   "toc_cell": false,
   "toc_position": {},
   "toc_section_display": true,
   "toc_window_display": true
  },
  "varInspector": {
   "cols": {
    "lenName": 16,
    "lenType": 16,
    "lenVar": 40
   },
   "kernels_config": {
    "python": {
     "delete_cmd_postfix": "",
     "delete_cmd_prefix": "del ",
     "library": "var_list.py",
     "varRefreshCmd": "print(var_dic_list())"
    },
    "r": {
     "delete_cmd_postfix": ") ",
     "delete_cmd_prefix": "rm(",
     "library": "var_list.r",
     "varRefreshCmd": "cat(var_dic_list()) "
    }
   },
   "types_to_exclude": [
    "module",
    "function",
    "builtin_function_or_method",
    "instance",
    "_Feature"
   ],
   "window_display": false
  }
 },
 "nbformat": 4,
 "nbformat_minor": 4
}
