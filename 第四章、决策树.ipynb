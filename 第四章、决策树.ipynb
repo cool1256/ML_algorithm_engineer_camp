{
 "cells": [
  {
   "cell_type": "markdown",
   "metadata": {},
   "source": [
    "# 决策树简介"
   ]
  },
  {
   "cell_type": "markdown",
   "metadata": {},
   "source": [
    "# 熵\n",
    "+ 表示随机变量的不确定性  \n",
    "$H(p)=-\\sum_{i=1}^{n} p_{i} \\log p_{i}$\n",
    "+ 熵越大，随机变量的不确定性越大！！"
   ]
  },
  {
   "cell_type": "markdown",
   "metadata": {},
   "source": [
    "# 熵的计算\n",
    "$H(p)=-\\sum_{i=1}^{n} p_{i} \\log p_{i}$  \n",
    "$H(D)=-\\sum_{k=1}^{k} \\frac{\\left|C_{k}\\right|}{|D|} \\log _{2} \\frac{\\left|C_{k}\\right|}{|D|}$"
   ]
  },
  {
   "cell_type": "markdown",
   "metadata": {},
   "source": [
    "# 条件熵\n",
    "定义如下：\n",
    "$H(Y \\mid X)=\\sum_{i=1}^{n} p_{i} H\\left(Y \\mid X=x_{i}\\right)$  \n",
    "其中 $p_{i}=P\\left(X=x_{i}\\right)$    \n",
    "\n",
    "---\n",
    "$H(D \\mid A)=\\sum_{i=1}^{n} \\frac{\\left|D_{i}\\right|}{D \\mid} H\\left(D_{i}\\right)$  \n",
    "$=-\\sum_{i=1}^{n} \\frac{\\left|D_{i}\\right|}{D \\mid} \\sum_{k=1}^{K} \\frac{\\left|D_{ik}\\right|}{D_{i} \\mid} \\log _{2} \\frac{\\left|D_{ik}\\right|}{\\left|D_{i}\\right|}$"
   ]
  },
  {
   "cell_type": "code",
   "execution_count": null,
   "metadata": {},
   "outputs": [],
   "source": []
  }
 ],
 "metadata": {
  "hide_input": false,
  "kernelspec": {
   "display_name": "Python 3",
   "language": "python",
   "name": "python3"
  },
  "language_info": {
   "codemirror_mode": {
    "name": "ipython",
    "version": 3
   },
   "file_extension": ".py",
   "mimetype": "text/x-python",
   "name": "python",
   "nbconvert_exporter": "python",
   "pygments_lexer": "ipython3",
   "version": "3.7.6"
  },
  "nbTranslate": {
   "displayLangs": [
    "*"
   ],
   "hotkey": "alt-t",
   "langInMainMenu": true,
   "sourceLang": "en",
   "targetLang": "fr",
   "useGoogleTranslate": true
  },
  "toc": {
   "base_numbering": 1,
   "nav_menu": {},
   "number_sections": true,
   "sideBar": true,
   "skip_h1_title": false,
   "title_cell": "Table of Contents",
   "title_sidebar": "Contents",
   "toc_cell": false,
   "toc_position": {},
   "toc_section_display": true,
   "toc_window_display": false
  },
  "varInspector": {
   "cols": {
    "lenName": 16,
    "lenType": 16,
    "lenVar": 40
   },
   "kernels_config": {
    "python": {
     "delete_cmd_postfix": "",
     "delete_cmd_prefix": "del ",
     "library": "var_list.py",
     "varRefreshCmd": "print(var_dic_list())"
    },
    "r": {
     "delete_cmd_postfix": ") ",
     "delete_cmd_prefix": "rm(",
     "library": "var_list.r",
     "varRefreshCmd": "cat(var_dic_list()) "
    }
   },
   "types_to_exclude": [
    "module",
    "function",
    "builtin_function_or_method",
    "instance",
    "_Feature"
   ],
   "window_display": false
  }
 },
 "nbformat": 4,
 "nbformat_minor": 4
}
