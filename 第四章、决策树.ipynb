{
 "cells": [
  {
   "cell_type": "markdown",
   "metadata": {},
   "source": [
    "# 决策树简介"
   ]
  },
  {
   "cell_type": "markdown",
   "metadata": {},
   "source": [
    "# 熵\n",
    "+ 表示随机变量的不确定性  \n",
    "$H(p)=-\\sum_{i=1}^{n} p_{i} \\log p_{i}$\n",
    "+ 熵越大，随机变量的不确定性越大！！"
   ]
  },
  {
   "cell_type": "markdown",
   "metadata": {},
   "source": [
    "# 熵的计算\n",
    "$H(p)=-\\sum_{i=1}^{n} p_{i} \\log p_{i}$  \n",
    "$H(D)=-\\sum_{k=1}^{k} \\frac{\\left|C_{k}\\right|}{|D|} \\log _{2} \\frac{\\left|C_{k}\\right|}{|D|}$"
   ]
  },
  {
   "cell_type": "markdown",
   "metadata": {},
   "source": [
    "# 条件熵\n",
    "定义如下：\n",
    "$H(Y \\mid X)=\\sum_{i=1}^{n} p_{i} H\\left(Y \\mid X=x_{i}\\right)$  \n",
    "其中 $p_{i}=P\\left(X=x_{i}\\right)$    \n",
    "\n",
    "---\n",
    "$H(D \\mid A)=\\sum_{i=1}^{n} \\frac{\\left|D_{i}\\right|}{D \\mid} H\\left(D_{i}\\right)$  \n",
    "$=-\\sum_{i=1}^{n} \\frac{\\left|D_{i}\\right|}{D \\mid} \\sum_{k=1}^{K} \\frac{\\left|D_{ik}\\right|}{D_{i} \\mid} \\log _{2} \\frac{\\left|D_{ik}\\right|}{\\left|D_{i}\\right|}$"
   ]
  },
  {
   "cell_type": "markdown",
   "metadata": {},
   "source": [
    "# 信息增益  \n",
    "+ 定义  \n",
    "信息增益（也叫互信息），定义如下：  \n",
    "$g(D,A) = H(D)-H(D|A)$  其中D是训练数据集，A是某个特征\n",
    "+ 根据信息增益准则的特征选择方法是：\n",
    "    1. 对训练数据集（或子集）D， 计算其中每个特征的洗洗增益\n",
    "    2. 比较他们的大小，选择信息增益最大的特征\n",
    "+ 信息增益法\n",
    "    1. 计算数据集D的经验熵$H(D)$:   \n",
    "    $H(D)=-\\sum_{k=1}^{k} \\frac{\\left|C_{k}\\right|}{|D|} \\log _{2} \\frac{\\left|C_{k}\\right|}{|D|}$\n",
    "    2. 计算特征A对数据集的经验条件熵$H(D|A)$  \n",
    "    $H(D \\mid A)=\\sum_{i=1}^{n} \\frac{\\left|D_{i}\\right|}{|D|} H\\left(D_{i}\\right)=-\\sum_{i=1}^{n} \\frac{\\left|D_{i}\\right|}{|D|} \\sum_{k=1}^{k} \\frac{\\left|D_{ik}\\right|}{\\left|D_{i}\\right|} \\log _{2} \\frac{\\left|D_{ik}\\right|}{\\left|D_{i}\\right|}$\n",
    "    3. 计算信息增益   \n",
    "    $g(D,A) = H(D)-H(D|A)$\n"
   ]
  },
  {
   "cell_type": "markdown",
   "metadata": {},
   "source": [
    "+ 例子  \n",
    "![](./img/4_1.png)"
   ]
  },
  {
   "cell_type": "markdown",
   "metadata": {},
   "source": [
    "+ ID3算法： 在决策树递归构建过程中，使用信息增益的方法进行特征选择\n",
    "+ 决策树生成过程：  \n",
    " 1. 从根节点开始计算所有特征的信息增益，选择信息增益最大的特征作为结点特征\n",
    " 2. 再对子节点递归以上的方法，构建决策树\n",
    " 3. 所有特征信息增益很小或没有特征可以选择时递归结束得到一颗决策树"
   ]
  },
  {
   "cell_type": "markdown",
   "metadata": {},
   "source": [
    "# ID3代码实现\n",
    "![](./img/4_2.png)"
   ]
  },
  {
   "cell_type": "code",
   "execution_count": 65,
   "metadata": {
    "ExecuteTime": {
     "end_time": "2020-09-09T23:43:18.550619Z",
     "start_time": "2020-09-09T23:43:18.536621Z"
    }
   },
   "outputs": [
    {
     "data": {
      "text/plain": [
       "[[0, 0, 0, 0, 'no'], [0, 0, 0, 1, 'no'], [0, 1, 0, 1, 'yes']]"
      ]
     },
     "execution_count": 65,
     "metadata": {},
     "output_type": "execute_result"
    }
   ],
   "source": [
    "def loaddata():\n",
    "    feature_name = ['age','job','house','credit']\n",
    "    dataSet = [[0, 0,0,0, 'no'],\n",
    "               [0, 0,0,1,'no'],\n",
    "               [0, 1,0,1, 'yes'],\n",
    "               [0, 1,1,0, 'yes'],\n",
    "               [0, 0,0,0, 'no'],\n",
    "               [1, 0,0,0, 'no'],\n",
    "               [1, 0,0,1, 'no'],\n",
    "               [1, 1,1,1, 'yes'],\n",
    "               [1, 0,1,2, 'yes'],\n",
    "               [1, 0,1,2, 'yes'],\n",
    "               [2, 0,1,2, 'yes'],\n",
    "               [2, 0,1,1, 'yes'],\n",
    "               [2, 1,0,1, 'yes'],\n",
    "               [2, 1,0,2, 'yes'],\n",
    "               [2, 0,0,0,'no']]\n",
    "    \n",
    "    return dataSet, feature_name\n",
    "datas, features = loaddata()\n",
    "datas[:3]"
   ]
  },
  {
   "cell_type": "code",
   "execution_count": 81,
   "metadata": {
    "ExecuteTime": {
     "end_time": "2020-09-09T23:54:47.055854Z",
     "start_time": "2020-09-09T23:54:47.027777Z"
    }
   },
   "outputs": [],
   "source": [
    "from scipy import math\n",
    "def entropy(datas):\n",
    "    entropy_ = 0\n",
    "    label_counts = {}\n",
    "    goaldata = [d[-1] for d in datas]\n",
    "    length = len(datas)\n",
    "    for d in goaldata:\n",
    "        label_counts[d] = label_counts.get(d, 0) + 1\n",
    "    \n",
    "    for k, v in label_counts.items():\n",
    "        p = v / length\n",
    "        e_ = - p * math.log2(p)\n",
    "        entropy_ += e_\n",
    "    return entropy_\n",
    "\n",
    "def feature_entropy(datas, axis):\n",
    "    all_length = len(datas)\n",
    "    feature_entropy = 0\n",
    "    discounts = set([d[axis] for d in datas])\n",
    "    for dis in discounts:\n",
    "        data = [d for d in datas if d[axis] == dis]\n",
    "        data_length = len(data)\n",
    "        e = (data_length / all_length) * entropy(data)\n",
    "        feature_entropy += e\n",
    "    return feature_entropy\n",
    "\n",
    "def choose_best_feature(datas, features):\n",
    "    all_e = entropy(datas)\n",
    "    info_gain = []\n",
    "    for idx, feature in enumerate(features):\n",
    "        feature_e = feature_entropy(datas, idx)\n",
    "        diff = all_e - feature_e\n",
    "        info_gain.append(diff)\n",
    "    \n",
    "    min_ = min(info_gain)\n",
    "    idx = info_gain.index(min_)\n",
    "    feature = features[idx]\n",
    "    \n",
    "    return idx, feature\n",
    "    \n",
    "\n",
    "# #划分数据集\n",
    "# def split_dataset(datas, axis, value):\n",
    "#     ret_dataset = [d[0:axis] + d[axis+1:] for d in datas if d[axis] == value]\n",
    "#     return ret_dataset\n",
    "        "
   ]
  },
  {
   "cell_type": "code",
   "execution_count": 82,
   "metadata": {
    "ExecuteTime": {
     "end_time": "2020-09-09T23:54:47.812469Z",
     "start_time": "2020-09-09T23:54:47.804469Z"
    }
   },
   "outputs": [
    {
     "data": {
      "text/plain": [
       "(0, 'age')"
      ]
     },
     "execution_count": 82,
     "metadata": {},
     "output_type": "execute_result"
    }
   ],
   "source": [
    "choose_best_feature(datas, features)"
   ]
  },
  {
   "cell_type": "code",
   "execution_count": null,
   "metadata": {},
   "outputs": [],
   "source": []
  }
 ],
 "metadata": {
  "hide_input": false,
  "kernelspec": {
   "display_name": "Python 3",
   "language": "python",
   "name": "python3"
  },
  "language_info": {
   "codemirror_mode": {
    "name": "ipython",
    "version": 3
   },
   "file_extension": ".py",
   "mimetype": "text/x-python",
   "name": "python",
   "nbconvert_exporter": "python",
   "pygments_lexer": "ipython3",
   "version": "3.7.6"
  },
  "nbTranslate": {
   "displayLangs": [
    "*"
   ],
   "hotkey": "alt-t",
   "langInMainMenu": true,
   "sourceLang": "en",
   "targetLang": "fr",
   "useGoogleTranslate": true
  },
  "toc": {
   "base_numbering": 1,
   "nav_menu": {},
   "number_sections": true,
   "sideBar": true,
   "skip_h1_title": false,
   "title_cell": "Table of Contents",
   "title_sidebar": "Contents",
   "toc_cell": false,
   "toc_position": {},
   "toc_section_display": true,
   "toc_window_display": true
  },
  "varInspector": {
   "cols": {
    "lenName": 16,
    "lenType": 16,
    "lenVar": 40
   },
   "kernels_config": {
    "python": {
     "delete_cmd_postfix": "",
     "delete_cmd_prefix": "del ",
     "library": "var_list.py",
     "varRefreshCmd": "print(var_dic_list())"
    },
    "r": {
     "delete_cmd_postfix": ") ",
     "delete_cmd_prefix": "rm(",
     "library": "var_list.r",
     "varRefreshCmd": "cat(var_dic_list()) "
    }
   },
   "types_to_exclude": [
    "module",
    "function",
    "builtin_function_or_method",
    "instance",
    "_Feature"
   ],
   "window_display": false
  }
 },
 "nbformat": 4,
 "nbformat_minor": 4
}
