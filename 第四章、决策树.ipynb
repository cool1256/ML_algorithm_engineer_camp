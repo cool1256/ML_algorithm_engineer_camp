{
 "cells": [
  {
   "cell_type": "markdown",
   "metadata": {},
   "source": [
    "# 决策树简介"
   ]
  },
  {
   "cell_type": "markdown",
   "metadata": {},
   "source": [
    "# 熵\n",
    "+ 表示随机变量的不确定性  \n",
    "$H(p)=-\\sum_{i=1}^{n} p_{i} \\log p_{i}$\n",
    "+ 熵越大，随机变量的不确定性越大！！"
   ]
  },
  {
   "cell_type": "markdown",
   "metadata": {},
   "source": [
    "# 熵的计算\n",
    "$H(p)=-\\sum_{i=1}^{n} p_{i} \\log p_{i}$  \n",
    "$H(D)=-\\sum_{k=1}^{k} \\frac{\\left|C_{k}\\right|}{|D|} \\log _{2} \\frac{\\left|C_{k}\\right|}{|D|}$"
   ]
  },
  {
   "cell_type": "markdown",
   "metadata": {},
   "source": [
    "# 条件熵\n",
    "定义如下：\n",
    "$H(Y \\mid X)=\\sum_{i=1}^{n} p_{i} H\\left(Y \\mid X=x_{i}\\right)$  \n",
    "其中 $p_{i}=P\\left(X=x_{i}\\right)$    \n",
    "\n",
    "---\n",
    "$H(D \\mid A)=\\sum_{i=1}^{n} \\frac{\\left|D_{i}\\right|}{D \\mid} H\\left(D_{i}\\right)$  \n",
    "$=-\\sum_{i=1}^{n} \\frac{\\left|D_{i}\\right|}{D \\mid} \\sum_{k=1}^{K} \\frac{\\left|D_{ik}\\right|}{D_{i} \\mid} \\log _{2} \\frac{\\left|D_{ik}\\right|}{\\left|D_{i}\\right|}$"
   ]
  },
  {
   "cell_type": "markdown",
   "metadata": {},
   "source": [
    "# 信息增益  \n",
    "+ 定义  \n",
    "信息增益（也叫互信息），定义如下：  \n",
    "$g(D,A) = H(D)-H(D|A)$  其中D是训练数据集，A是某个特征\n",
    "+ 根据信息增益准则的特征选择方法是：\n",
    "    1. 对训练数据集（或子集）D， 计算其中每个特征的洗洗增益\n",
    "    2. 比较他们的大小，选择信息增益最大的特征\n",
    "+ 信息增益法\n",
    "    1. 计算数据集D的经验熵$H(D)$:   \n",
    "    $H(D)=-\\sum_{k=1}^{k} \\frac{\\left|C_{k}\\right|}{|D|} \\log _{2} \\frac{\\left|C_{k}\\right|}{|D|}$\n",
    "    2. 计算特征A对数据集的经验条件熵$H(D|A)$  \n",
    "    $H(D \\mid A)=\\sum_{i=1}^{n} \\frac{\\left|D_{i}\\right|}{|D|} H\\left(D_{i}\\right)=-\\sum_{i=1}^{n} \\frac{\\left|D_{i}\\right|}{|D|} \\sum_{k=1}^{k} \\frac{\\left|D_{ik}\\right|}{\\left|D_{i}\\right|} \\log _{2} \\frac{\\left|D_{ik}\\right|}{\\left|D_{i}\\right|}$\n",
    "    3. 计算信息增益   \n",
    "    $g(D,A) = H(D)-H(D|A)$\n"
   ]
  },
  {
   "cell_type": "markdown",
   "metadata": {},
   "source": [
    "+ 例子  \n",
    "![](./img/4_1.png)"
   ]
  },
  {
   "cell_type": "markdown",
   "metadata": {},
   "source": [
    "+ ID3算法： 在决策树递归构建过程中，使用信息增益的方法进行特征选择\n",
    "+ 决策树生成过程：  \n",
    " 1. 从根节点开始计算所有特征的信息增益，选择信息增益最大的特征作为结点特征\n",
    " 2. 再对子节点递归以上的方法，构建决策树\n",
    " 3. 所有特征信息增益很小或没有特征可以选择时递归结束得到一颗决策树"
   ]
  },
  {
   "cell_type": "markdown",
   "metadata": {},
   "source": [
    "# ID3代码实现\n",
    "![](./img/4_2.png)"
   ]
  },
  {
   "cell_type": "code",
   "execution_count": 1,
   "metadata": {
    "ExecuteTime": {
     "end_time": "2020-09-15T23:12:07.715050Z",
     "start_time": "2020-09-15T23:12:07.694050Z"
    }
   },
   "outputs": [
    {
     "data": {
      "text/plain": [
       "[[0, 0, 0, 0, 'no'], [0, 0, 0, 1, 'no'], [0, 1, 0, 1, 'yes']]"
      ]
     },
     "execution_count": 1,
     "metadata": {},
     "output_type": "execute_result"
    }
   ],
   "source": [
    "def loaddata():\n",
    "    feature_name = ['age','job','house','credit']\n",
    "    dataSet = [[0, 0,0,0, 'no'],\n",
    "               [0, 0,0,1,'no'],\n",
    "               [0, 1,0,1, 'yes'],\n",
    "               [0, 1,1,0, 'yes'],\n",
    "               [0, 0,0,0, 'no'],\n",
    "               [1, 0,0,0, 'no'],\n",
    "               [1, 0,0,1, 'no'],\n",
    "               [1, 1,1,1, 'yes'],\n",
    "               [1, 0,1,2, 'yes'],\n",
    "               [1, 0,1,2, 'yes'],\n",
    "               [2, 0,1,2, 'yes'],\n",
    "               [2, 0,1,1, 'yes'],\n",
    "               [2, 1,0,1, 'yes'],\n",
    "               [2, 1,0,2, 'yes'],\n",
    "               [2, 0,0,0,'no']]\n",
    "    \n",
    "    return dataSet, feature_name\n",
    "datas, features = loaddata()\n",
    "datas[:3]"
   ]
  },
  {
   "cell_type": "code",
   "execution_count": 18,
   "metadata": {
    "ExecuteTime": {
     "end_time": "2020-09-15T23:25:26.971904Z",
     "start_time": "2020-09-15T23:25:26.950904Z"
    }
   },
   "outputs": [],
   "source": [
    "from scipy import math\n",
    "def entropy(datas):\n",
    "    entropy_ = 0\n",
    "    label_counts = {}\n",
    "    goaldata = [d[-1] for d in datas]\n",
    "    length = len(datas)\n",
    "    for d in goaldata:\n",
    "        label_counts[d] = label_counts.get(d, 0) + 1\n",
    "    \n",
    "    for k, v in label_counts.items():\n",
    "        p = v / length\n",
    "        e_ = - p * math.log2(p)\n",
    "        entropy_ += e_\n",
    "    return entropy_\n",
    "\n",
    "def feature_entropy(datas, axis):\n",
    "    all_length = len(datas)\n",
    "    feature_entropy = 0\n",
    "    discounts = set([d[axis] for d in datas])\n",
    "    for dis in discounts:\n",
    "        data = [d for d in datas if d[axis] == dis]\n",
    "        data_length = len(data)\n",
    "        e = (data_length / all_length) * entropy(data)\n",
    "        feature_entropy += e\n",
    "    return feature_entropy\n",
    "\n",
    "def choose_best_feature(datas, features):\n",
    "    \n",
    "    all_e = entropy(datas)\n",
    "    info_gain = []\n",
    "    for idx, feature in enumerate(features):\n",
    "        feature_e = feature_entropy(datas, idx)\n",
    "        diff = all_e - feature_e\n",
    "        info_gain.append(diff)\n",
    "    \n",
    "    max_ = max(info_gain)\n",
    "    idx = info_gain.index(max_)\n",
    "    feature = features[idx]\n",
    "#     print(datas, features, info_gain)\n",
    "    return idx, feature\n",
    "    \n",
    "\n",
    "#划分数据集\n",
    "def split_dataset(datas, axis, value):\n",
    "    ret_dataset = [d[0:axis] + d[axis+1:] for d in datas if d[axis] == value]\n",
    "    return ret_dataset\n",
    "\n",
    "def class_vote(class_list):\n",
    "    class_set = set(class_list)\n",
    "    class_count = {c: class_list.count(c) for c in class_set}\n",
    "    class_count = sorted(class_count.items(), key=lambda d: d[1], reverse=True)\n",
    "    return class_count[0][0]\n",
    "\n",
    "def train_tree(datas, features):\n",
    "    classlist = [d[-1] for d in datas]\n",
    "    if len(set(classlist)) == 1: #就剩下一个类别\n",
    "        return classlist[0]\n",
    "    if len(datas[0]) == 2: #就剩下一个特征\n",
    "        return class_vote(classlist)\n",
    "    bestidx, bestfeature = choose_best_feature(datas, features)\n",
    "    my_tree = {bestfeature:{}}\n",
    "    sub_features = [f for f in features if f != bestfeature]\n",
    "    best_datas = [d[bestidx] for d in datas]\n",
    "    for value in set(best_datas):\n",
    "        sub_datas = split_dataset(datas, bestidx, value)\n",
    "        my_tree[bestfeature][value] = train_tree(sub_datas, sub_features)\n",
    "    return my_tree\n",
    "        "
   ]
  },
  {
   "cell_type": "code",
   "execution_count": 20,
   "metadata": {
    "ExecuteTime": {
     "end_time": "2020-09-15T23:28:43.041870Z",
     "start_time": "2020-09-15T23:28:43.036871Z"
    }
   },
   "outputs": [
    {
     "name": "stdout",
     "output_type": "stream",
     "text": [
      "{'house': {0: {'job': {0: 'no', 1: 'yes'}}, 1: 'yes'}}\n"
     ]
    }
   ],
   "source": [
    "datas, features = loaddata()\n",
    "mytree = train_tree(datas, features)\n",
    "print(mytree)"
   ]
  },
  {
   "cell_type": "code",
   "execution_count": 21,
   "metadata": {
    "ExecuteTime": {
     "end_time": "2020-09-15T23:31:00.592564Z",
     "start_time": "2020-09-15T23:31:00.586565Z"
    }
   },
   "outputs": [
    {
     "data": {
      "text/plain": [
       "dict_keys(['house'])"
      ]
     },
     "execution_count": 21,
     "metadata": {},
     "output_type": "execute_result"
    }
   ],
   "source": [
    "mytree.keys()"
   ]
  },
  {
   "cell_type": "code",
   "execution_count": 43,
   "metadata": {
    "ExecuteTime": {
     "end_time": "2020-09-15T23:42:01.062337Z",
     "start_time": "2020-09-15T23:42:01.056334Z"
    }
   },
   "outputs": [],
   "source": [
    "def predict(mytree, features, testdata):\n",
    "    firstkey = list(mytree.keys())[0]\n",
    "    subtree = mytree.get(firstkey)\n",
    "    idx = features.index(firstkey)\n",
    "    dv = testdata[idx]\n",
    "    subtree = subtree.get(dv)\n",
    "    if isinstance(subtree, dict):\n",
    "        classlabel = predict(subtree, features, testdata)\n",
    "    else:\n",
    "        classlabel = subtree\n",
    "        \n",
    "    return classlabel\n",
    "        "
   ]
  },
  {
   "cell_type": "code",
   "execution_count": 44,
   "metadata": {
    "ExecuteTime": {
     "end_time": "2020-09-15T23:42:01.623337Z",
     "start_time": "2020-09-15T23:42:01.618337Z"
    }
   },
   "outputs": [
    {
     "data": {
      "text/plain": [
       "'yes'"
      ]
     },
     "execution_count": 44,
     "metadata": {},
     "output_type": "execute_result"
    }
   ],
   "source": [
    "predict(mytree, features, [1, 1, 0, 1])"
   ]
  },
  {
   "cell_type": "code",
   "execution_count": 60,
   "metadata": {
    "ExecuteTime": {
     "end_time": "2020-09-15T23:51:53.946593Z",
     "start_time": "2020-09-15T23:51:53.465589Z"
    }
   },
   "outputs": [
    {
     "data": {
      "text/plain": [
       "DecisionTreeClassifier(ccp_alpha=0.0, class_weight=None, criterion='gini',\n",
       "                       max_depth=None, max_features=None, max_leaf_nodes=None,\n",
       "                       min_impurity_decrease=0.0, min_impurity_split=None,\n",
       "                       min_samples_leaf=1, min_samples_split=2,\n",
       "                       min_weight_fraction_leaf=0.0, presort='deprecated',\n",
       "                       random_state=None, splitter='best')"
      ]
     },
     "execution_count": 60,
     "metadata": {},
     "output_type": "execute_result"
    },
    {
     "data": {
      "text/plain": [
       "array(['yes'], dtype='<U3')"
      ]
     },
     "execution_count": 60,
     "metadata": {},
     "output_type": "execute_result"
    },
    {
     "data": {
      "text/plain": [
       "[Text(200.88000000000002, 181.2, 'house <= 0.5\\ngini = 0.48\\nsamples = 15\\nvalue = [6, 9]'),\n",
       " Text(133.92000000000002, 108.72, 'job <= 0.5\\ngini = 0.444\\nsamples = 9\\nvalue = [6, 3]'),\n",
       " Text(66.96000000000001, 36.23999999999998, 'gini = 0.0\\nsamples = 6\\nvalue = [6, 0]'),\n",
       " Text(200.88000000000002, 36.23999999999998, 'gini = 0.0\\nsamples = 3\\nvalue = [0, 3]'),\n",
       " Text(267.84000000000003, 108.72, 'gini = 0.0\\nsamples = 6\\nvalue = [0, 6]')]"
      ]
     },
     "execution_count": 60,
     "metadata": {},
     "output_type": "execute_result"
    },
    {
     "data": {
      "image/png": "[encoded data removed]",
      "text/plain": [
       "<Figure size 432x288 with 1 Axes>"
      ]
     },
     "metadata": {
      "needs_background": "light"
     },
     "output_type": "display_data"
    }
   ],
   "source": [
    "from sklearn.tree import DecisionTreeClassifier, plot_tree\n",
    "dtc = DecisionTreeClassifier()\n",
    "X = np.array([d[:-1] for d in datas])\n",
    "y = np.array([d[-1] for d in datas]).reshape(-1, 1)\n",
    "dtc.fit(X, y)\n",
    "dtc.predict([[1, 1, 0, 1]])\n",
    "plot_tree(dtc, feature_names=features)"
   ]
  },
  {
   "cell_type": "markdown",
   "metadata": {},
   "source": [
    "# C4.5算法"
   ]
  },
  {
   "cell_type": "markdown",
   "metadata": {},
   "source": [
    "C4.5是对ID3的改进， 在树的生成过程中，使用信息增益比来选择特征  \n",
    "ID3计算信息增益的公式：$g(D,A)=H(D)-H(D|A)$  \n",
    "C4.5计算信息增益比公式：  \n",
    "$g_{R}(D, A)=\\frac{g(D, A)}{H_{A}(D)}$  \n",
    "其中$H_{A}(D)=-\\sum_{i=1}^{n} \\frac{\\left|D_{i}\\right|}{|D|} \\log _{2} \\frac{\\left|D_{i}\\right|}{|D|}$"
   ]
  },
  {
   "cell_type": "markdown",
   "metadata": {},
   "source": [
    "# Gini指数"
   ]
  },
  {
   "cell_type": "markdown",
   "metadata": {},
   "source": [
    "CART算法：在树生成过程中，使用基尼指数选择最优特征。征程的是二叉树。  \n",
    "1. 设样本点属于第K累的概率为$p_k$, 则$Gini(p)=\\sum_{k=1}^{k}p_k(1-p_k)=1-\\sum_{k=1}^{k}p_k^2$   \n",
    "2. 给定样本集合D， 起基尼指数为： $\\operatorname{Gini}(D)=1-\\sum_{k=1}^{K}\\left(\\frac{|C_{k} \\mid}{|D|}\\right)^{2}$  \n",
    "3. 在特定A的条件下，集合D的基尼指数为：$\\operatorname{Gini}(D, A)=\\frac{\\left|D_{1}\\right|}{|D|} \\operatorname{Gini}(D 1)+\\frac{\\left|D_{2}\\right|}{|D|} \\operatorname{Gini}(D 2)$  \n",
    "基尼指数越大，样本你的不确定性越大，这点与熵相似。"
   ]
  },
  {
   "cell_type": "code",
   "execution_count": null,
   "metadata": {},
   "outputs": [],
   "source": []
  }
 ],
 "metadata": {
  "hide_input": false,
  "kernelspec": {
   "display_name": "Python 3",
   "language": "python",
   "name": "python3"
  },
  "language_info": {
   "codemirror_mode": {
    "name": "ipython",
    "version": 3
   },
   "file_extension": ".py",
   "mimetype": "text/x-python",
   "name": "python",
   "nbconvert_exporter": "python",
   "pygments_lexer": "ipython3",
   "version": "3.7.6"
  },
  "nbTranslate": {
   "displayLangs": [
    "*"
   ],
   "hotkey": "alt-t",
   "langInMainMenu": true,
   "sourceLang": "en",
   "targetLang": "fr",
   "useGoogleTranslate": true
  },
  "toc": {
   "base_numbering": 1,
   "nav_menu": {},
   "number_sections": true,
   "sideBar": true,
   "skip_h1_title": false,
   "title_cell": "Table of Contents",
   "title_sidebar": "Contents",
   "toc_cell": false,
   "toc_position": {},
   "toc_section_display": true,
   "toc_window_display": true
  },
  "varInspector": {
   "cols": {
    "lenName": 16,
    "lenType": 16,
    "lenVar": 40
   },
   "kernels_config": {
    "python": {
     "delete_cmd_postfix": "",
     "delete_cmd_prefix": "del ",
     "library": "var_list.py",
     "varRefreshCmd": "print(var_dic_list())"
    },
    "r": {
     "delete_cmd_postfix": ") ",
     "delete_cmd_prefix": "rm(",
     "library": "var_list.r",
     "varRefreshCmd": "cat(var_dic_list()) "
    }
   },
   "types_to_exclude": [
    "module",
    "function",
    "builtin_function_or_method",
    "instance",
    "_Feature"
   ],
   "window_display": false
  }
 },
 "nbformat": 4,
 "nbformat_minor": 4
}
