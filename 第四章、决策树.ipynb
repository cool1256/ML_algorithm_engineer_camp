{
 "cells": [
  {
   "cell_type": "markdown",
   "metadata": {},
   "source": [
    "# 决策树简介"
   ]
  },
  {
   "cell_type": "markdown",
   "metadata": {},
   "source": [
    "# 熵\n",
    "+ 表示随机变量的不确定性  \n",
    "$H(p)=-\\sum_{i=1}^{n} p_{i} \\log p_{i}$\n",
    "+ 熵越大，随机变量的不确定性越大！！"
   ]
  },
  {
   "cell_type": "markdown",
   "metadata": {},
   "source": [
    "# 熵的计算\n",
    "$H(p)=-\\sum_{i=1}^{n} p_{i} \\log p_{i}$  \n",
    "$H(D)=-\\sum_{k=1}^{k} \\frac{\\left|C_{k}\\right|}{|D|} \\log _{2} \\frac{\\left|C_{k}\\right|}{|D|}$"
   ]
  },
  {
   "cell_type": "markdown",
   "metadata": {},
   "source": [
    "# 条件熵\n",
    "定义如下：\n",
    "$H(Y \\mid X)=\\sum_{i=1}^{n} p_{i} H\\left(Y \\mid X=x_{i}\\right)$  \n",
    "其中 $p_{i}=P\\left(X=x_{i}\\right)$    \n",
    "\n",
    "---\n",
    "$H(D \\mid A)=\\sum_{i=1}^{n} \\frac{\\left|D_{i}\\right|}{D \\mid} H\\left(D_{i}\\right)$  \n",
    "$=-\\sum_{i=1}^{n} \\frac{\\left|D_{i}\\right|}{D \\mid} \\sum_{k=1}^{K} \\frac{\\left|D_{ik}\\right|}{D_{i} \\mid} \\log _{2} \\frac{\\left|D_{ik}\\right|}{\\left|D_{i}\\right|}$"
   ]
  },
  {
   "cell_type": "markdown",
   "metadata": {},
   "source": [
    "# 信息增益  \n",
    "+ 定义  \n",
    "信息增益（也叫互信息），定义如下：  \n",
    "$g(D,A) = H(D)-H(D|A)$  其中D是训练数据集，A是某个特征\n",
    "+ 根据信息增益准则的特征选择方法是：\n",
    "    1. 对训练数据集（或子集）D， 计算其中每个特征的洗洗增益\n",
    "    2. 比较他们的大小，选择信息增益最大的特征\n",
    "+ 信息增益法\n",
    "    1. 计算数据集D的经验熵$H(D)$:   \n",
    "    $H(D)=-\\sum_{k=1}^{k} \\frac{\\left|C_{k}\\right|}{|D|} \\log _{2} \\frac{\\left|C_{k}\\right|}{|D|}$\n",
    "    2. 计算特征A对数据集的经验条件熵$H(D|A)$  \n",
    "    $H(D \\mid A)=\\sum_{i=1}^{n} \\frac{\\left|D_{i}\\right|}{|D|} H\\left(D_{i}\\right)=-\\sum_{i=1}^{n} \\frac{\\left|D_{i}\\right|}{|D|} \\sum_{k=1}^{k} \\frac{\\left|D_{ik}\\right|}{\\left|D_{i}\\right|} \\log _{2} \\frac{\\left|D_{ik}\\right|}{\\left|D_{i}\\right|}$\n",
    "    3. 计算信息增益   \n",
    "    $g(D,A) = H(D)-H(D|A)$\n"
   ]
  },
  {
   "cell_type": "markdown",
   "metadata": {},
   "source": [
    "+ 例子  \n",
    "![](./img/4_1.png)"
   ]
  },
  {
   "cell_type": "markdown",
   "metadata": {},
   "source": [
    "+ ID3算法： 在决策树递归构建过程中，使用信息增益的方法进行特征选择\n",
    "+ 决策树生成过程：  \n",
    " 1. 从根节点开始计算所有特征的信息增益，选择信息增益最大的特征作为结点特征\n",
    " 2. 再对子节点递归以上的方法，构建决策树\n",
    " 3. 所有特征信息增益很小或没有特征可以选择时递归结束得到一颗决策树"
   ]
  },
  {
   "cell_type": "code",
   "execution_count": null,
   "metadata": {},
   "outputs": [],
   "source": []
  }
 ],
 "metadata": {
  "hide_input": false,
  "kernelspec": {
   "display_name": "Python 3",
   "language": "python",
   "name": "python3"
  },
  "language_info": {
   "codemirror_mode": {
    "name": "ipython",
    "version": 3
   },
   "file_extension": ".py",
   "mimetype": "text/x-python",
   "name": "python",
   "nbconvert_exporter": "python",
   "pygments_lexer": "ipython3",
   "version": "3.7.6"
  },
  "nbTranslate": {
   "displayLangs": [
    "*"
   ],
   "hotkey": "alt-t",
   "langInMainMenu": true,
   "sourceLang": "en",
   "targetLang": "fr",
   "useGoogleTranslate": true
  },
  "toc": {
   "base_numbering": 1,
   "nav_menu": {},
   "number_sections": true,
   "sideBar": true,
   "skip_h1_title": false,
   "title_cell": "Table of Contents",
   "title_sidebar": "Contents",
   "toc_cell": false,
   "toc_position": {},
   "toc_section_display": true,
   "toc_window_display": false
  },
  "varInspector": {
   "cols": {
    "lenName": 16,
    "lenType": 16,
    "lenVar": 40
   },
   "kernels_config": {
    "python": {
     "delete_cmd_postfix": "",
     "delete_cmd_prefix": "del ",
     "library": "var_list.py",
     "varRefreshCmd": "print(var_dic_list())"
    },
    "r": {
     "delete_cmd_postfix": ") ",
     "delete_cmd_prefix": "rm(",
     "library": "var_list.r",
     "varRefreshCmd": "cat(var_dic_list()) "
    }
   },
   "types_to_exclude": [
    "module",
    "function",
    "builtin_function_or_method",
    "instance",
    "_Feature"
   ],
   "window_display": false
  }
 },
 "nbformat": 4,
 "nbformat_minor": 4
}
