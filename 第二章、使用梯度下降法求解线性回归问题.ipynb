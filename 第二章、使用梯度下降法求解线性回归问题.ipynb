{
 "cells": [
  {
   "cell_type": "markdown",
   "metadata": {},
   "source": [
    "## 梯度下降法举例"
   ]
  },
  {
   "cell_type": "markdown",
   "metadata": {},
   "source": [
    "### 求 $y=x^2+2x+5$的最小值"
   ]
  },
  {
   "cell_type": "code",
   "execution_count": null,
   "metadata": {
    "ExecuteTime": {
     "end_time": "2020-07-15T23:10:46.298905Z",
     "start_time": "2020-07-15T23:10:44.731Z"
    }
   },
   "outputs": [],
   "source": [
    "x = np.linspace(-6, 4, 100)\n",
    "y = x ** 2 + x * 2 + 5\n",
    "plt.plot(x, y)"
   ]
  },
  {
   "cell_type": "code",
   "execution_count": null,
   "metadata": {
    "ExecuteTime": {
     "end_time": "2020-07-15T23:10:46.299903Z",
     "start_time": "2020-07-15T23:10:44.766Z"
    }
   },
   "outputs": [],
   "source": [
    "def gradient(x):\n",
    "    return x * 2 + 2\n",
    "def get_min(gradient, alpha=0.8):\n",
    "    num = 0\n",
    "    x = np.random.randint(-6, 4)\n",
    "    grad = gradient(x)\n",
    "    while grad != 0:\n",
    "        x -= alpha * grad\n",
    "        grad = gradient(x)\n",
    "        num += 1\n",
    "#         print(x)\n",
    "    return x, num\n",
    "\n",
    "get_min(gradient)"
   ]
  },
  {
   "cell_type": "markdown",
   "metadata": {},
   "source": [
    "## 线性回归代码实现"
   ]
  },
  {
   "cell_type": "code",
   "execution_count": null,
   "metadata": {
    "ExecuteTime": {
     "end_time": "2020-07-15T23:10:46.303904Z",
     "start_time": "2020-07-15T23:10:44.818Z"
    }
   },
   "outputs": [],
   "source": [
    "import numpy as np\n",
    "import matplotlib.pyplot as plt"
   ]
  },
  {
   "cell_type": "markdown",
   "metadata": {},
   "source": [
    "### 定义一个加载数据的函数"
   ]
  },
  {
   "cell_type": "code",
   "execution_count": null,
   "metadata": {
    "ExecuteTime": {
     "end_time": "2020-07-15T23:10:46.305908Z",
     "start_time": "2020-07-15T23:10:44.882Z"
    }
   },
   "outputs": [],
   "source": [
    "def loaddata(filepath):\n",
    "    data = np.loadtxt(filepath,delimiter=',')\n",
    "    n = data.shape[1]-1 #特征数\n",
    "    X = data[:,0:n]\n",
    "    y = data[:,-1].reshape(-1,1)\n",
    "    return X,y"
   ]
  },
  {
   "cell_type": "code",
   "execution_count": null,
   "metadata": {
    "ExecuteTime": {
     "end_time": "2020-07-15T23:10:46.308936Z",
     "start_time": "2020-07-15T23:10:44.918Z"
    }
   },
   "outputs": [],
   "source": [
    "X, y = loaddata('data/2_4.txt')\n",
    "X[:5]\n",
    "y[:5]"
   ]
  },
  {
   "cell_type": "markdown",
   "metadata": {},
   "source": [
    "### 特征标准化"
   ]
  },
  {
   "cell_type": "code",
   "execution_count": null,
   "metadata": {
    "ExecuteTime": {
     "end_time": "2020-07-15T23:10:46.310928Z",
     "start_time": "2020-07-15T23:10:44.964Z"
    }
   },
   "outputs": [],
   "source": [
    "def featureNormalize(X):\n",
    "    mu = np.average(X, axis=0)\n",
    "    sigma = np.std(X, axis=0, ddof=1)\n",
    "    X = (X - mu) / sigma\n",
    "    return X, mu, sigma"
   ]
  },
  {
   "cell_type": "markdown",
   "metadata": {},
   "source": [
    "### 计算损失函数\n",
    "$$h_{\\theta}(x)=\\sum_{i=0}^{n} \\theta_{i} x_{i}=\\theta^{T}x  \\text{ 其中}x_{0}=1 $$\n",
    "$$L(\\theta)=\\left(h_{\\theta}(x)-y\\right)^{2}$$"
   ]
  },
  {
   "cell_type": "code",
   "execution_count": null,
   "metadata": {
    "ExecuteTime": {
     "end_time": "2020-07-15T23:10:46.312907Z",
     "start_time": "2020-07-15T23:10:45.010Z"
    }
   },
   "outputs": [],
   "source": [
    "def computeCost(X,y,theta):\n",
    "    m = X.shape[0]\n",
    "    return np.sum(np.power(np.dot(X,theta)-y,2))/(2*m)"
   ]
  },
  {
   "cell_type": "markdown",
   "metadata": {},
   "source": [
    "### 梯度下降法求解\n",
    "$$\\begin{array}{l}\n",
    "\\frac{\\partial}{\\partial \\theta_{j}} J(\\theta)=\\frac{\\partial}{\\partial \\theta_{j}} \\frac{1}{2 m} \\sum_{i=1}^{m}\\left(h_{\\theta}\\left(x^{(i)}\\right)-y^{(i)}\\right)^{2} \\\\\n",
    "=2 * \\frac{1}{2 m} \\sum_{i=1}^{m}\\left[\\left(h_{\\theta}\\left(x^{(i)}\\right)-y^{(i)}\\right) \\frac{\\partial}{\\partial \\theta_{j}}\\left(h_{\\theta}\\left(x^{(i)}\\right)-y^{(i)}\\right)\\right] \\\\\n",
    "=\\frac{1}{m} \\sum_{i=1}^{m}\\left[\\left(h_{\\theta}\\left(x^{(i)}\\right)-y^{(i)}\\right) \\frac{\\partial}{\\partial \\theta_{j}}\\left(\\sum_{f=0}^{n} \\theta_{f} x_{f}^{(i)}-y^{(i)}\\right)\\right] \\\\\n",
    "=\\frac{1}{m} \\sum_{i=1}^{m}\\left[\\left(h_{\\theta}\\left(x^{(i)}\\right)-y^{(i)}\\right) x_{j}^{(i)}\\right] \\\\\n",
    "\\theta_{j}:=\\theta_{j}+\\alpha \\frac{1}{m} \\sum_{i=1}^{m}\\left(y^{(i)}-h_{\\theta}\\left(x^{(i)}\\right)\\right) x_{j}^{(i)}\n",
    "\\end{array}$$   \n",
    "$$\\text{故：    }\\theta_{j}=\\theta_{j}+\\alpha \\frac{1}{m} \\sum_{i=1}^{m}\\left(y^{(i)}-h_{\\theta}\\left(x^{(i)}\\right)\\right) x_{j}^{(i)}$$"
   ]
  },
  {
   "cell_type": "code",
   "execution_count": null,
   "metadata": {
    "ExecuteTime": {
     "end_time": "2020-07-15T23:10:46.314906Z",
     "start_time": "2020-07-15T23:10:45.059Z"
    }
   },
   "outputs": [],
   "source": [
    "def gradientDescent(X,y,theta,iterations,alpha):\n",
    "    c = np.ones(X.shape[0]).transpose()\n",
    "    X = np.insert(X,0,values=c,axis=1)#对原始数据加入一个全为1的列\n",
    "    m = X.shape[0]\n",
    "    n = X.shape[1]\n",
    "    costs=np.zeros(iterations)\n",
    "    for idx, num in enumerate(range(iterations)):\n",
    "        for j in range(n):\n",
    "            theta[j] = theta[j]+(alpha/m)*(np.sum(y-np.dot(X,theta)*X[:,j].reshape(-1,1)))\n",
    "        costs[num] = computeCost(X,y,theta)\n",
    "        if idx % 100 == 0:\n",
    "            print(f\"第{idx+1}次迭代，theta: {theta}, costs: {costs[num]}\")\n",
    "    return theta,costs"
   ]
  },
  {
   "cell_type": "markdown",
   "metadata": {
    "ExecuteTime": {
     "end_time": "2020-06-30T00:21:59.139602Z",
     "start_time": "2020-06-30T00:21:59.136617Z"
    }
   },
   "source": [
    "### 预测函数"
   ]
  },
  {
   "cell_type": "code",
   "execution_count": null,
   "metadata": {
    "ExecuteTime": {
     "end_time": "2020-07-15T23:10:46.316933Z",
     "start_time": "2020-07-15T23:10:45.115Z"
    }
   },
   "outputs": [],
   "source": [
    "def predict(X):\n",
    "    X = (X-mu)/sigma\n",
    "    c = np.ones(X.shape[0]).transpose()\n",
    "    X = np.insert(X,0,values=c,axis=1)\n",
    "    return np.dot(X,theta)"
   ]
  },
  {
   "cell_type": "code",
   "execution_count": null,
   "metadata": {
    "ExecuteTime": {
     "end_time": "2020-07-15T23:10:46.319920Z",
     "start_time": "2020-07-15T23:10:45.148Z"
    },
    "scrolled": false
   },
   "outputs": [],
   "source": [
    "X,y = loaddata('data/2_4.txt')\n",
    "X,mu,sigma = featureNormalize(X)\n",
    "theta = np.zeros(X.shape[1]+1).reshape(-1,1)\n",
    "iterations = 400\n",
    "alpha = 0.01\n",
    "theta,costs = gradientDescent(X,y,theta,iterations,alpha)\n",
    "# theta = gradientDescent(X,y,theta,iterations,alpha)"
   ]
  },
  {
   "cell_type": "markdown",
   "metadata": {},
   "source": [
    "### 画损失函数图"
   ]
  },
  {
   "cell_type": "code",
   "execution_count": null,
   "metadata": {
    "ExecuteTime": {
     "end_time": "2020-07-15T23:10:46.321906Z",
     "start_time": "2020-07-15T23:10:45.190Z"
    }
   },
   "outputs": [],
   "source": [
    "x_axis = np.linspace(1,iterations,iterations)\n",
    "plt.plot(x_axis,costs[0:iterations])"
   ]
  },
  {
   "cell_type": "markdown",
   "metadata": {},
   "source": [
    "### 画数据散点图和求得的直线"
   ]
  },
  {
   "cell_type": "code",
   "execution_count": null,
   "metadata": {
    "ExecuteTime": {
     "end_time": "2020-07-15T23:10:46.323905Z",
     "start_time": "2020-07-15T23:10:45.227Z"
    }
   },
   "outputs": [],
   "source": [
    "print(theta)"
   ]
  },
  {
   "cell_type": "code",
   "execution_count": null,
   "metadata": {
    "ExecuteTime": {
     "end_time": "2020-07-15T23:10:46.325937Z",
     "start_time": "2020-07-15T23:10:45.254Z"
    }
   },
   "outputs": [],
   "source": [
    "plt.scatter(X,y)\n",
    "h_theta = theta[0]+theta[1]*X\n",
    "plt.plot(X,h_theta)"
   ]
  },
  {
   "cell_type": "markdown",
   "metadata": {},
   "source": [
    "### 预测数据"
   ]
  },
  {
   "cell_type": "code",
   "execution_count": null,
   "metadata": {
    "ExecuteTime": {
     "end_time": "2020-07-15T23:10:46.327908Z",
     "start_time": "2020-07-15T23:10:45.291Z"
    }
   },
   "outputs": [],
   "source": [
    "print(predict([[8.4084]]))"
   ]
  },
  {
   "cell_type": "markdown",
   "metadata": {},
   "source": [
    "## Rigde回归求解"
   ]
  },
  {
   "cell_type": "code",
   "execution_count": null,
   "metadata": {
    "ExecuteTime": {
     "end_time": "2020-07-15T23:10:46.329909Z",
     "start_time": "2020-07-15T23:10:45.350Z"
    }
   },
   "outputs": [],
   "source": [
    "def featureNormalize(X):\n",
    "    mu = np.average(X, axis=0)\n",
    "    sigma = np.std(X, axis=0, ddof=1)\n",
    "    X = (X - mu) / sigma\n",
    "    return X, mu, sigma\n",
    "\n",
    "def rigde_pradient_descent(X, y, theta, alpha, lamda):\n",
    "    m, n = X.shape\n",
    "    b = np.ones(m).reshape(-1, 1)\n",
    "    X_new = np.c_[b, X]\n",
    "    for j in range(n + 1):\n",
    "        theta[j] = theta[j] + (alpha / m) * np.sum(y.reshape(1, -1) - np.dot(X_new, theta) * X_new[:, j]) - 2 * lamda * theta[j]\n",
    "    return theta\n",
    "\n",
    "def rigde_pradient_descent2(X, y, theta, alpha, lamda):\n",
    "    m, n = X.shape\n",
    "    b = np.ones(m).reshape(-1, 1)\n",
    "    X_new = np.c_[b, X]\n",
    "    for j in range(n + 1):\n",
    "        theta[j] = theta[j] + (alpha / m )* np.sum(y - np.dot(X_new, theta) * X_new[:,j].reshape(-1, 1)) - 2 * lamda * theta[j]\n",
    "    return theta\n",
    "\n",
    "def predict(X, theta):\n",
    "    b = np.ones(X.shape[0]).reshape(-1, 1)\n",
    "    X_new = np.c_[b, X]\n",
    "    pred = np.dot(X_new, theta)\n",
    "    return pred.reshape(-1, 1)\n",
    "\n",
    "def costfunc(X, y, theta):\n",
    "    y_pred = predict(X, theta)\n",
    "    cost = np.sum(np.power(y - y_pred, 2))\n",
    "    return cost\n"
   ]
  },
  {
   "cell_type": "code",
   "execution_count": null,
   "metadata": {
    "ExecuteTime": {
     "end_time": "2020-07-15T23:10:46.331926Z",
     "start_time": "2020-07-15T23:10:45.403Z"
    }
   },
   "outputs": [],
   "source": [
    "theta1 = np.zeros(X.shape[1]+1)\n",
    "theta2 = np.zeros(X.shape[1]+1).reshape(-1,1)\n",
    "alpha = 0.01\n",
    "lamda=0.001\n",
    "X, y = loaddata('data/2_5.txt')\n",
    "X, mu, sigma = featureNormalize(X)\n",
    "\n",
    "# my code\n",
    "costs1 = []\n",
    "for i in range(400):\n",
    "    theta = rigde_pradient_descent(X, y, theta=theta1, alpha=alpha, lamda=lamda)\n",
    "    cost = costfunc(X, y, theta)\n",
    "    costs1.append(cost)\n",
    "print(cost, theta)\n",
    "h1 = theta[0] + theta[1] * X\n",
    "\n",
    "# course code\n",
    "costs2 = []\n",
    "for i in range(400):\n",
    "    theta = rigde_pradient_descent2(X, y, theta=theta2, alpha=alpha, lamda=lamda)\n",
    "    cost = costfunc(X, y, theta)\n",
    "    costs2.append(cost)\n",
    "print(cost, theta)\n",
    "h2 = theta[0] + theta[1] * X"
   ]
  },
  {
   "cell_type": "code",
   "execution_count": null,
   "metadata": {
    "ExecuteTime": {
     "end_time": "2020-07-15T23:10:46.334910Z",
     "start_time": "2020-07-15T23:10:45.443Z"
    }
   },
   "outputs": [],
   "source": [
    "fig, axes = plt.subplots(2, 2, figsize=(16, 8))\n",
    "axes[0, 0].plot(costs1)\n",
    "axes[0, 0].set_title('my code')\n",
    "axes[0, 1].plot(costs2)\n",
    "axes[0, 1].set_title('course code')\n",
    "axes[1, 0].scatter(X, y)\n",
    "axes[1, 0].plot(X, h1)\n",
    "axes[1, 0].set_title('my code')\n",
    "axes[1, 1].scatter(X, y)\n",
    "axes[1, 1].plot(X, h2)\n",
    "axes[1, 1].set_title('course code')"
   ]
  },
  {
   "cell_type": "markdown",
   "metadata": {},
   "source": [
    "## LASSO回归求解\n",
    "$$p_{k}=\\sum_{i=1}^{m}\\left[\\left(x_{k}^{(i)}\\left(y^{(i)}-\\sum_{j=0, j \\neq k}^{n} \\theta_{j} x_{j}^{(i)}\\right)\\right]\\right.$$\n",
    "$$z_{k}=\\sum_{i=1}^{m} x_{k}^{(i)^{2}}$$\n",
    "\n",
    "$$\\theta_{k}=\\left\\{\\begin{array}{l}\n",
    "\\left(p_{k}+\\lambda / 2\\right) / z_{k} & p_{k}<-\\lambda / 2 \\\\\n",
    "0 & -\\lambda / 2 \\leq p_{k} \\leq \\lambda / 2 \\\\\n",
    "\\left(p_{k}-\\lambda / 2\\right) / z_{k} & p_{k}>\\lambda / 2\n",
    "\\end{array}\\right.$$\n"
   ]
  },
  {
   "cell_type": "code",
   "execution_count": 52,
   "metadata": {
    "ExecuteTime": {
     "end_time": "2020-07-15T23:56:51.258741Z",
     "start_time": "2020-07-15T23:56:51.238738Z"
    }
   },
   "outputs": [],
   "source": [
    "def loaddata(filepath):\n",
    "    data = np.loadtxt(filepath,delimiter=',')\n",
    "    n = data.shape[1]-1 #特征数\n",
    "    X = data[:,0:n]\n",
    "    y = data[:,-1].reshape(-1,1)\n",
    "    return X,y\n",
    "\n",
    "def featureNormalize(X):\n",
    "    mu = np.average(X, axis=0)\n",
    "    sigma = np.std(X, axis=0, ddof=1)\n",
    "    X = (X - mu) / sigma\n",
    "    return X, mu, sigma\n",
    "\n",
    "def get_x_new(X):\n",
    "    m, n = X.shape\n",
    "    b = np.ones(m).reshape(-1, 1)\n",
    "    X_new = np.c_[b, X]\n",
    "    return X_new\n",
    "\n",
    "def pk(X, y, theta_k, k):\n",
    "    X_k = np.delete(X, k, axis=1)\n",
    "    pk = np.sum(np.dot((y.reshape(1, -1) - np.sum(np.dot(X_k, theta_k))), X[:, k]))\n",
    "    return pk\n",
    "\n",
    "def zk(X, k):\n",
    "    X_ = X[:, k]\n",
    "    zk = np.sum(np.power(X_, 2))\n",
    "    return zk\n",
    "\n",
    "def lasso_pradient_descent(X, y, lamda, iterations=100):\n",
    "    X_new = get_x_new(X)\n",
    "    theta = np.zeros(X_new.shape[1])\n",
    "    for it in range(iterations):\n",
    "        for idx, theta_k in enumerate(theta):\n",
    "            p_idx = pk(X_new, y, theta_k, idx)\n",
    "            z_idx = zk(X_new, idx)\n",
    "\n",
    "            if p_idx < - lamda / 2:\n",
    "                theta[idx] = (p_idx + lamda / 2) / z_idx\n",
    "            elif p_idx > lamda / 2:\n",
    "                theta[idx] = (p_idx - lamda / 2) / z_idx\n",
    "            else:\n",
    "                theta[idx] = 0\n",
    "    return theta\n",
    "\n",
    "def predict(X, theta):\n",
    "    X_new = get_x_new(X)\n",
    "    pred = np.dot(X_new, theta)\n",
    "    return pred.reshape(-1, 1)\n",
    "\n",
    "def costfunc(X, y, theta):\n",
    "    y_pred = predict(X, theta)\n",
    "    cost = np.sum(np.power(y - y_pred, 2))\n",
    "    return cost\n"
   ]
  },
  {
   "cell_type": "code",
   "execution_count": 54,
   "metadata": {
    "ExecuteTime": {
     "end_time": "2020-07-15T23:57:30.346082Z",
     "start_time": "2020-07-15T23:57:30.157070Z"
    }
   },
   "outputs": [
    {
     "data": {
      "text/plain": [
       "array([5.83810412, 4.61585958])"
      ]
     },
     "execution_count": 54,
     "metadata": {},
     "output_type": "execute_result"
    },
    {
     "data": {
      "text/plain": [
       "<matplotlib.collections.PathCollection at 0x1f00c199e88>"
      ]
     },
     "execution_count": 54,
     "metadata": {},
     "output_type": "execute_result"
    },
    {
     "data": {
      "text/plain": [
       "[<matplotlib.lines.Line2D at 0x1f00e87d208>]"
      ]
     },
     "execution_count": 54,
     "metadata": {},
     "output_type": "execute_result"
    },
    {
     "data": {
      "image/png": "[encoded data removed]",
      "text/plain": [
       "<Figure size 432x288 with 1 Axes>"
      ]
     },
     "metadata": {
      "needs_background": "light"
     },
     "output_type": "display_data"
    }
   ],
   "source": [
    "X, y = loaddata('./data/2_4.txt')\n",
    "X, mu, sigma = featureNormalize(X)\n",
    "theta = lasso_pradient_descent(X, y, lamda=0.2)\n",
    "theta\n",
    "plt.scatter(X, y)\n",
    "plt.plot(X, predict(X, theta))"
   ]
  },
  {
   "cell_type": "code",
   "execution_count": null,
   "metadata": {},
   "outputs": [],
   "source": []
  }
 ],
 "metadata": {
  "hide_input": false,
  "kernelspec": {
   "display_name": "Python 3",
   "language": "python",
   "name": "python3"
  },
  "language_info": {
   "codemirror_mode": {
    "name": "ipython",
    "version": 3
   },
   "file_extension": ".py",
   "mimetype": "text/x-python",
   "name": "python",
   "nbconvert_exporter": "python",
   "pygments_lexer": "ipython3",
   "version": "3.7.4"
  },
  "nbTranslate": {
   "displayLangs": [
    "*"
   ],
   "hotkey": "alt-t",
   "langInMainMenu": true,
   "sourceLang": "en",
   "targetLang": "fr",
   "useGoogleTranslate": true
  },
  "toc": {
   "base_numbering": 1,
   "nav_menu": {},
   "number_sections": true,
   "sideBar": true,
   "skip_h1_title": false,
   "title_cell": "Table of Contents",
   "title_sidebar": "Contents",
   "toc_cell": false,
   "toc_position": {},
   "toc_section_display": true,
   "toc_window_display": true
  },
  "varInspector": {
   "cols": {
    "lenName": 16,
    "lenType": 16,
    "lenVar": 40
   },
   "kernels_config": {
    "python": {
     "delete_cmd_postfix": "",
     "delete_cmd_prefix": "del ",
     "library": "var_list.py",
     "varRefreshCmd": "print(var_dic_list())"
    },
    "r": {
     "delete_cmd_postfix": ") ",
     "delete_cmd_prefix": "rm(",
     "library": "var_list.r",
     "varRefreshCmd": "cat(var_dic_list()) "
    }
   },
   "types_to_exclude": [
    "module",
    "function",
    "builtin_function_or_method",
    "instance",
    "_Feature"
   ],
   "window_display": false
  }
 },
 "nbformat": 4,
 "nbformat_minor": 2
}
