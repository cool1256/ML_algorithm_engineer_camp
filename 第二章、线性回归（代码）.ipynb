{
 "cells": [
  {
   "cell_type": "markdown",
   "metadata": {},
   "source": [
    "## 梯度下降法举例"
   ]
  },
  {
   "cell_type": "markdown",
   "metadata": {},
   "source": [
    "### 求 $y=x^2+2x+5$的最小值"
   ]
  },
  {
   "cell_type": "code",
   "execution_count": 1,
   "metadata": {
    "ExecuteTime": {
     "end_time": "2020-07-19T23:08:46.584128Z",
     "start_time": "2020-07-19T23:08:45.468127Z"
    }
   },
   "outputs": [
    {
     "data": {
      "text/plain": [
       "[<matplotlib.lines.Line2D at 0x1912dfdda08>]"
      ]
     },
     "execution_count": 1,
     "metadata": {},
     "output_type": "execute_result"
    },
    {
     "data": {
      "image/png": "[encoded data removed]",
      "text/plain": [
       "<Figure size 432x288 with 1 Axes>"
      ]
     },
     "metadata": {
      "needs_background": "light"
     },
     "output_type": "display_data"
    }
   ],
   "source": [
    "x = np.linspace(-6, 4, 100)\n",
    "y = x ** 2 + x * 2 + 5\n",
    "plt.plot(x, y)"
   ]
  },
  {
   "cell_type": "code",
   "execution_count": 2,
   "metadata": {
    "ExecuteTime": {
     "end_time": "2020-07-19T23:08:46.618127Z",
     "start_time": "2020-07-19T23:08:46.587129Z"
    }
   },
   "outputs": [
    {
     "data": {
      "text/plain": [
       "(-1.0, 74)"
      ]
     },
     "execution_count": 2,
     "metadata": {},
     "output_type": "execute_result"
    }
   ],
   "source": [
    "def gradient(x):\n",
    "    return x * 2 + 2\n",
    "def get_min(gradient, alpha=0.8):\n",
    "    num = 0\n",
    "    x = np.random.randint(-6, 4)\n",
    "    grad = gradient(x)\n",
    "    while grad != 0:\n",
    "        x -= alpha * grad\n",
    "        grad = gradient(x)\n",
    "        num += 1\n",
    "#         print(x)\n",
    "    return x, num\n",
    "\n",
    "get_min(gradient)"
   ]
  },
  {
   "cell_type": "markdown",
   "metadata": {},
   "source": [
    "## 线性回归代码实现"
   ]
  },
  {
   "cell_type": "code",
   "execution_count": 3,
   "metadata": {
    "ExecuteTime": {
     "end_time": "2020-07-19T23:08:46.625128Z",
     "start_time": "2020-07-19T23:08:46.621132Z"
    }
   },
   "outputs": [],
   "source": [
    "import numpy as np\n",
    "import matplotlib.pyplot as plt"
   ]
  },
  {
   "cell_type": "markdown",
   "metadata": {},
   "source": [
    "### 定义一个加载数据的函数"
   ]
  },
  {
   "cell_type": "code",
   "execution_count": 4,
   "metadata": {
    "ExecuteTime": {
     "end_time": "2020-07-19T23:08:46.640128Z",
     "start_time": "2020-07-19T23:08:46.628128Z"
    }
   },
   "outputs": [],
   "source": [
    "def loaddata(filepath):\n",
    "    data = np.loadtxt(filepath,delimiter=',')\n",
    "    n = data.shape[1]-1 #特征数\n",
    "    X = data[:,0:n]\n",
    "    y = data[:,-1].reshape(-1,1)\n",
    "    return X,y"
   ]
  },
  {
   "cell_type": "code",
   "execution_count": 5,
   "metadata": {
    "ExecuteTime": {
     "end_time": "2020-07-19T23:08:46.662126Z",
     "start_time": "2020-07-19T23:08:46.646128Z"
    }
   },
   "outputs": [
    {
     "data": {
      "text/plain": [
       "array([[6.1101],\n",
       "       [5.5277],\n",
       "       [8.5186],\n",
       "       [7.0032],\n",
       "       [5.8598]])"
      ]
     },
     "execution_count": 5,
     "metadata": {},
     "output_type": "execute_result"
    },
    {
     "data": {
      "text/plain": [
       "array([[17.592 ],\n",
       "       [ 9.1302],\n",
       "       [13.662 ],\n",
       "       [11.854 ],\n",
       "       [ 6.8233]])"
      ]
     },
     "execution_count": 5,
     "metadata": {},
     "output_type": "execute_result"
    }
   ],
   "source": [
    "X, y = loaddata('data/2_4.txt')\n",
    "X[:5]\n",
    "y[:5]"
   ]
  },
  {
   "cell_type": "markdown",
   "metadata": {},
   "source": [
    "### 特征标准化"
   ]
  },
  {
   "cell_type": "code",
   "execution_count": 6,
   "metadata": {
    "ExecuteTime": {
     "end_time": "2020-07-19T23:08:46.673127Z",
     "start_time": "2020-07-19T23:08:46.668128Z"
    }
   },
   "outputs": [],
   "source": [
    "def featureNormalize(X):\n",
    "    mu = np.average(X, axis=0)\n",
    "    sigma = np.std(X, axis=0, ddof=1)\n",
    "    X = (X - mu) / sigma\n",
    "    return X, mu, sigma"
   ]
  },
  {
   "cell_type": "markdown",
   "metadata": {},
   "source": [
    "### 计算损失函数\n",
    "$$h_{\\theta}(x)=\\sum_{i=0}^{n} \\theta_{i} x_{i}=\\theta^{T}x  \\text{ 其中}x_{0}=1 $$\n",
    "$$L(\\theta)=\\left(h_{\\theta}(x)-y\\right)^{2}$$"
   ]
  },
  {
   "cell_type": "code",
   "execution_count": 7,
   "metadata": {
    "ExecuteTime": {
     "end_time": "2020-07-19T23:08:46.685129Z",
     "start_time": "2020-07-19T23:08:46.677126Z"
    }
   },
   "outputs": [],
   "source": [
    "def computeCost(X,y,theta):\n",
    "    m = X.shape[0]\n",
    "    return np.sum(np.power(np.dot(X,theta)-y,2))/(2*m)"
   ]
  },
  {
   "cell_type": "markdown",
   "metadata": {},
   "source": [
    "### 梯度下降法求解\n",
    "$$\\begin{array}{l}\n",
    "\\frac{\\partial}{\\partial \\theta_{j}} J(\\theta)=\\frac{\\partial}{\\partial \\theta_{j}} \\frac{1}{2 m} \\sum_{i=1}^{m}\\left(h_{\\theta}\\left(x^{(i)}\\right)-y^{(i)}\\right)^{2} \\\\\n",
    "=2 * \\frac{1}{2 m} \\sum_{i=1}^{m}\\left[\\left(h_{\\theta}\\left(x^{(i)}\\right)-y^{(i)}\\right) \\frac{\\partial}{\\partial \\theta_{j}}\\left(h_{\\theta}\\left(x^{(i)}\\right)-y^{(i)}\\right)\\right] \\\\\n",
    "=\\frac{1}{m} \\sum_{i=1}^{m}\\left[\\left(h_{\\theta}\\left(x^{(i)}\\right)-y^{(i)}\\right) \\frac{\\partial}{\\partial \\theta_{j}}\\left(\\sum_{f=0}^{n} \\theta_{f} x_{f}^{(i)}-y^{(i)}\\right)\\right] \\\\\n",
    "=\\frac{1}{m} \\sum_{i=1}^{m}\\left[\\left(h_{\\theta}\\left(x^{(i)}\\right)-y^{(i)}\\right) x_{j}^{(i)}\\right] \\\\\n",
    "\\theta_{j}:=\\theta_{j}+\\alpha \\frac{1}{m} \\sum_{i=1}^{m}\\left(y^{(i)}-h_{\\theta}\\left(x^{(i)}\\right)\\right) x_{j}^{(i)}\n",
    "\\end{array}$$   \n",
    "$$\\text{故：    }\\theta_{j}=\\theta_{j}+\\alpha \\frac{1}{m} \\sum_{i=1}^{m}\\left(y^{(i)}-h_{\\theta}\\left(x^{(i)}\\right)\\right) x_{j}^{(i)}$$"
   ]
  },
  {
   "cell_type": "code",
   "execution_count": 8,
   "metadata": {
    "ExecuteTime": {
     "end_time": "2020-07-19T23:08:46.702128Z",
     "start_time": "2020-07-19T23:08:46.689128Z"
    }
   },
   "outputs": [],
   "source": [
    "def gradientDescent(X,y,theta,iterations,alpha):\n",
    "    c = np.ones(X.shape[0]).transpose()\n",
    "    X = np.insert(X,0,values=c,axis=1)#对原始数据加入一个全为1的列\n",
    "    m = X.shape[0]\n",
    "    n = X.shape[1]\n",
    "    costs=np.zeros(iterations)\n",
    "    for idx, num in enumerate(range(iterations)):\n",
    "        for j in range(n):\n",
    "            theta[j] = theta[j]+(alpha/m)*(np.sum(y-np.dot(X,theta)*X[:,j].reshape(-1,1)))\n",
    "        costs[num] = computeCost(X,y,theta)\n",
    "        if idx % 100 == 0:\n",
    "            print(f\"第{idx+1}次迭代，theta: {theta}, costs: {costs[num]}\")\n",
    "    return theta,costs"
   ]
  },
  {
   "cell_type": "markdown",
   "metadata": {
    "ExecuteTime": {
     "end_time": "2020-06-30T00:21:59.139602Z",
     "start_time": "2020-06-30T00:21:59.136617Z"
    }
   },
   "source": [
    "### 预测函数"
   ]
  },
  {
   "cell_type": "code",
   "execution_count": 9,
   "metadata": {
    "ExecuteTime": {
     "end_time": "2020-07-19T23:08:46.712128Z",
     "start_time": "2020-07-19T23:08:46.705127Z"
    }
   },
   "outputs": [],
   "source": [
    "def predict(X):\n",
    "    X = (X-mu)/sigma\n",
    "    c = np.ones(X.shape[0]).transpose()\n",
    "    X = np.insert(X,0,values=c,axis=1)\n",
    "    return np.dot(X,theta)"
   ]
  },
  {
   "cell_type": "code",
   "execution_count": 10,
   "metadata": {
    "ExecuteTime": {
     "end_time": "2020-07-19T23:08:46.760140Z",
     "start_time": "2020-07-19T23:08:46.716126Z"
    },
    "scrolled": false
   },
   "outputs": [
    {
     "name": "stdout",
     "output_type": "stream",
     "text": [
      "第1次迭代，theta: [[0.05839135]\n",
      " [0.05839135]], costs: 31.468363020154566\n",
      "第101次迭代，theta: [[3.7231959]\n",
      " [3.7393754]], costs: 7.09662708877999\n",
      "第201次迭代，theta: [[5.06463289]\n",
      " [5.10083779]], costs: 4.892788274391381\n",
      "第301次迭代，theta: [[5.55564221]\n",
      " [5.60439331]], costs: 4.9996992567219\n"
     ]
    }
   ],
   "source": [
    "X,y = loaddata('data/2_4.txt')\n",
    "X,mu,sigma = featureNormalize(X)\n",
    "theta = np.zeros(X.shape[1]+1).reshape(-1,1)\n",
    "iterations = 400\n",
    "alpha = 0.01\n",
    "theta,costs = gradientDescent(X,y,theta,iterations,alpha)\n",
    "# theta = gradientDescent(X,y,theta,iterations,alpha)"
   ]
  },
  {
   "cell_type": "markdown",
   "metadata": {},
   "source": [
    "### 画损失函数图"
   ]
  },
  {
   "cell_type": "code",
   "execution_count": 11,
   "metadata": {
    "ExecuteTime": {
     "end_time": "2020-07-19T23:08:47.008126Z",
     "start_time": "2020-07-19T23:08:46.763126Z"
    }
   },
   "outputs": [
    {
     "data": {
      "text/plain": [
       "[<matplotlib.lines.Line2D at 0x19130044ec8>]"
      ]
     },
     "execution_count": 11,
     "metadata": {},
     "output_type": "execute_result"
    },
    {
     "data": {
      "image/png": "[encoded data removed]",
      "text/plain": [
       "<Figure size 432x288 with 1 Axes>"
      ]
     },
     "metadata": {
      "needs_background": "light"
     },
     "output_type": "display_data"
    }
   ],
   "source": [
    "x_axis = np.linspace(1,iterations,iterations)\n",
    "plt.plot(x_axis,costs[0:iterations])"
   ]
  },
  {
   "cell_type": "markdown",
   "metadata": {},
   "source": [
    "### 画数据散点图和求得的直线"
   ]
  },
  {
   "cell_type": "code",
   "execution_count": 12,
   "metadata": {
    "ExecuteTime": {
     "end_time": "2020-07-19T23:08:47.017129Z",
     "start_time": "2020-07-19T23:08:47.011135Z"
    }
   },
   "outputs": [
    {
     "name": "stdout",
     "output_type": "stream",
     "text": [
      "[[5.73431935]\n",
      " [5.78954748]]\n"
     ]
    }
   ],
   "source": [
    "print(theta)"
   ]
  },
  {
   "cell_type": "code",
   "execution_count": 13,
   "metadata": {
    "ExecuteTime": {
     "end_time": "2020-07-19T23:08:47.389127Z",
     "start_time": "2020-07-19T23:08:47.020128Z"
    }
   },
   "outputs": [
    {
     "data": {
      "text/plain": [
       "<matplotlib.collections.PathCollection at 0x191300c6dc8>"
      ]
     },
     "execution_count": 13,
     "metadata": {},
     "output_type": "execute_result"
    },
    {
     "data": {
      "text/plain": [
       "[<matplotlib.lines.Line2D at 0x191300971c8>]"
      ]
     },
     "execution_count": 13,
     "metadata": {},
     "output_type": "execute_result"
    },
    {
     "data": {
      "image/png": "[encoded data removed]",
      "text/plain": [
       "<Figure size 432x288 with 1 Axes>"
      ]
     },
     "metadata": {
      "needs_background": "light"
     },
     "output_type": "display_data"
    }
   ],
   "source": [
    "plt.scatter(X,y)\n",
    "h_theta = theta[0]+theta[1]*X\n",
    "plt.plot(X,h_theta)"
   ]
  },
  {
   "cell_type": "markdown",
   "metadata": {},
   "source": [
    "### 预测数据"
   ]
  },
  {
   "cell_type": "code",
   "execution_count": 14,
   "metadata": {
    "ExecuteTime": {
     "end_time": "2020-07-19T23:08:47.805143Z",
     "start_time": "2020-07-19T23:08:47.392128Z"
    }
   },
   "outputs": [
    {
     "name": "stdout",
     "output_type": "stream",
     "text": [
      "[[6.10623791]]\n"
     ]
    }
   ],
   "source": [
    "print(predict([[8.4084]]))"
   ]
  },
  {
   "cell_type": "markdown",
   "metadata": {},
   "source": [
    "## Rigde回归求解"
   ]
  },
  {
   "cell_type": "code",
   "execution_count": 15,
   "metadata": {
    "ExecuteTime": {
     "end_time": "2020-07-19T23:08:47.830129Z",
     "start_time": "2020-07-19T23:08:47.809127Z"
    }
   },
   "outputs": [],
   "source": [
    "def featureNormalize(X):\n",
    "    mu = np.average(X, axis=0)\n",
    "    sigma = np.std(X, axis=0, ddof=1)\n",
    "    X = (X - mu) / sigma\n",
    "    return X, mu, sigma\n",
    "\n",
    "def rigde_pradient_descent(X, y, theta, alpha, lamda):\n",
    "    m, n = X.shape\n",
    "    b = np.ones(m).reshape(-1, 1)\n",
    "    X_new = np.c_[b, X]\n",
    "    for j in range(n + 1):\n",
    "        theta[j] = theta[j] + (alpha / m) * np.sum(y.reshape(1, -1) - np.dot(X_new, theta) * X_new[:, j]) - 2 * lamda * theta[j]\n",
    "    return theta\n",
    "\n",
    "def rigde_pradient_descent2(X, y, theta, alpha, lamda):\n",
    "    m, n = X.shape\n",
    "    b = np.ones(m).reshape(-1, 1)\n",
    "    X_new = np.c_[b, X]\n",
    "    for j in range(n + 1):\n",
    "        theta[j] = theta[j] + (alpha / m )* np.sum(y - np.dot(X_new, theta) * X_new[:,j].reshape(-1, 1)) - 2 * lamda * theta[j]\n",
    "    return theta\n",
    "\n",
    "def predict(X, theta):\n",
    "    b = np.ones(X.shape[0]).reshape(-1, 1)\n",
    "    X_new = np.c_[b, X]\n",
    "    pred = np.dot(X_new, theta)\n",
    "    return pred.reshape(-1, 1)\n",
    "\n",
    "def costfunc(X, y, theta):\n",
    "    y_pred = predict(X, theta)\n",
    "    cost = np.sum(np.power(y - y_pred, 2))\n",
    "    return cost\n"
   ]
  },
  {
   "cell_type": "code",
   "execution_count": 16,
   "metadata": {
    "ExecuteTime": {
     "end_time": "2020-07-19T23:08:47.987129Z",
     "start_time": "2020-07-19T23:08:47.833143Z"
    }
   },
   "outputs": [
    {
     "name": "stdout",
     "output_type": "stream",
     "text": [
      "973.9063311635036 [4.82704628 4.86720288]\n",
      "973.9063311635036 [[4.82704628]\n",
      " [4.86720288]]\n"
     ]
    }
   ],
   "source": [
    "theta1 = np.zeros(X.shape[1]+1)\n",
    "theta2 = np.zeros(X.shape[1]+1).reshape(-1,1)\n",
    "alpha = 0.01\n",
    "lamda=0.001\n",
    "X, y = loaddata('data/2_5.txt')\n",
    "X, mu, sigma = featureNormalize(X)\n",
    "\n",
    "# my code\n",
    "costs1 = []\n",
    "for i in range(400):\n",
    "    theta = rigde_pradient_descent(X, y, theta=theta1, alpha=alpha, lamda=lamda)\n",
    "    cost = costfunc(X, y, theta)\n",
    "    costs1.append(cost)\n",
    "print(cost, theta)\n",
    "h1 = theta[0] + theta[1] * X\n",
    "\n",
    "# course code\n",
    "costs2 = []\n",
    "for i in range(400):\n",
    "    theta = rigde_pradient_descent2(X, y, theta=theta2, alpha=alpha, lamda=lamda)\n",
    "    cost = costfunc(X, y, theta)\n",
    "    costs2.append(cost)\n",
    "print(cost, theta)\n",
    "h2 = theta[0] + theta[1] * X"
   ]
  },
  {
   "cell_type": "code",
   "execution_count": 17,
   "metadata": {
    "ExecuteTime": {
     "end_time": "2020-07-19T23:08:49.188127Z",
     "start_time": "2020-07-19T23:08:47.989126Z"
    }
   },
   "outputs": [
    {
     "data": {
      "text/plain": [
       "[<matplotlib.lines.Line2D at 0x1912ebde0c8>]"
      ]
     },
     "execution_count": 17,
     "metadata": {},
     "output_type": "execute_result"
    },
    {
     "data": {
      "text/plain": [
       "Text(0.5, 1.0, 'my code')"
      ]
     },
     "execution_count": 17,
     "metadata": {},
     "output_type": "execute_result"
    },
    {
     "data": {
      "text/plain": [
       "[<matplotlib.lines.Line2D at 0x191301e4c08>]"
      ]
     },
     "execution_count": 17,
     "metadata": {},
     "output_type": "execute_result"
    },
    {
     "data": {
      "text/plain": [
       "Text(0.5, 1.0, 'course code')"
      ]
     },
     "execution_count": 17,
     "metadata": {},
     "output_type": "execute_result"
    },
    {
     "data": {
      "text/plain": [
       "<matplotlib.collections.PathCollection at 0x191301e98c8>"
      ]
     },
     "execution_count": 17,
     "metadata": {},
     "output_type": "execute_result"
    },
    {
     "data": {
      "text/plain": [
       "[<matplotlib.lines.Line2D at 0x191301e40c8>]"
      ]
     },
     "execution_count": 17,
     "metadata": {},
     "output_type": "execute_result"
    },
    {
     "data": {
      "text/plain": [
       "Text(0.5, 1.0, 'my code')"
      ]
     },
     "execution_count": 17,
     "metadata": {},
     "output_type": "execute_result"
    },
    {
     "data": {
      "text/plain": [
       "<matplotlib.collections.PathCollection at 0x191301ef888>"
      ]
     },
     "execution_count": 17,
     "metadata": {},
     "output_type": "execute_result"
    },
    {
     "data": {
      "text/plain": [
       "[<matplotlib.lines.Line2D at 0x191301ef488>]"
      ]
     },
     "execution_count": 17,
     "metadata": {},
     "output_type": "execute_result"
    },
    {
     "data": {
      "text/plain": [
       "Text(0.5, 1.0, 'course code')"
      ]
     },
     "execution_count": 17,
     "metadata": {},
     "output_type": "execute_result"
    },
    {
     "data": {
      "image/png": "[encoded data removed]",
      "text/plain": [
       "<Figure size 1152x576 with 4 Axes>"
      ]
     },
     "metadata": {
      "needs_background": "light"
     },
     "output_type": "display_data"
    }
   ],
   "source": [
    "fig, axes = plt.subplots(2, 2, figsize=(16, 8))\n",
    "axes[0, 0].plot(costs1)\n",
    "axes[0, 0].set_title('my code')\n",
    "axes[0, 1].plot(costs2)\n",
    "axes[0, 1].set_title('course code')\n",
    "axes[1, 0].scatter(X, y)\n",
    "axes[1, 0].plot(X, h1)\n",
    "axes[1, 0].set_title('my code')\n",
    "axes[1, 1].scatter(X, y)\n",
    "axes[1, 1].plot(X, h2)\n",
    "axes[1, 1].set_title('course code')"
   ]
  },
  {
   "cell_type": "markdown",
   "metadata": {},
   "source": [
    "## LASSO回归求解\n",
    "$$p_{k}=\\sum_{i=1}^{m}\\left[\\left(x_{k}^{(i)}\\left(y^{(i)}-\\sum_{j=0, j \\neq k}^{n} \\theta_{j} x_{j}^{(i)}\\right)\\right]\\right.$$\n",
    "$$z_{k}=\\sum_{i=1}^{m} x_{k}^{(i)^{2}}$$\n",
    "\n",
    "$$\\theta_{k}=\\left\\{\\begin{array}{l}\n",
    "\\left(p_{k}+\\lambda / 2\\right) / z_{k} & p_{k}<-\\lambda / 2 \\\\\n",
    "0 & -\\lambda / 2 \\leq p_{k} \\leq \\lambda / 2 \\\\\n",
    "\\left(p_{k}-\\lambda / 2\\right) / z_{k} & p_{k}>\\lambda / 2\n",
    "\\end{array}\\right.$$\n"
   ]
  },
  {
   "cell_type": "code",
   "execution_count": 18,
   "metadata": {
    "ExecuteTime": {
     "end_time": "2020-07-19T23:08:49.220128Z",
     "start_time": "2020-07-19T23:08:49.192129Z"
    }
   },
   "outputs": [],
   "source": [
    "def loaddata(filepath):\n",
    "    data = np.loadtxt(filepath,delimiter=',')\n",
    "    n = data.shape[1]-1 #特征数\n",
    "    X = data[:,0:n]\n",
    "    y = data[:,-1].reshape(-1,1)\n",
    "    return X,y\n",
    "\n",
    "def featureNormalize(X):\n",
    "    mu = np.average(X, axis=0)\n",
    "    sigma = np.std(X, axis=0, ddof=1)\n",
    "    X = (X - mu) / sigma\n",
    "    return X, mu, sigma\n",
    "\n",
    "def get_x_new(X):\n",
    "    m, n = X.shape\n",
    "    b = np.ones(m).reshape(-1, 1)\n",
    "    X_new = np.c_[b, X]\n",
    "    return X_new\n",
    "\n",
    "def pk(X, y, theta_k, k):\n",
    "    X_k = np.delete(X, k, axis=1)\n",
    "    pk = np.sum(np.dot((y.reshape(1, -1) - np.sum(np.dot(X_k, theta_k))), X[:, k]))\n",
    "    return pk\n",
    "\n",
    "def zk(X, k):\n",
    "    X_ = X[:, k]\n",
    "    zk = np.sum(np.power(X_, 2))\n",
    "    return zk\n",
    "\n",
    "def lasso_pradient_descent(X, y, lamda, iterations=100):\n",
    "    X_new = get_x_new(X)\n",
    "    theta = np.zeros(X_new.shape[1])\n",
    "    for it in range(iterations):\n",
    "        for idx, theta_k in enumerate(theta):\n",
    "            p_idx = pk(X_new, y, theta_k, idx)\n",
    "            z_idx = zk(X_new, idx)\n",
    "\n",
    "            if p_idx < - lamda / 2:\n",
    "                theta[idx] = (p_idx + lamda / 2) / z_idx\n",
    "            elif p_idx > lamda / 2:\n",
    "                theta[idx] = (p_idx - lamda / 2) / z_idx\n",
    "            else:\n",
    "                theta[idx] = 0\n",
    "    return theta\n",
    "\n",
    "def predict(X, theta):\n",
    "    X_new = get_x_new(X)\n",
    "    pred = np.dot(X_new, theta)\n",
    "    return pred.reshape(-1, 1)\n",
    "\n",
    "def costfunc(X, y, theta):\n",
    "    y_pred = predict(X, theta)\n",
    "    cost = np.sum(np.power(y - y_pred, 2))\n",
    "    return cost\n"
   ]
  },
  {
   "cell_type": "code",
   "execution_count": 19,
   "metadata": {
    "ExecuteTime": {
     "end_time": "2020-07-19T23:08:49.514129Z",
     "start_time": "2020-07-19T23:08:49.224131Z"
    }
   },
   "outputs": [
    {
     "data": {
      "text/plain": [
       "array([5.83810412, 4.61585958])"
      ]
     },
     "execution_count": 19,
     "metadata": {},
     "output_type": "execute_result"
    },
    {
     "data": {
      "text/plain": [
       "<matplotlib.collections.PathCollection at 0x191302148c8>"
      ]
     },
     "execution_count": 19,
     "metadata": {},
     "output_type": "execute_result"
    },
    {
     "data": {
      "text/plain": [
       "[<matplotlib.lines.Line2D at 0x19130532cc8>]"
      ]
     },
     "execution_count": 19,
     "metadata": {},
     "output_type": "execute_result"
    },
    {
     "data": {
      "image/png": "[encoded data removed]",
      "text/plain": [
       "<Figure size 432x288 with 1 Axes>"
      ]
     },
     "metadata": {
      "needs_background": "light"
     },
     "output_type": "display_data"
    }
   ],
   "source": [
    "X, y = loaddata('./data/2_4.txt')\n",
    "X, mu, sigma = featureNormalize(X)\n",
    "theta = lasso_pradient_descent(X, y, lamda=0.2)\n",
    "theta\n",
    "plt.scatter(X, y)\n",
    "plt.plot(X, predict(X, theta))"
   ]
  },
  {
   "cell_type": "markdown",
   "metadata": {},
   "source": [
    "## 最小二乘法\n",
    "\n",
    "$$\\theta=\\left(X^{T} X\\right)^{-1} X^{T} y$$"
   ]
  },
  {
   "cell_type": "code",
   "execution_count": 24,
   "metadata": {
    "ExecuteTime": {
     "end_time": "2020-07-19T23:18:01.954400Z",
     "start_time": "2020-07-19T23:18:01.941401Z"
    }
   },
   "outputs": [
    {
     "data": {
      "text/plain": [
       "array([[-3.89578088],\n",
       "       [ 1.19303364]])"
      ]
     },
     "execution_count": 24,
     "metadata": {},
     "output_type": "execute_result"
    }
   ],
   "source": [
    "def get_x_new(X):\n",
    "    m, n = X.shape\n",
    "    b = np.ones(m).reshape(-1, 1)\n",
    "    X_new = np.c_[b, X]\n",
    "    return X_new\n",
    "X_ori, y = loaddata('./data/2_4.txt')\n",
    "X = get_x_new(X_ori)\n",
    "theta = np.linalg.inv(X.T.dot(X)).dot(X.T).dot(y)\n",
    "theta"
   ]
  },
  {
   "cell_type": "code",
   "execution_count": 25,
   "metadata": {
    "ExecuteTime": {
     "end_time": "2020-07-19T23:18:11.276240Z",
     "start_time": "2020-07-19T23:18:11.097213Z"
    }
   },
   "outputs": [
    {
     "data": {
      "text/plain": [
       "<matplotlib.collections.PathCollection at 0x1913164ff48>"
      ]
     },
     "execution_count": 25,
     "metadata": {},
     "output_type": "execute_result"
    },
    {
     "data": {
      "text/plain": [
       "[<matplotlib.lines.Line2D at 0x1913018e948>]"
      ]
     },
     "execution_count": 25,
     "metadata": {},
     "output_type": "execute_result"
    },
    {
     "data": {
      "image/png": "[encoded data removed]",
      "text/plain": [
       "<Figure size 432x288 with 1 Axes>"
      ]
     },
     "metadata": {
      "needs_background": "light"
     },
     "output_type": "display_data"
    }
   ],
   "source": [
    "y_pred = X.dot(theta)\n",
    "plt.scatter(X_ori, y)\n",
    "plt.plot(X_ori, y_pred)"
   ]
  },
  {
   "cell_type": "markdown",
   "metadata": {},
   "source": [
    "## sklearn"
   ]
  },
  {
   "cell_type": "code",
   "execution_count": 26,
   "metadata": {
    "ExecuteTime": {
     "end_time": "2020-07-19T23:21:25.834062Z",
     "start_time": "2020-07-19T23:21:25.829062Z"
    }
   },
   "outputs": [],
   "source": [
    "X, y = loaddata('./data/2_4.txt')"
   ]
  },
  {
   "cell_type": "code",
   "execution_count": 40,
   "metadata": {
    "ExecuteTime": {
     "end_time": "2020-07-19T23:38:34.415640Z",
     "start_time": "2020-07-19T23:38:34.409637Z"
    }
   },
   "outputs": [],
   "source": [
    "from sklearn.linear_model import LinearRegression, Ridge, Lasso, ElasticNet"
   ]
  },
  {
   "cell_type": "markdown",
   "metadata": {},
   "source": [
    "### 最小二乘法"
   ]
  },
  {
   "cell_type": "code",
   "execution_count": 34,
   "metadata": {
    "ExecuteTime": {
     "end_time": "2020-07-19T23:34:25.444930Z",
     "start_time": "2020-07-19T23:34:25.431955Z"
    }
   },
   "outputs": [
    {
     "data": {
      "text/plain": [
       "LinearRegression()"
      ]
     },
     "execution_count": 34,
     "metadata": {},
     "output_type": "execute_result"
    },
    {
     "data": {
      "text/plain": [
       "{'copy_X': True, 'fit_intercept': True, 'n_jobs': None, 'normalize': False}"
      ]
     },
     "execution_count": 34,
     "metadata": {},
     "output_type": "execute_result"
    },
    {
     "data": {
      "text/plain": [
       "(array([-3.89578088]), array([[1.19303364]]))"
      ]
     },
     "execution_count": 34,
     "metadata": {},
     "output_type": "execute_result"
    }
   ],
   "source": [
    "lr = LinearRegression()\n",
    "lr.fit(X, y)\n",
    "lr.get_params()\n",
    "lr.intercept_, lr.coef_"
   ]
  },
  {
   "cell_type": "markdown",
   "metadata": {},
   "source": [
    "### Ridge"
   ]
  },
  {
   "cell_type": "code",
   "execution_count": 38,
   "metadata": {
    "ExecuteTime": {
     "end_time": "2020-07-19T23:37:39.719898Z",
     "start_time": "2020-07-19T23:37:39.708932Z"
    }
   },
   "outputs": [
    {
     "data": {
      "text/plain": [
       "Ridge(alpha=0.01, normalize=True)"
      ]
     },
     "execution_count": 38,
     "metadata": {},
     "output_type": "execute_result"
    },
    {
     "data": {
      "text/plain": [
       "(array([-3.79939557]), array([[1.18122143]]))"
      ]
     },
     "execution_count": 38,
     "metadata": {},
     "output_type": "execute_result"
    }
   ],
   "source": [
    "rg = Ridge(alpha=0.01, normalize=True)\n",
    "rg.fit(X, y)\n",
    "rg.intercept_, rg.coef_"
   ]
  },
  {
   "cell_type": "markdown",
   "metadata": {},
   "source": [
    "### Lasso"
   ]
  },
  {
   "cell_type": "code",
   "execution_count": 39,
   "metadata": {
    "ExecuteTime": {
     "end_time": "2020-07-19T23:38:06.035246Z",
     "start_time": "2020-07-19T23:38:05.980203Z"
    }
   },
   "outputs": [
    {
     "data": {
      "text/plain": [
       "Lasso(alpha=0.01, normalize=True)"
      ]
     },
     "execution_count": 39,
     "metadata": {},
     "output_type": "execute_result"
    },
    {
     "data": {
      "text/plain": [
       "(array([-3.68703508]), array([1.16745142]))"
      ]
     },
     "execution_count": 39,
     "metadata": {},
     "output_type": "execute_result"
    }
   ],
   "source": [
    "ls = Lasso(alpha=0.01, normalize=True)\n",
    "ls.fit(X, y)\n",
    "ls.intercept_, ls.coef_"
   ]
  },
  {
   "cell_type": "markdown",
   "metadata": {},
   "source": [
    "### ElactisNet"
   ]
  },
  {
   "cell_type": "code",
   "execution_count": 50,
   "metadata": {
    "ExecuteTime": {
     "end_time": "2020-07-19T23:48:53.400631Z",
     "start_time": "2020-07-19T23:48:53.387629Z"
    }
   },
   "outputs": [
    {
     "data": {
      "text/plain": [
       "ElasticNet(alpha=0.01, l1_ratio=0.8, normalize=True)"
      ]
     },
     "execution_count": 50,
     "metadata": {},
     "output_type": "execute_result"
    },
    {
     "data": {
      "text/plain": [
       "{'alpha': 0.01,\n",
       " 'copy_X': True,\n",
       " 'fit_intercept': True,\n",
       " 'l1_ratio': 0.8,\n",
       " 'max_iter': 1000,\n",
       " 'normalize': True,\n",
       " 'positive': False,\n",
       " 'precompute': False,\n",
       " 'random_state': None,\n",
       " 'selection': 'cyclic',\n",
       " 'tol': 0.0001,\n",
       " 'warm_start': False}"
      ]
     },
     "execution_count": 50,
     "metadata": {},
     "output_type": "execute_result"
    },
    {
     "data": {
      "text/plain": [
       "(array([-2.17419769]), array([0.98205014]))"
      ]
     },
     "execution_count": 50,
     "metadata": {},
     "output_type": "execute_result"
    }
   ],
   "source": [
    "en = ElasticNet(alpha=0.01, l1_ratio= 0.8,normalize=True)\n",
    "en.fit(X, y)\n",
    "en.get_params()\n",
    "en.intercept_, en.coef_"
   ]
  },
  {
   "cell_type": "markdown",
   "metadata": {},
   "source": [
    "### plot"
   ]
  },
  {
   "cell_type": "code",
   "execution_count": 51,
   "metadata": {
    "ExecuteTime": {
     "end_time": "2020-07-19T23:48:55.565637Z",
     "start_time": "2020-07-19T23:48:55.322636Z"
    }
   },
   "outputs": [
    {
     "data": {
      "text/plain": [
       "<matplotlib.collections.PathCollection at 0x1913446afc8>"
      ]
     },
     "execution_count": 51,
     "metadata": {},
     "output_type": "execute_result"
    },
    {
     "data": {
      "text/plain": [
       "[<matplotlib.lines.Line2D at 0x1913441b088>]"
      ]
     },
     "execution_count": 51,
     "metadata": {},
     "output_type": "execute_result"
    },
    {
     "data": {
      "text/plain": [
       "[<matplotlib.lines.Line2D at 0x191342f01c8>]"
      ]
     },
     "execution_count": 51,
     "metadata": {},
     "output_type": "execute_result"
    },
    {
     "data": {
      "text/plain": [
       "[<matplotlib.lines.Line2D at 0x1913450bc48>]"
      ]
     },
     "execution_count": 51,
     "metadata": {},
     "output_type": "execute_result"
    },
    {
     "data": {
      "text/plain": [
       "[<matplotlib.lines.Line2D at 0x19133ba21c8>]"
      ]
     },
     "execution_count": 51,
     "metadata": {},
     "output_type": "execute_result"
    },
    {
     "data": {
      "text/plain": [
       "<matplotlib.legend.Legend at 0x19133ba2248>"
      ]
     },
     "execution_count": 51,
     "metadata": {},
     "output_type": "execute_result"
    },
    {
     "data": {
      "image/png": "[encoded data removed]",
      "text/plain": [
       "<Figure size 432x288 with 1 Axes>"
      ]
     },
     "metadata": {
      "needs_background": "light"
     },
     "output_type": "display_data"
    }
   ],
   "source": [
    "plt.scatter(X, y)\n",
    "plt.plot(X, lr.predict(X), label='lr')\n",
    "plt.plot(X, rg.predict(X), label='rg')\n",
    "plt.plot(X, ls.predict(X), label='ls')\n",
    "plt.plot(X, en.predict(X), label='en')\n",
    "plt.legend()"
   ]
  },
  {
   "cell_type": "code",
   "execution_count": null,
   "metadata": {},
   "outputs": [],
   "source": []
  }
 ],
 "metadata": {
  "hide_input": false,
  "kernelspec": {
   "display_name": "Python 3",
   "language": "python",
   "name": "python3"
  },
  "language_info": {
   "codemirror_mode": {
    "name": "ipython",
    "version": 3
   },
   "file_extension": ".py",
   "mimetype": "text/x-python",
   "name": "python",
   "nbconvert_exporter": "python",
   "pygments_lexer": "ipython3",
   "version": "3.7.4"
  },
  "nbTranslate": {
   "displayLangs": [
    "*"
   ],
   "hotkey": "alt-t",
   "langInMainMenu": true,
   "sourceLang": "en",
   "targetLang": "fr",
   "useGoogleTranslate": true
  },
  "toc": {
   "base_numbering": 1,
   "nav_menu": {},
   "number_sections": true,
   "sideBar": true,
   "skip_h1_title": false,
   "title_cell": "Table of Contents",
   "title_sidebar": "Contents",
   "toc_cell": false,
   "toc_position": {},
   "toc_section_display": true,
   "toc_window_display": true
  },
  "varInspector": {
   "cols": {
    "lenName": 16,
    "lenType": 16,
    "lenVar": 40
   },
   "kernels_config": {
    "python": {
     "delete_cmd_postfix": "",
     "delete_cmd_prefix": "del ",
     "library": "var_list.py",
     "varRefreshCmd": "print(var_dic_list())"
    },
    "r": {
     "delete_cmd_postfix": ") ",
     "delete_cmd_prefix": "rm(",
     "library": "var_list.r",
     "varRefreshCmd": "cat(var_dic_list()) "
    }
   },
   "types_to_exclude": [
    "module",
    "function",
    "builtin_function_or_method",
    "instance",
    "_Feature"
   ],
   "window_display": false
  }
 },
 "nbformat": 4,
 "nbformat_minor": 2
}
