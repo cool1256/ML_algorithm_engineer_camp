{
 "cells": [
  {
   "cell_type": "markdown",
   "metadata": {},
   "source": [
    "# 简介"
   ]
  },
  {
   "cell_type": "markdown",
   "metadata": {},
   "source": [
    "+ 解决二分类的问题\n",
    "+ 类别分别用0和1表示"
   ]
  },
  {
   "cell_type": "markdown",
   "metadata": {},
   "source": [
    "# 问题提出"
   ]
  },
  {
   "cell_type": "markdown",
   "metadata": {},
   "source": [
    "1. 假设函数  \n",
    "$$\\hat{y}=h_{\\theta}(x)=g\\left(\\theta^{T} x\\right)=\\frac{1}{1+e^{-\\theta^{T} x}}$$\n",
    "$$g(z)=\\frac{1}{1+e^{-z}} \\text { 其中 }: z = \\theta^Tx  \\text{（sigmoid函数）}$$\n",
    "2. 损失函数\n",
    "$$L(\\hat{y}, y)=-y \\log \\hat{y}-(1-y) \\log (1-\\hat{y})$$\n",
    "3. 代价函数\n",
    "$$\\begin{array}{l}\n",
    "J(\\theta)=\\frac{1}{m} \\sum_{i=1}^{m} L\\left(\\hat{y}^{(i)}, y^{(i)}\\right) \\\\\n",
    "=\\frac{1}{m} \\sum_{t=1}^{m}\\left[-y^{(i)} \\log \\hat{y}^{(i)}-\\left(1-y^{(i)}\\right) \\log \\left(1-\\hat{y}^{(i)}\\right)\\right] \\\\\n",
    "=\\frac{1}{m} \\sum_{i=1}^{m}\\left[-y^{(i)} \\log \\frac{1}{1+e^{-\\theta^{T} x^{(i)}}}-\\left(1-y^{(i)}\\right) \\log \\left(1-\\frac{1}{\\left.1+e^{-\\theta^{T} x^{(i)}}\\right)}\\right)\\right]\n",
    "\\end{array}$$\n"
   ]
  },
  {
   "cell_type": "markdown",
   "metadata": {},
   "source": [
    "# 逻辑回归求解\n",
    "$$\\begin{aligned}\n",
    "&\\frac{\\partial}{\\partial \\theta_{j}} J(\\theta)=\\frac{\\partial}{\\partial \\theta_{j}} \\frac{1}{m} \\sum_{i=1}^{m}\\left[-y^{(i)} \\log \\frac{1}{1+e^{-\\theta^{T} x^{(i)}}}-\\left(1-y^{(i)}\\right) \\log \\left(1-\\frac{1}{\\left.1+e^{-\\theta^{T} x^{(i)}}\\right)}\\right]\\right.\\\\\n",
    "&=\\frac{\\partial}{\\partial \\theta_{j}} \\frac{1}{m} \\sum_{i=1}^{m}\\left[y^{(i)} \\log \\left(1+e^{-\\theta^{T} x^{(i)}}\\right)+\\left(1-y^{(i)}\\right) \\log \\left(1+e^{\\theta^{T} x^{(i)}}\\right)\\right]\\\\\n",
    "&=\\frac{1}{m} \\sum_{i=1}^{m}\\left[y^{(i)} \\frac{-x_j^{(i)} e^{-\\theta^{T} x^{(i)}}}{1+e^{-\\theta^{T} x^{(i)}}}+\\left(1-y^{(i)}\\right) \\frac{x_{j}^{(i)} e^{\\theta^{T} x^{(i)}}}{1+e^{\\theta^{T} x^{(i)}}}\\right]\\\\\n",
    "&=\\frac{1}{m} \\sum_{i=1}^{m}\\left[y^{(i)} \\frac{-x_{j}^{(i)}}{1+e^{\\theta^{T} x^{(i)}}}+\\left(1-y^{(i)}\\right) \\frac{x_{j}^{(i)} e^{\\theta^{T} x^{(i)}}}{1+e^{\\left.\\theta^{T} x^{(i}\\right)}}\\right]\\\\\n",
    "&=\\frac{1}{m} \\sum_{i=1}^{m}\\left[\\frac{-x_{j}^{(i)} y^{(i)}+x_{j}^{(i)} e^{\\theta^{T} x^{(i)}}-y^{(i)} x_{j}^{(i)} e^{\\theta^{T} x^{(i)}}}{1+e^{\\theta^{T} x^{(i)}}}\\right]\\\\\n",
    "&=\\frac{1}{m} \\sum_{i=1}^{m}\\left[\\frac{-y^{(i)}\\left(1+e^{\\theta^{T} x^{(i)}}\\right)+e^{\\theta^{T} x^{(i)}}}{1+e^{\\theta^{T} x^{(i)}}} x_{j}^{(i)}\\right]=\\frac{1}{m} \\sum_{i=1}^{m}\\left[\\left(-y^{(i)}+\\frac{e^{\\theta^{T} x^{(i)}}}{1+e^{\\theta^{j} x^{(i)}}}\\right) x_{j}^{(i)}\\right]\\\\\n",
    "&=\\frac{1}{m} \\sum_{(i=1}^{m}\\left[\\left(-y^{(i)}+\\frac{1}{1+e^{-\\theta^{T} x^{(i)}}}\\right) x_{j}^{(i)}\\right]=\\frac{1}{m} \\sum_{i=1}^{m}\\left[\\left(h_{\\theta}\\left(x^{(i)}\\right)-y^{(i)}\\right) x_{j}^{(i)}\\right]\n",
    "\\end{aligned}$$"
   ]
  },
  {
   "cell_type": "markdown",
   "metadata": {},
   "source": [
    "+ 迭代公式  \n",
    "$\\theta_{j}:=\\theta_{j}-\\alpha \\frac{1}{m} \\sum_{i=1}^{m}\\left[\\left(h_{\\theta}\\left(x^{(i)}\\right)-y^{(i)}\\right) x_{j}^{(i)}\\right]$  \n",
    "其中：\n",
    "$h_{\\theta}(x)=\\frac{1}{1+e^{-\\theta^{T} x}}$"
   ]
  },
  {
   "cell_type": "markdown",
   "metadata": {},
   "source": [
    "## 代码实现"
   ]
  },
  {
   "cell_type": "code",
   "execution_count": 1,
   "metadata": {
    "ExecuteTime": {
     "end_time": "2020-07-27T23:36:46.672284Z",
     "start_time": "2020-07-27T23:36:45.559089Z"
    }
   },
   "outputs": [],
   "source": [
    "from sklearn.metrics import accuracy_score"
   ]
  },
  {
   "cell_type": "code",
   "execution_count": 2,
   "metadata": {
    "ExecuteTime": {
     "end_time": "2020-07-27T23:36:46.684284Z",
     "start_time": "2020-07-27T23:36:46.674278Z"
    }
   },
   "outputs": [],
   "source": [
    "def loaddata():\n",
    "    data = np.loadtxt('data/3_1.txt',delimiter=',')\n",
    "    n = data.shape[1] - 1  # 特征数\n",
    "    X = data[:, 0:n]\n",
    "    y = data[:, -1].reshape(-1, 1)\n",
    "    return X, y\n",
    "def plot(X,y):\n",
    "    pos = np.where(y==1)\n",
    "    neg = np.where(y==0)\n",
    "    plt.scatter(X[pos[0],0],X[pos[0],1],marker='x')\n",
    "    plt.scatter(X[neg[0], 0], X[neg[0], 1], marker='o')\n",
    "    plt.xlabel('Exam 1 score')\n",
    "    plt.ylabel('Exam 2 score')\n",
    "    plt.show()"
   ]
  },
  {
   "cell_type": "code",
   "execution_count": 3,
   "metadata": {
    "ExecuteTime": {
     "end_time": "2020-07-27T23:36:47.488387Z",
     "start_time": "2020-07-27T23:36:46.686275Z"
    }
   },
   "outputs": [
    {
     "data": {
      "image/png": "[encoded data removed]",
      "text/plain": [
       "<Figure size 432x288 with 1 Axes>"
      ]
     },
     "metadata": {
      "needs_background": "light"
     },
     "output_type": "display_data"
    }
   ],
   "source": [
    "X,y = loaddata()\n",
    "plot(X,y)"
   ]
  },
  {
   "cell_type": "code",
   "execution_count": 4,
   "metadata": {
    "ExecuteTime": {
     "end_time": "2020-07-27T23:36:47.498835Z",
     "start_time": "2020-07-27T23:36:47.491838Z"
    }
   },
   "outputs": [],
   "source": [
    "def sigmoide(z):\n",
    "    r = 1 / (1 + np.exp(-z))\n",
    "    return r\n",
    "def hypothesis(X, theta):\n",
    "    z = np.dot(X, theta)\n",
    "    return sigmoide(z)\n",
    "def computeCost(X, y, theta):\n",
    "    m = X.shape[0]\n",
    "    z = -1 * y * np.log(hypothesis(X,theta))-(1-y) * np.log(1-hypothesis(X,theta))\n",
    "    return np.sum(z)/m"
   ]
  },
  {
   "cell_type": "code",
   "execution_count": 5,
   "metadata": {
    "ExecuteTime": {
     "end_time": "2020-07-27T23:36:47.513836Z",
     "start_time": "2020-07-27T23:36:47.502840Z"
    }
   },
   "outputs": [],
   "source": [
    "def gradientDescent(X,y,theta,iterations,alpha):\n",
    "    #取数据条数\n",
    "    m = X.shape[0]\n",
    "    #在x最前面插入全1的列\n",
    "    X = np.hstack((np.ones((m, 1)), X))\n",
    "    for i in range(iterations):\n",
    "        for j in range(len(theta)):\n",
    "            theta[j] = theta[j]-(alpha/m)*np.sum((hypothesis(X,theta) - y)*X[:,j].reshape(-1,1))\n",
    "        #每迭代1000次输出一次损失值\n",
    "        if(i%50000==0):\n",
    "            print('第',i,'次迭代，当前损失为：',computeCost(X,y,theta),'theta=',theta)\n",
    "    return theta\n",
    "\n",
    "def predict(X):\n",
    "    # 在x最前面插入全1的列\n",
    "    c = np.ones(X.shape[0]).transpose()\n",
    "    X = np.insert(X, 0, values=c, axis=1)  \n",
    "    #求解假设函数的值\n",
    "    h = hypothesis(X,theta)\n",
    "    #根据概率值决定最终的分类,>=0.5为1类，<0.5为0类\n",
    "    h[h>=0.5]=1\n",
    "    h[h<0.5]=0\n",
    "    return h"
   ]
  },
  {
   "cell_type": "code",
   "execution_count": 6,
   "metadata": {
    "ExecuteTime": {
     "end_time": "2020-07-27T23:37:03.463369Z",
     "start_time": "2020-07-27T23:36:47.519836Z"
    },
    "scrolled": true
   },
   "outputs": [
    {
     "name": "stdout",
     "output_type": "stream",
     "text": [
      "第 0 次迭代，当前损失为： 3.4898192542187316 theta= [[ 0.0008    ]\n",
      " [ 0.0959687 ]\n",
      " [-0.17080118]]\n",
      "第 50000 次迭代，当前损失为： 0.9221874390429973 theta= [[-1.96095214e+01]\n",
      " [ 2.78099355e-01]\n",
      " [ 7.52595875e-03]]\n",
      "第 100000 次迭代，当前损失为： 0.33992108594315495 theta= [[-24.06932143]\n",
      " [  0.1833052 ]\n",
      " [  0.23863557]]\n",
      "第 150000 次迭代，当前损失为： 0.2415806458263704 theta= [[-25.40956873]\n",
      " [  0.18523859]\n",
      " [  0.23836269]]\n",
      "第 200000 次迭代，当前损失为： 0.2123612218845144 theta= [[-25.68300682]\n",
      " [  0.19663504]\n",
      " [  0.21377662]]\n",
      "theta=\n",
      " [[-25.7214775 ]\n",
      " [  0.21158791]\n",
      " [  0.19917776]]\n"
     ]
    }
   ],
   "source": [
    "n = X.shape[1]#特征数\n",
    "theta = np.zeros(n+1).reshape(n+1, 1)  # theta是列向量,+1是因为求梯度时X前会增加一个全1列\n",
    "iterations = 250000\n",
    "alpha = 0.008\n",
    "theta = gradientDescent(X,y,theta,iterations,alpha)\n",
    "print('theta=\\n',theta)"
   ]
  },
  {
   "cell_type": "code",
   "execution_count": 7,
   "metadata": {
    "ExecuteTime": {
     "end_time": "2020-07-27T23:37:03.693036Z",
     "start_time": "2020-07-27T23:37:03.466367Z"
    }
   },
   "outputs": [
    {
     "data": {
      "image/png": "[encoded data removed]",
      "text/plain": [
       "<Figure size 432x288 with 1 Axes>"
      ]
     },
     "metadata": {
      "needs_background": "light"
     },
     "output_type": "display_data"
    }
   ],
   "source": [
    "from matplotlib import colors\n",
    "def plotDescisionBoundary(X,y,theta):\n",
    "    cm_dark = colors.ListedColormap(['g', 'r'])\n",
    "    plt.xlabel('Exam 1 score')\n",
    "    plt.ylabel('Exam 2 score')\n",
    "    plt.scatter(X[:,0],X[:,1],c=np.array(y).squeeze(),cmap=cm_dark,s=30)\n",
    "\n",
    "    #化分类决策面 theta0+theta1*x1+theta2*x2 = 0\n",
    "    # x1 = np.arange(20,110,0.1)\n",
    "    x1 = np.arange(min(X[:, 0]), max(X[:, 0]), 0.1)\n",
    "    x2 = -(theta[1]*x1+theta[0])/theta[2]\n",
    "    plt.plot(x1,x2)\n",
    "    plt.show()\n",
    "plotDescisionBoundary(X,y,theta)"
   ]
  },
  {
   "cell_type": "markdown",
   "metadata": {},
   "source": [
    "[分类指标](https://www.cnblogs.com/guoyaohua/p/classification-metrics.html)"
   ]
  },
  {
   "cell_type": "code",
   "execution_count": 8,
   "metadata": {
    "ExecuteTime": {
     "end_time": "2020-07-27T23:37:03.705047Z",
     "start_time": "2020-07-27T23:37:03.696013Z"
    }
   },
   "outputs": [
    {
     "name": "stdout",
     "output_type": "stream",
     "text": [
      "准确度： 0.9\n",
      "准确度： 0.9\n"
     ]
    }
   ],
   "source": [
    "p = predict(X)\n",
    "print('准确度：',np.mean(p==y))\n",
    "print('准确度：',accuracy_score(y,p))"
   ]
  },
  {
   "cell_type": "markdown",
   "metadata": {},
   "source": [
    "# 逻辑回归正则化\n",
    "+ 代价函数  \n",
    "$$J(\\theta)=\\frac{1}{m} \\sum_{i=1}^{m}\\left[-y^{(i)} \\log \\frac{1}{1+e^{-\\theta^{T} x^{(i)}}}-\\left(1-y^{(i)}\\right) \\log \\left(1-\\frac{1}{1+e^{-\\theta^{T} x^{(i)}}}\\right)\\right]+\\frac{\\lambda}{2 m}\\|\\theta\\|_{2}^{2}$$\n",
    "+ 迭代公式\n",
    "$$\\theta_{j}:=\\theta_{j}-\\frac{\\alpha}{m}\\left(\\sum_{i=1}^{m}\\left[\\left(h_{\\theta}\\left(x^{(i)}\\right)-y^{(i)}\\right) x_{j}^{(i)}\\right]+\\lambda \\theta_{j}\\right)$$"
   ]
  },
  {
   "cell_type": "markdown",
   "metadata": {},
   "source": [
    "## 代码实现"
   ]
  },
  {
   "cell_type": "code",
   "execution_count": 9,
   "metadata": {
    "ExecuteTime": {
     "end_time": "2020-07-27T23:37:03.716014Z",
     "start_time": "2020-07-27T23:37:03.708019Z"
    }
   },
   "outputs": [],
   "source": [
    "def sigmoide(z):\n",
    "    r = 1 / (1 + np.exp(-z))\n",
    "    return r\n",
    "def hypothesis(X, theta):\n",
    "    z = np.dot(X, theta)\n",
    "    return sigmoide(z)\n",
    "def computeCost(X, y, theta, lamda):\n",
    "    m = X.shape[0]\n",
    "    z = -1 * y * np.log(hypothesis(X,theta))-(1-y) * np.log(1-hypothesis(X,theta))\n",
    "    return np.sum(z)/m + (lamda/(2*m)*np.sum(np.power(theta, 2)))"
   ]
  },
  {
   "cell_type": "code",
   "execution_count": 10,
   "metadata": {
    "ExecuteTime": {
     "end_time": "2020-07-27T23:37:03.731012Z",
     "start_time": "2020-07-27T23:37:03.718020Z"
    }
   },
   "outputs": [],
   "source": [
    "def gradientDescent(X,y,theta,iterations,alpha,lamda):\n",
    "    #取数据条数\n",
    "    m = X.shape[0]\n",
    "    #在x最前面插入全1的列\n",
    "    X = np.hstack((np.ones((m, 1)), X))\n",
    "    for i in range(iterations):\n",
    "        for j in range(len(theta)):\n",
    "            theta[j] = theta[j]-(alpha/m)*(np.sum((hypothesis(X,theta) - y)*X[:,j].reshape(-1,1)) + lamda * theta[j])\n",
    "        #每迭代1000次输出一次损失值\n",
    "        if(i%50000==0):\n",
    "            print('第',i,'次迭代，当前损失为：',computeCost(X,y,theta, lamda),'theta=',theta)\n",
    "    return theta\n",
    "\n",
    "def predict(X):\n",
    "    # 在x最前面插入全1的列\n",
    "    c = np.ones(X.shape[0]).transpose()\n",
    "    X = np.insert(X, 0, values=c, axis=1)  \n",
    "    #求解假设函数的值\n",
    "    h = hypothesis(X,theta)\n",
    "    #根据概率值决定最终的分类,>=0.5为1类，<0.5为0类\n",
    "    h[h>=0.5]=1\n",
    "    h[h<0.5]=0\n",
    "    return h"
   ]
  },
  {
   "cell_type": "code",
   "execution_count": 11,
   "metadata": {
    "ExecuteTime": {
     "end_time": "2020-07-27T23:37:21.927816Z",
     "start_time": "2020-07-27T23:37:03.735015Z"
    }
   },
   "outputs": [
    {
     "name": "stdout",
     "output_type": "stream",
     "text": [
      "第 0 次迭代，当前损失为： 3.4898211734024334 theta= [[ 0.0008    ]\n",
      " [ 0.0959687 ]\n",
      " [-0.17080118]]\n",
      "第 50000 次迭代，当前损失为： 0.7870734058134988 theta= [[-19.33019256]\n",
      " [  0.1848856 ]\n",
      " [  0.1962559 ]]\n",
      "第 100000 次迭代，当前损失为： 0.4656598627829162 theta= [[-23.45384231]\n",
      " [  0.11660825]\n",
      " [  0.27483063]]\n",
      "第 150000 次迭代，当前损失为： 0.3660485164508709 theta= [[-24.70994973]\n",
      " [  0.23088081]\n",
      " [  0.14543833]]\n",
      "第 200000 次迭代，当前损失为： 0.3273561243941825 theta= [[-25.04162387]\n",
      " [  0.25808419]\n",
      " [  0.16673773]]\n",
      "theta=\n",
      " [[-25.11944059]\n",
      " [  0.21193097]\n",
      " [  0.17255222]]\n"
     ]
    }
   ],
   "source": [
    "n = X.shape[1]#特征数\n",
    "theta = np.zeros(n+1).reshape(n+1, 1)  # theta是列向量,+1是因为求梯度时X前会增加一个全1列\n",
    "iterations = 250000\n",
    "alpha = 0.008\n",
    "lamda = 0.01\n",
    "theta = gradientDescent(X,y,theta,iterations,alpha, lamda)\n",
    "print('theta=\\n',theta)"
   ]
  },
  {
   "cell_type": "code",
   "execution_count": 12,
   "metadata": {
    "ExecuteTime": {
     "end_time": "2020-07-27T23:37:34.001141Z",
     "start_time": "2020-07-27T23:37:33.836248Z"
    }
   },
   "outputs": [
    {
     "data": {
      "image/png": "[encoded data removed]",
      "text/plain": [
       "<Figure size 432x288 with 1 Axes>"
      ]
     },
     "metadata": {
      "needs_background": "light"
     },
     "output_type": "display_data"
    }
   ],
   "source": [
    "from matplotlib import colors\n",
    "def plotDescisionBoundary(X,y,theta):\n",
    "    cm_dark = colors.ListedColormap(['g', 'r'])\n",
    "    plt.xlabel('Exam 1 score')\n",
    "    plt.ylabel('Exam 2 score')\n",
    "    plt.scatter(X[:,0],X[:,1],c=np.array(y).squeeze(),cmap=cm_dark,s=30)\n",
    "\n",
    "    #化分类决策面 theta0+theta1*x1+theta2*x2 = 0\n",
    "    # x1 = np.arange(20,110,0.1)\n",
    "    x1 = np.arange(min(X[:, 0]), max(X[:, 0]), 0.1)\n",
    "    x2 = -(theta[1]*x1+theta[0])/theta[2]\n",
    "    plt.plot(x1,x2)\n",
    "    plt.show()\n",
    "plotDescisionBoundary(X,y,theta)"
   ]
  },
  {
   "cell_type": "code",
   "execution_count": 13,
   "metadata": {
    "ExecuteTime": {
     "end_time": "2020-07-27T23:37:36.230029Z",
     "start_time": "2020-07-27T23:37:36.223010Z"
    }
   },
   "outputs": [
    {
     "name": "stdout",
     "output_type": "stream",
     "text": [
      "准确度： 0.88\n",
      "准确度： 0.88\n"
     ]
    }
   ],
   "source": [
    "p = predict(X)\n",
    "print('准确度：',np.mean(p==y))\n",
    "print('准确度：',accuracy_score(y,p))"
   ]
  },
  {
   "cell_type": "markdown",
   "metadata": {},
   "source": [
    "# 逻辑回归多分类"
   ]
  },
  {
   "cell_type": "markdown",
   "metadata": {},
   "source": [
    "## One over Rest(OvR)\n",
    "$\\max _{k} h_{\\theta}^k(x)$  \n",
    "K个类别将有K个分类器   \n",
    "缺点：训练集有偏，对结果会造成影响\n",
    "\n",
    "## One over One (OvO)  \n",
    "比较赢数最高的就是分类结果  \n",
    "K个类别将有k(k-1)/2个分类器  \n",
    "缺点：训练开销大  \n",
    "优点：相对OvR准确类高\n",
    "\n",
    "## Multi over Mutti（MvM）\n",
    "编码：对N个类别做M次划分，每次划分将一部分类别划为正类，其余父类（M个分类器）   \n",
    "解码：M个分类器预测标记组成一个编码，将此预测编码与各自类别的编码进行比较，返回其中距离最小的类  \n",
    "OvO是MvM的一个特例"
   ]
  },
  {
   "cell_type": "markdown",
   "metadata": {},
   "source": [
    "# 使用sklearn"
   ]
  },
  {
   "cell_type": "code",
   "execution_count": 3,
   "metadata": {
    "ExecuteTime": {
     "end_time": "2020-09-01T23:32:10.985581Z",
     "start_time": "2020-09-01T23:32:10.974579Z"
    }
   },
   "outputs": [],
   "source": [
    "def loaddata():\n",
    "    data = np.loadtxt('data/3_1.txt',delimiter=',')\n",
    "    n = data.shape[1] - 1  # 特征数\n",
    "    X = data[:, 0:n]\n",
    "    y = data[:, -1].reshape(-1, 1)\n",
    "    return X, y\n",
    "X,y = loaddata()"
   ]
  },
  {
   "cell_type": "markdown",
   "metadata": {},
   "source": [
    "## 使用逻辑回归模型\n",
    "常用参数含义：\n",
    "  - C 正则化参数$\\lambda$的倒数,C越大，惩罚越小，易过拟合，泛化能力差。C越小，惩罚越大，不易过拟合，泛化能力好。\n",
    "  - multi_class: ovr, multinomial\n",
    "  "
   ]
  },
  {
   "cell_type": "code",
   "execution_count": 4,
   "metadata": {
    "ExecuteTime": {
     "end_time": "2020-09-01T23:33:05.272528Z",
     "start_time": "2020-09-01T23:33:04.861516Z"
    }
   },
   "outputs": [],
   "source": [
    "from sklearn import linear_model\n",
    "import matplotlib.pyplot as plt\n",
    "import matplotlib as mpl\n",
    "from sklearn.metrics import accuracy_score"
   ]
  },
  {
   "cell_type": "code",
   "execution_count": 5,
   "metadata": {
    "ExecuteTime": {
     "end_time": "2020-09-01T23:33:42.224278Z",
     "start_time": "2020-09-01T23:33:42.167240Z"
    }
   },
   "outputs": [
    {
     "name": "stderr",
     "output_type": "stream",
     "text": [
      "e:\\ProgramData\\Anaconda3\\envs\\normal\\lib\\site-packages\\sklearn\\utils\\validation.py:760: DataConversionWarning: A column-vector y was passed when a 1d array was expected. Please change the shape of y to (n_samples, ), for example using ravel().\n",
      "  y = column_or_1d(y, warn=True)\n"
     ]
    },
    {
     "data": {
      "text/plain": [
       "LogisticRegression(C=50, class_weight=None, dual=False, fit_intercept=True,\n",
       "                   intercept_scaling=1, l1_ratio=None, max_iter=2000,\n",
       "                   multi_class='auto', n_jobs=None, penalty='l2',\n",
       "                   random_state=None, solver='lbfgs', tol=0.0001, verbose=0,\n",
       "                   warm_start=False)"
      ]
     },
     "execution_count": 5,
     "metadata": {},
     "output_type": "execute_result"
    }
   ],
   "source": [
    "model = linear_model.LogisticRegression(C=50,max_iter=2000)\n",
    "model.fit(X,y)"
   ]
  },
  {
   "cell_type": "code",
   "execution_count": 6,
   "metadata": {
    "ExecuteTime": {
     "end_time": "2020-09-01T23:33:51.795702Z",
     "start_time": "2020-09-01T23:33:51.784709Z"
    }
   },
   "outputs": [
    {
     "name": "stdout",
     "output_type": "stream",
     "text": [
      "[[0.20621451 0.20145397]]\n",
      "[-25.15918048]\n",
      "准确度= 0.89\n"
     ]
    }
   ],
   "source": [
    "print(model.coef_)\n",
    "print(model.intercept_)\n",
    "y_hat = model.predict(X)\n",
    "print(\"准确度=\",accuracy_score(y,y_hat))"
   ]
  },
  {
   "cell_type": "code",
   "execution_count": 7,
   "metadata": {
    "ExecuteTime": {
     "end_time": "2020-09-01T23:34:21.810077Z",
     "start_time": "2020-09-01T23:34:21.514561Z"
    }
   },
   "outputs": [
    {
     "data": {
      "image/png": "[encoded data removed]",
      "text/plain": [
       "<Figure size 432x288 with 1 Axes>"
      ]
     },
     "metadata": {
      "needs_background": "light"
     },
     "output_type": "display_data"
    }
   ],
   "source": [
    "def plotDescisionBoundary(X,y,theta):\n",
    "    cm_dark = mpl.colors.ListedColormap(['g', 'r'])\n",
    "    plt.xlabel('Exam 1 score')\n",
    "    plt.ylabel('Exam 2 score')\n",
    "    plt.scatter(X[:,0],X[:,1],c=np.array(y).squeeze(),cmap=cm_dark,s=30)\n",
    "\n",
    "    #化分类决策面 theta0+theta1*x1+theta2*x2 = 0\n",
    "    # x1 = np.arange(20,110,0.1)\n",
    "    x1 = np.arange(min(X[:, 0]), max(X[:, 0]), 0.1)\n",
    "    x2 = -(theta[1]*x1+theta[0])/theta[2]\n",
    "    plt.plot(x1,x2)\n",
    "    plt.show()\n",
    "theta = np.append(model.intercept_,model.coef_)\n",
    "plotDescisionBoundary(X,y,theta)"
   ]
  },
  {
   "cell_type": "markdown",
   "metadata": {},
   "source": [
    "# 鸢尾花分类"
   ]
  },
  {
   "cell_type": "code",
   "execution_count": 8,
   "metadata": {
    "ExecuteTime": {
     "end_time": "2020-09-01T23:40:59.471716Z",
     "start_time": "2020-09-01T23:40:59.338716Z"
    }
   },
   "outputs": [],
   "source": [
    "import matplotlib.pyplot as plt\n",
    "from sklearn import linear_model\n",
    "from sklearn.metrics import accuracy_score\n",
    "from sklearn.datasets import load_iris"
   ]
  },
  {
   "cell_type": "code",
   "execution_count": 13,
   "metadata": {
    "ExecuteTime": {
     "end_time": "2020-09-01T23:42:11.155782Z",
     "start_time": "2020-09-01T23:42:11.145780Z"
    }
   },
   "outputs": [
    {
     "name": "stdout",
     "output_type": "stream",
     "text": [
      ".. _iris_dataset:\n",
      "\n",
      "Iris plants dataset\n",
      "--------------------\n",
      "\n",
      "**Data Set Characteristics:**\n",
      "\n",
      "    :Number of Instances: 150 (50 in each of three classes)\n",
      "    :Number of Attributes: 4 numeric, predictive attributes and the class\n",
      "    :Attribute Information:\n",
      "        - sepal length in cm\n",
      "        - sepal width in cm\n",
      "        - petal length in cm\n",
      "        - petal width in cm\n",
      "        - class:\n",
      "                - Iris-Setosa\n",
      "                - Iris-Versicolour\n",
      "                - Iris-Virginica\n",
      "                \n",
      "    :Summary Statistics:\n",
      "\n",
      "    ============== ==== ==== ======= ===== ====================\n",
      "                    Min  Max   Mean    SD   Class Correlation\n",
      "    ============== ==== ==== ======= ===== ====================\n",
      "    sepal length:   4.3  7.9   5.84   0.83    0.7826\n",
      "    sepal width:    2.0  4.4   3.05   0.43   -0.4194\n",
      "    petal length:   1.0  6.9   3.76   1.76    0.9490  (high!)\n",
      "    petal width:    0.1  2.5   1.20   0.76    0.9565  (high!)\n",
      "    ============== ==== ==== ======= ===== ====================\n",
      "\n",
      "    :Missing Attribute Values: None\n",
      "    :Class Distribution: 33.3% for each of 3 classes.\n",
      "    :Creator: R.A. Fisher\n",
      "    :Donor: Michael Marshall (MARSHALL%PLU@io.arc.nasa.gov)\n",
      "    :Date: July, 1988\n",
      "\n",
      "The famous Iris database, first used by Sir R.A. Fisher. The dataset is taken\n",
      "from Fisher's paper. Note that it's the same as in R, but not as in the UCI\n",
      "Machine Learning Repository, which has two wrong data points.\n",
      "\n",
      "This is perhaps the best known database to be found in the\n",
      "pattern recognition literature.  Fisher's paper is a classic in the field and\n",
      "is referenced frequently to this day.  (See Duda & Hart, for example.)  The\n",
      "data set contains 3 classes of 50 instances each, where each class refers to a\n",
      "type of iris plant.  One class is linearly separable from the other 2; the\n",
      "latter are NOT linearly separable from each other.\n",
      "\n",
      ".. topic:: References\n",
      "\n",
      "   - Fisher, R.A. \"The use of multiple measurements in taxonomic problems\"\n",
      "     Annual Eugenics, 7, Part II, 179-188 (1936); also in \"Contributions to\n",
      "     Mathematical Statistics\" (John Wiley, NY, 1950).\n",
      "   - Duda, R.O., & Hart, P.E. (1973) Pattern Classification and Scene Analysis.\n",
      "     (Q327.D83) John Wiley & Sons.  ISBN 0-471-22361-1.  See page 218.\n",
      "   - Dasarathy, B.V. (1980) \"Nosing Around the Neighborhood: A New System\n",
      "     Structure and Classification Rule for Recognition in Partially Exposed\n",
      "     Environments\".  IEEE Transactions on Pattern Analysis and Machine\n",
      "     Intelligence, Vol. PAMI-2, No. 1, 67-71.\n",
      "   - Gates, G.W. (1972) \"The Reduced Nearest Neighbor Rule\".  IEEE Transactions\n",
      "     on Information Theory, May 1972, 431-433.\n",
      "   - See also: 1988 MLC Proceedings, 54-64.  Cheeseman et al\"s AUTOCLASS II\n",
      "     conceptual clustering system finds 3 classes in the data.\n",
      "   - Many, many more ...\n"
     ]
    }
   ],
   "source": [
    "iris = load_iris()\n",
    "print(iris.DESCR)"
   ]
  },
  {
   "cell_type": "code",
   "execution_count": 17,
   "metadata": {
    "ExecuteTime": {
     "end_time": "2020-09-01T23:45:44.422077Z",
     "start_time": "2020-09-01T23:45:44.410059Z"
    }
   },
   "outputs": [
    {
     "data": {
      "text/plain": [
       "array([[5.1, 3.5, 1.4, 0.2],\n",
       "       [4.9, 3. , 1.4, 0.2],\n",
       "       [4.7, 3.2, 1.3, 0.2],\n",
       "       [4.6, 3.1, 1.5, 0.2],\n",
       "       [5. , 3.6, 1.4, 0.2]])"
      ]
     },
     "execution_count": 17,
     "metadata": {},
     "output_type": "execute_result"
    },
    {
     "data": {
      "text/plain": [
       "array([0, 0, 0, 0, 0])"
      ]
     },
     "execution_count": 17,
     "metadata": {},
     "output_type": "execute_result"
    }
   ],
   "source": [
    "X, y = iris.data, iris.target\n",
    "X[:5]\n",
    "y[:5]"
   ]
  },
  {
   "cell_type": "code",
   "execution_count": 18,
   "metadata": {
    "ExecuteTime": {
     "end_time": "2020-09-01T23:45:45.386831Z",
     "start_time": "2020-09-01T23:45:45.107300Z"
    }
   },
   "outputs": [
    {
     "data": {
      "text/plain": [
       "<matplotlib.collections.PathCollection at 0x17ef49f0788>"
      ]
     },
     "execution_count": 18,
     "metadata": {},
     "output_type": "execute_result"
    },
    {
     "data": {
      "text/plain": [
       "<matplotlib.collections.PathCollection at 0x17ef49f0688>"
      ]
     },
     "execution_count": 18,
     "metadata": {},
     "output_type": "execute_result"
    },
    {
     "data": {
      "text/plain": [
       "<matplotlib.collections.PathCollection at 0x17ef49d1c88>"
      ]
     },
     "execution_count": 18,
     "metadata": {},
     "output_type": "execute_result"
    },
    {
     "data": {
      "image/png": "[encoded data removed]",
      "text/plain": [
       "<Figure size 432x288 with 1 Axes>"
      ]
     },
     "metadata": {
      "needs_background": "light"
     },
     "output_type": "display_data"
    }
   ],
   "source": [
    "feature = 2\n",
    "feature_other = 3\n",
    "\n",
    "plt.scatter(X[0:50,feature], X[0:50,feature_other], color='red', marker='o', label='setosa') #前50个样本\n",
    "plt.scatter(X[50:100,feature], X[50:100,feature_other], color='blue', marker='x', label='versicolor') #中间50个\n",
    "plt.scatter(X[100:,feature], X[100:,feature_other],color='green', marker='+', label='Virginica') #后50个样本"
   ]
  },
  {
   "cell_type": "code",
   "execution_count": 20,
   "metadata": {
    "ExecuteTime": {
     "end_time": "2020-09-01T23:46:52.949492Z",
     "start_time": "2020-09-01T23:46:52.878490Z"
    }
   },
   "outputs": [
    {
     "name": "stderr",
     "output_type": "stream",
     "text": [
      "e:\\ProgramData\\Anaconda3\\envs\\normal\\lib\\site-packages\\sklearn\\linear_model\\_logistic.py:940: ConvergenceWarning: lbfgs failed to converge (status=1):\n",
      "STOP: TOTAL NO. of ITERATIONS REACHED LIMIT.\n",
      "\n",
      "Increase the number of iterations (max_iter) or scale the data as shown in:\n",
      "    https://scikit-learn.org/stable/modules/preprocessing.html\n",
      "Please also refer to the documentation for alternative solver options:\n",
      "    https://scikit-learn.org/stable/modules/linear_model.html#logistic-regression\n",
      "  extra_warning_msg=_LOGISTIC_SOLVER_CONVERGENCE_MSG)\n"
     ]
    },
    {
     "data": {
      "text/plain": [
       "LogisticRegression(C=100, class_weight=None, dual=False, fit_intercept=True,\n",
       "                   intercept_scaling=1, l1_ratio=None, max_iter=100,\n",
       "                   multi_class='auto', n_jobs=None, penalty='l2',\n",
       "                   random_state=None, solver='lbfgs', tol=0.0001, verbose=0,\n",
       "                   warm_start=False)"
      ]
     },
     "execution_count": 20,
     "metadata": {},
     "output_type": "execute_result"
    }
   ],
   "source": [
    "model = linear_model.LogisticRegression(C=100)\n",
    "model.fit(X, y)"
   ]
  },
  {
   "cell_type": "code",
   "execution_count": 21,
   "metadata": {
    "ExecuteTime": {
     "end_time": "2020-09-01T23:47:13.491228Z",
     "start_time": "2020-09-01T23:47:13.483232Z"
    }
   },
   "outputs": [
    {
     "name": "stdout",
     "output_type": "stream",
     "text": [
      "[[-0.367145    3.3699799  -6.1440138  -3.9265341 ]\n",
      " [ 1.29751634  0.46886566 -0.55958886 -4.20752165]\n",
      " [-0.93037134 -3.83884556  6.70360266  8.13405576]]\n",
      "[ 19.47461719   5.3394384  -24.81405558]\n",
      "准确度= 0.9866666666666667\n"
     ]
    }
   ],
   "source": [
    "print(model.coef_)\n",
    "print(model.intercept_)\n",
    "y_hat = model.predict(X)\n",
    "\n",
    "print(\"准确度=\",accuracy_score(y,y_hat))"
   ]
  },
  {
   "cell_type": "code",
   "execution_count": 22,
   "metadata": {
    "ExecuteTime": {
     "end_time": "2020-09-01T23:48:21.486151Z",
     "start_time": "2020-09-01T23:48:21.481153Z"
    }
   },
   "outputs": [],
   "source": [
    "feature = 2\n",
    "feature_other = 3\n",
    "\n",
    "X = iris.data\n",
    "X_2 = X[:,[feature,feature_other]]\n",
    "y = iris.target"
   ]
  },
  {
   "cell_type": "code",
   "execution_count": 23,
   "metadata": {
    "ExecuteTime": {
     "end_time": "2020-09-01T23:48:28.908179Z",
     "start_time": "2020-09-01T23:48:28.868139Z"
    }
   },
   "outputs": [
    {
     "data": {
      "text/plain": [
       "LogisticRegression(C=100.0, class_weight=None, dual=False, fit_intercept=True,\n",
       "                   intercept_scaling=1, l1_ratio=None, max_iter=100,\n",
       "                   multi_class='auto', n_jobs=None, penalty='l2',\n",
       "                   random_state=None, solver='lbfgs', tol=0.0001, verbose=0,\n",
       "                   warm_start=False)"
      ]
     },
     "execution_count": 23,
     "metadata": {},
     "output_type": "execute_result"
    }
   ],
   "source": [
    "model_2 = linear_model.LogisticRegression(C=100.0)\n",
    "model_2.fit(X_2,y)"
   ]
  },
  {
   "cell_type": "code",
   "execution_count": 28,
   "metadata": {
    "ExecuteTime": {
     "end_time": "2020-09-01T23:50:10.654375Z",
     "start_time": "2020-09-01T23:50:10.636388Z"
    }
   },
   "outputs": [],
   "source": [
    "#meshgrid函数生成两个网格矩阵\n",
    "h = .02\n",
    "x_min, x_max = X[:, feature].min() - .5, X[:, feature].max() + .5\n",
    "y_min, y_max = X[:, feature_other].min() - .5, X[:, feature_other].max() + .5\n",
    "xx, yy = np.meshgrid(np.arange(x_min, x_max, h), np.arange(y_min, y_max, h))\n",
    "z = model_2.predict(np.c_[xx.ravel(), yy.ravel()])\n",
    "z = z.reshape(xx.shape)"
   ]
  },
  {
   "cell_type": "code",
   "execution_count": 29,
   "metadata": {
    "ExecuteTime": {
     "end_time": "2020-09-01T23:50:13.511335Z",
     "start_time": "2020-09-01T23:50:13.164782Z"
    }
   },
   "outputs": [
    {
     "data": {
      "text/plain": [
       "<matplotlib.collections.QuadMesh at 0x17ef1270088>"
      ]
     },
     "execution_count": 29,
     "metadata": {},
     "output_type": "execute_result"
    },
    {
     "data": {
      "text/plain": [
       "<matplotlib.collections.PathCollection at 0x17ef1475e48>"
      ]
     },
     "execution_count": 29,
     "metadata": {},
     "output_type": "execute_result"
    },
    {
     "data": {
      "text/plain": [
       "<matplotlib.collections.PathCollection at 0x17ef49d1988>"
      ]
     },
     "execution_count": 29,
     "metadata": {},
     "output_type": "execute_result"
    },
    {
     "data": {
      "text/plain": [
       "<matplotlib.collections.PathCollection at 0x17ef1268648>"
      ]
     },
     "execution_count": 29,
     "metadata": {},
     "output_type": "execute_result"
    },
    {
     "data": {
      "image/png": "[encoded data removed]",
      "text/plain": [
       "<Figure size 432x288 with 1 Axes>"
      ]
     },
     "metadata": {
      "needs_background": "light"
     },
     "output_type": "display_data"
    }
   ],
   "source": [
    "plt.pcolormesh(xx, yy, z, cmap=plt.cm.Paired)\n",
    "\n",
    "plt.scatter(X[0:50,feature], X[0:50,feature_other], color='red', marker='o', label='setosa') #前50个样本\n",
    "plt.scatter(X[50:100,feature], X[50:100,feature_other], color='blue', marker='x', label='versicolor') #中间50个\n",
    "plt.scatter(X[100:,feature], X[100:,feature_other],color='green', marker='+', label='Virginica') #后50个样本\n"
   ]
  },
  {
   "cell_type": "code",
   "execution_count": null,
   "metadata": {},
   "outputs": [],
   "source": []
  }
 ],
 "metadata": {
  "hide_input": false,
  "kernelspec": {
   "display_name": "Python 3",
   "language": "python",
   "name": "python3"
  },
  "language_info": {
   "codemirror_mode": {
    "name": "ipython",
    "version": 3
   },
   "file_extension": ".py",
   "mimetype": "text/x-python",
   "name": "python",
   "nbconvert_exporter": "python",
   "pygments_lexer": "ipython3",
   "version": "3.7.6"
  },
  "nbTranslate": {
   "displayLangs": [
    "*"
   ],
   "hotkey": "alt-t",
   "langInMainMenu": true,
   "sourceLang": "en",
   "targetLang": "fr",
   "useGoogleTranslate": true
  },
  "toc": {
   "base_numbering": 1,
   "nav_menu": {},
   "number_sections": true,
   "sideBar": true,
   "skip_h1_title": false,
   "title_cell": "Table of Contents",
   "title_sidebar": "Contents",
   "toc_cell": false,
   "toc_position": {},
   "toc_section_display": true,
   "toc_window_display": true
  },
  "varInspector": {
   "cols": {
    "lenName": 16,
    "lenType": 16,
    "lenVar": 40
   },
   "kernels_config": {
    "python": {
     "delete_cmd_postfix": "",
     "delete_cmd_prefix": "del ",
     "library": "var_list.py",
     "varRefreshCmd": "print(var_dic_list())"
    },
    "r": {
     "delete_cmd_postfix": ") ",
     "delete_cmd_prefix": "rm(",
     "library": "var_list.r",
     "varRefreshCmd": "cat(var_dic_list()) "
    }
   },
   "types_to_exclude": [
    "module",
    "function",
    "builtin_function_or_method",
    "instance",
    "_Feature"
   ],
   "window_display": false
  }
 },
 "nbformat": 4,
 "nbformat_minor": 2
}
