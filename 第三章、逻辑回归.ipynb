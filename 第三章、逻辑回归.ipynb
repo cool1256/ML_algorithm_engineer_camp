{
 "cells": [
  {
   "cell_type": "markdown",
   "metadata": {},
   "source": [
    "# 简介"
   ]
  },
  {
   "cell_type": "markdown",
   "metadata": {},
   "source": [
    "+ 解决二分类的问题\n",
    "+ 类别分别用0和1表示"
   ]
  },
  {
   "cell_type": "markdown",
   "metadata": {},
   "source": [
    "# 问题提出"
   ]
  },
  {
   "cell_type": "markdown",
   "metadata": {},
   "source": [
    "1. 假设函数  \n",
    "$$\\hat{y}=h_{\\theta}(x)=g\\left(\\theta^{T} x\\right)=\\frac{1}{1+e^{-\\theta^{T} x}}$$\n",
    "$$g(z)=\\frac{1}{1+e^{-z}} \\text { 其中 }: z = \\theta^Tx  \\text{（sigmoid函数）}$$\n",
    "2. 损失函数\n",
    "$$L(\\hat{y}, y)=-y \\log \\hat{y}-(1-y) \\log (1-\\hat{y})$$\n",
    "3. 代价函数\n",
    "$$\\begin{array}{l}\n",
    "J(\\theta)=\\frac{1}{m} \\sum_{i=1}^{m} L\\left(\\hat{y}^{(i)}, y^{(i)}\\right) \\\\\n",
    "=\\frac{1}{m} \\sum_{t=1}^{m}\\left[-y^{(i)} \\log \\hat{y}^{(i)}-\\left(1-y^{(i)}\\right) \\log \\left(1-\\hat{y}^{(i)}\\right)\\right] \\\\\n",
    "=\\frac{1}{m} \\sum_{i=1}^{m}\\left[-y^{(i)} \\log \\frac{1}{1+e^{-\\theta^{T} x^{(i)}}}-\\left(1-y^{(i)}\\right) \\log \\left(1-\\frac{1}{\\left.1+e^{-\\theta^{T} x^{(i)}}\\right)}\\right)\\right]\n",
    "\\end{array}$$\n"
   ]
  },
  {
   "cell_type": "markdown",
   "metadata": {},
   "source": [
    "# 逻辑回归求解\n",
    "$$\\begin{aligned}\n",
    "&\\frac{\\partial}{\\partial \\theta_{j}} J(\\theta)=\\frac{\\partial}{\\partial \\theta_{j}} \\frac{1}{m} \\sum_{i=1}^{m}\\left[-y^{(i)} \\log \\frac{1}{1+e^{-\\theta^{T} x^{(i)}}}-\\left(1-y^{(i)}\\right) \\log \\left(1-\\frac{1}{\\left.1+e^{-\\theta^{T} x^{(i)}}\\right)}\\right]\\right.\\\\\n",
    "&=\\frac{\\partial}{\\partial \\theta_{j}} \\frac{1}{m} \\sum_{i=1}^{m}\\left[y^{(i)} \\log \\left(1+e^{-\\theta^{T} x^{(i)}}\\right)+\\left(1-y^{(i)}\\right) \\log \\left(1+e^{\\theta^{T} x^{(i)}}\\right)\\right]\\\\\n",
    "&=\\frac{1}{m} \\sum_{i=1}^{m}\\left[y^{(i)} \\frac{-x_j^{(i)} e^{-\\theta^{T} x^{(i)}}}{1+e^{-\\theta^{T} x^{(i)}}}+\\left(1-y^{(i)}\\right) \\frac{x_{j}^{(i)} e^{\\theta^{T} x^{(i)}}}{1+e^{\\theta^{T} x^{(i)}}}\\right]\\\\\n",
    "&=\\frac{1}{m} \\sum_{i=1}^{m}\\left[y^{(i)} \\frac{-x_{j}^{(i)}}{1+e^{\\theta^{T} x^{(i)}}}+\\left(1-y^{(i)}\\right) \\frac{x_{j}^{(i)} e^{\\theta^{T} x^{(i)}}}{1+e^{\\left.\\theta^{T} x^{(i}\\right)}}\\right]\\\\\n",
    "&=\\frac{1}{m} \\sum_{i=1}^{m}\\left[\\frac{-x_{j}^{(i)} y^{(i)}+x_{j}^{(i)} e^{\\theta^{T} x^{(i)}}-y^{(i)} x_{j}^{(i)} e^{\\theta^{T} x^{(i)}}}{1+e^{\\theta^{T} x^{(i)}}}\\right]\\\\\n",
    "&=\\frac{1}{m} \\sum_{i=1}^{m}\\left[\\frac{-y^{(i)}\\left(1+e^{\\theta^{T} x^{(i)}}\\right)+e^{\\theta^{T} x^{(i)}}}{1+e^{\\theta^{T} x^{(i)}}} x_{j}^{(i)}\\right]=\\frac{1}{m} \\sum_{i=1}^{m}\\left[\\left(-y^{(i)}+\\frac{e^{\\theta^{T} x^{(i)}}}{1+e^{\\theta^{j} x^{(i)}}}\\right) x_{j}^{(i)}\\right]\\\\\n",
    "&=\\frac{1}{m} \\sum_{(i=1}^{m}\\left[\\left(-y^{(i)}+\\frac{1}{1+e^{-\\theta^{T} x^{(i)}}}\\right) x_{j}^{(i)}\\right]=\\frac{1}{m} \\sum_{i=1}^{m}\\left[\\left(h_{\\theta}\\left(x^{(i)}\\right)-y^{(i)}\\right) x_{j}^{(i)}\\right]\n",
    "\\end{aligned}$$"
   ]
  },
  {
   "cell_type": "code",
   "execution_count": null,
   "metadata": {},
   "outputs": [],
   "source": []
  }
 ],
 "metadata": {
  "hide_input": false,
  "kernelspec": {
   "display_name": "Python 3",
   "language": "python",
   "name": "python3"
  },
  "language_info": {
   "codemirror_mode": {
    "name": "ipython",
    "version": 3
   },
   "file_extension": ".py",
   "mimetype": "text/x-python",
   "name": "python",
   "nbconvert_exporter": "python",
   "pygments_lexer": "ipython3",
   "version": "3.7.4"
  },
  "nbTranslate": {
   "displayLangs": [
    "*"
   ],
   "hotkey": "alt-t",
   "langInMainMenu": true,
   "sourceLang": "en",
   "targetLang": "fr",
   "useGoogleTranslate": true
  },
  "toc": {
   "base_numbering": 1,
   "nav_menu": {},
   "number_sections": true,
   "sideBar": true,
   "skip_h1_title": false,
   "title_cell": "Table of Contents",
   "title_sidebar": "Contents",
   "toc_cell": false,
   "toc_position": {},
   "toc_section_display": true,
   "toc_window_display": false
  },
  "varInspector": {
   "cols": {
    "lenName": 16,
    "lenType": 16,
    "lenVar": 40
   },
   "kernels_config": {
    "python": {
     "delete_cmd_postfix": "",
     "delete_cmd_prefix": "del ",
     "library": "var_list.py",
     "varRefreshCmd": "print(var_dic_list())"
    },
    "r": {
     "delete_cmd_postfix": ") ",
     "delete_cmd_prefix": "rm(",
     "library": "var_list.r",
     "varRefreshCmd": "cat(var_dic_list()) "
    }
   },
   "types_to_exclude": [
    "module",
    "function",
    "builtin_function_or_method",
    "instance",
    "_Feature"
   ],
   "window_display": false
  }
 },
 "nbformat": 4,
 "nbformat_minor": 2
}
