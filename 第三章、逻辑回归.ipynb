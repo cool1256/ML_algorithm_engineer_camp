{
 "cells": [
  {
   "cell_type": "markdown",
   "metadata": {},
   "source": [
    "# 简介"
   ]
  },
  {
   "cell_type": "markdown",
   "metadata": {},
   "source": [
    "+ 解决二分类的问题\n",
    "+ 类别分别用0和1表示"
   ]
  },
  {
   "cell_type": "markdown",
   "metadata": {},
   "source": [
    "# 问题提出"
   ]
  },
  {
   "cell_type": "markdown",
   "metadata": {},
   "source": [
    "1. 假设函数  \n",
    "$$\\hat{y}=h_{\\theta}(x)=g\\left(\\theta^{T} x\\right)=\\frac{1}{1+e^{-\\theta^{T} x}}$$\n",
    "$$g(z)=\\frac{1}{1+e^{-z}} \\text { 其中 }: z = \\theta^Tx  \\text{（sigmoid函数）}$$\n",
    "2. 损失函数\n",
    "$$L(\\hat{y}, y)=-y \\log \\hat{y}-(1-y) \\log (1-\\hat{y})$$\n",
    "3. 代价函数\n",
    "$$\\begin{array}{l}\n",
    "J(\\theta)=\\frac{1}{m} \\sum_{i=1}^{m} L\\left(\\hat{y}^{(i)}, y^{(i)}\\right) \\\\\n",
    "=\\frac{1}{m} \\sum_{t=1}^{m}\\left[-y^{(i)} \\log \\hat{y}^{(i)}-\\left(1-y^{(i)}\\right) \\log \\left(1-\\hat{y}^{(i)}\\right)\\right] \\\\\n",
    "=\\frac{1}{m} \\sum_{i=1}^{m}\\left[-y^{(i)} \\log \\frac{1}{1+e^{-\\theta^{T} x^{(i)}}}-\\left(1-y^{(i)}\\right) \\log \\left(1-\\frac{1}{\\left.1+e^{-\\theta^{T} x^{(i)}}\\right)}\\right)\\right]\n",
    "\\end{array}$$\n"
   ]
  },
  {
   "cell_type": "markdown",
   "metadata": {},
   "source": [
    "# 逻辑回归求解\n",
    "$$\\begin{aligned}\n",
    "&\\frac{\\partial}{\\partial \\theta_{j}} J(\\theta)=\\frac{\\partial}{\\partial \\theta_{j}} \\frac{1}{m} \\sum_{i=1}^{m}\\left[-y^{(i)} \\log \\frac{1}{1+e^{-\\theta^{T} x^{(i)}}}-\\left(1-y^{(i)}\\right) \\log \\left(1-\\frac{1}{\\left.1+e^{-\\theta^{T} x^{(i)}}\\right)}\\right]\\right.\\\\\n",
    "&=\\frac{\\partial}{\\partial \\theta_{j}} \\frac{1}{m} \\sum_{i=1}^{m}\\left[y^{(i)} \\log \\left(1+e^{-\\theta^{T} x^{(i)}}\\right)+\\left(1-y^{(i)}\\right) \\log \\left(1+e^{\\theta^{T} x^{(i)}}\\right)\\right]\\\\\n",
    "&=\\frac{1}{m} \\sum_{i=1}^{m}\\left[y^{(i)} \\frac{-x_j^{(i)} e^{-\\theta^{T} x^{(i)}}}{1+e^{-\\theta^{T} x^{(i)}}}+\\left(1-y^{(i)}\\right) \\frac{x_{j}^{(i)} e^{\\theta^{T} x^{(i)}}}{1+e^{\\theta^{T} x^{(i)}}}\\right]\\\\\n",
    "&=\\frac{1}{m} \\sum_{i=1}^{m}\\left[y^{(i)} \\frac{-x_{j}^{(i)}}{1+e^{\\theta^{T} x^{(i)}}}+\\left(1-y^{(i)}\\right) \\frac{x_{j}^{(i)} e^{\\theta^{T} x^{(i)}}}{1+e^{\\left.\\theta^{T} x^{(i}\\right)}}\\right]\\\\\n",
    "&=\\frac{1}{m} \\sum_{i=1}^{m}\\left[\\frac{-x_{j}^{(i)} y^{(i)}+x_{j}^{(i)} e^{\\theta^{T} x^{(i)}}-y^{(i)} x_{j}^{(i)} e^{\\theta^{T} x^{(i)}}}{1+e^{\\theta^{T} x^{(i)}}}\\right]\\\\\n",
    "&=\\frac{1}{m} \\sum_{i=1}^{m}\\left[\\frac{-y^{(i)}\\left(1+e^{\\theta^{T} x^{(i)}}\\right)+e^{\\theta^{T} x^{(i)}}}{1+e^{\\theta^{T} x^{(i)}}} x_{j}^{(i)}\\right]=\\frac{1}{m} \\sum_{i=1}^{m}\\left[\\left(-y^{(i)}+\\frac{e^{\\theta^{T} x^{(i)}}}{1+e^{\\theta^{j} x^{(i)}}}\\right) x_{j}^{(i)}\\right]\\\\\n",
    "&=\\frac{1}{m} \\sum_{(i=1}^{m}\\left[\\left(-y^{(i)}+\\frac{1}{1+e^{-\\theta^{T} x^{(i)}}}\\right) x_{j}^{(i)}\\right]=\\frac{1}{m} \\sum_{i=1}^{m}\\left[\\left(h_{\\theta}\\left(x^{(i)}\\right)-y^{(i)}\\right) x_{j}^{(i)}\\right]\n",
    "\\end{aligned}$$"
   ]
  },
  {
   "cell_type": "markdown",
   "metadata": {},
   "source": [
    "+ 迭代公式  \n",
    "$\\theta_{j}:=\\theta_{j}-\\alpha \\frac{1}{m} \\sum_{i=1}^{m}\\left[\\left(h_{\\theta}\\left(x^{(i)}\\right)-y^{(i)}\\right) x_{j}^{(i)}\\right]$  \n",
    "其中：\n",
    "$h_{\\theta}(x)=\\frac{1}{1+e^{-\\theta^{T} x}}$"
   ]
  },
  {
   "cell_type": "markdown",
   "metadata": {},
   "source": [
    "## 代码实现"
   ]
  },
  {
   "cell_type": "code",
   "execution_count": 1,
   "metadata": {
    "ExecuteTime": {
     "end_time": "2020-07-27T23:36:46.672284Z",
     "start_time": "2020-07-27T23:36:45.559089Z"
    }
   },
   "outputs": [],
   "source": [
    "from sklearn.metrics import accuracy_score"
   ]
  },
  {
   "cell_type": "code",
   "execution_count": 2,
   "metadata": {
    "ExecuteTime": {
     "end_time": "2020-07-27T23:36:46.684284Z",
     "start_time": "2020-07-27T23:36:46.674278Z"
    }
   },
   "outputs": [],
   "source": [
    "def loaddata():\n",
    "    data = np.loadtxt('data/3_1.txt',delimiter=',')\n",
    "    n = data.shape[1] - 1  # 特征数\n",
    "    X = data[:, 0:n]\n",
    "    y = data[:, -1].reshape(-1, 1)\n",
    "    return X, y\n",
    "def plot(X,y):\n",
    "    pos = np.where(y==1)\n",
    "    neg = np.where(y==0)\n",
    "    plt.scatter(X[pos[0],0],X[pos[0],1],marker='x')\n",
    "    plt.scatter(X[neg[0], 0], X[neg[0], 1], marker='o')\n",
    "    plt.xlabel('Exam 1 score')\n",
    "    plt.ylabel('Exam 2 score')\n",
    "    plt.show()"
   ]
  },
  {
   "cell_type": "code",
   "execution_count": 3,
   "metadata": {
    "ExecuteTime": {
     "end_time": "2020-07-27T23:36:47.488387Z",
     "start_time": "2020-07-27T23:36:46.686275Z"
    }
   },
   "outputs": [
    {
     "data": {
      "image/png": "[encoded data removed]",
      "text/plain": [
       "<Figure size 432x288 with 1 Axes>"
      ]
     },
     "metadata": {
      "needs_background": "light"
     },
     "output_type": "display_data"
    }
   ],
   "source": [
    "X,y = loaddata()\n",
    "plot(X,y)"
   ]
  },
  {
   "cell_type": "code",
   "execution_count": 4,
   "metadata": {
    "ExecuteTime": {
     "end_time": "2020-07-27T23:36:47.498835Z",
     "start_time": "2020-07-27T23:36:47.491838Z"
    }
   },
   "outputs": [],
   "source": [
    "def sigmoide(z):\n",
    "    r = 1 / (1 + np.exp(-z))\n",
    "    return r\n",
    "def hypothesis(X, theta):\n",
    "    z = np.dot(X, theta)\n",
    "    return sigmoide(z)\n",
    "def computeCost(X, y, theta):\n",
    "    m = X.shape[0]\n",
    "    z = -1 * y * np.log(hypothesis(X,theta))-(1-y) * np.log(1-hypothesis(X,theta))\n",
    "    return np.sum(z)/m"
   ]
  },
  {
   "cell_type": "code",
   "execution_count": 5,
   "metadata": {
    "ExecuteTime": {
     "end_time": "2020-07-27T23:36:47.513836Z",
     "start_time": "2020-07-27T23:36:47.502840Z"
    }
   },
   "outputs": [],
   "source": [
    "def gradientDescent(X,y,theta,iterations,alpha):\n",
    "    #取数据条数\n",
    "    m = X.shape[0]\n",
    "    #在x最前面插入全1的列\n",
    "    X = np.hstack((np.ones((m, 1)), X))\n",
    "    for i in range(iterations):\n",
    "        for j in range(len(theta)):\n",
    "            theta[j] = theta[j]-(alpha/m)*np.sum((hypothesis(X,theta) - y)*X[:,j].reshape(-1,1))\n",
    "        #每迭代1000次输出一次损失值\n",
    "        if(i%50000==0):\n",
    "            print('第',i,'次迭代，当前损失为：',computeCost(X,y,theta),'theta=',theta)\n",
    "    return theta\n",
    "\n",
    "def predict(X):\n",
    "    # 在x最前面插入全1的列\n",
    "    c = np.ones(X.shape[0]).transpose()\n",
    "    X = np.insert(X, 0, values=c, axis=1)  \n",
    "    #求解假设函数的值\n",
    "    h = hypothesis(X,theta)\n",
    "    #根据概率值决定最终的分类,>=0.5为1类，<0.5为0类\n",
    "    h[h>=0.5]=1\n",
    "    h[h<0.5]=0\n",
    "    return h"
   ]
  },
  {
   "cell_type": "code",
   "execution_count": 6,
   "metadata": {
    "ExecuteTime": {
     "end_time": "2020-07-27T23:37:03.463369Z",
     "start_time": "2020-07-27T23:36:47.519836Z"
    },
    "scrolled": true
   },
   "outputs": [
    {
     "name": "stdout",
     "output_type": "stream",
     "text": [
      "第 0 次迭代，当前损失为： 3.4898192542187316 theta= [[ 0.0008    ]\n",
      " [ 0.0959687 ]\n",
      " [-0.17080118]]\n",
      "第 50000 次迭代，当前损失为： 0.9221874390429973 theta= [[-1.96095214e+01]\n",
      " [ 2.78099355e-01]\n",
      " [ 7.52595875e-03]]\n",
      "第 100000 次迭代，当前损失为： 0.33992108594315495 theta= [[-24.06932143]\n",
      " [  0.1833052 ]\n",
      " [  0.23863557]]\n",
      "第 150000 次迭代，当前损失为： 0.2415806458263704 theta= [[-25.40956873]\n",
      " [  0.18523859]\n",
      " [  0.23836269]]\n",
      "第 200000 次迭代，当前损失为： 0.2123612218845144 theta= [[-25.68300682]\n",
      " [  0.19663504]\n",
      " [  0.21377662]]\n",
      "theta=\n",
      " [[-25.7214775 ]\n",
      " [  0.21158791]\n",
      " [  0.19917776]]\n"
     ]
    }
   ],
   "source": [
    "n = X.shape[1]#特征数\n",
    "theta = np.zeros(n+1).reshape(n+1, 1)  # theta是列向量,+1是因为求梯度时X前会增加一个全1列\n",
    "iterations = 250000\n",
    "alpha = 0.008\n",
    "theta = gradientDescent(X,y,theta,iterations,alpha)\n",
    "print('theta=\\n',theta)"
   ]
  },
  {
   "cell_type": "code",
   "execution_count": 7,
   "metadata": {
    "ExecuteTime": {
     "end_time": "2020-07-27T23:37:03.693036Z",
     "start_time": "2020-07-27T23:37:03.466367Z"
    }
   },
   "outputs": [
    {
     "data": {
      "image/png": "[encoded data removed]",
      "text/plain": [
       "<Figure size 432x288 with 1 Axes>"
      ]
     },
     "metadata": {
      "needs_background": "light"
     },
     "output_type": "display_data"
    }
   ],
   "source": [
    "from matplotlib import colors\n",
    "def plotDescisionBoundary(X,y,theta):\n",
    "    cm_dark = colors.ListedColormap(['g', 'r'])\n",
    "    plt.xlabel('Exam 1 score')\n",
    "    plt.ylabel('Exam 2 score')\n",
    "    plt.scatter(X[:,0],X[:,1],c=np.array(y).squeeze(),cmap=cm_dark,s=30)\n",
    "\n",
    "    #化分类决策面 theta0+theta1*x1+theta2*x2 = 0\n",
    "    # x1 = np.arange(20,110,0.1)\n",
    "    x1 = np.arange(min(X[:, 0]), max(X[:, 0]), 0.1)\n",
    "    x2 = -(theta[1]*x1+theta[0])/theta[2]\n",
    "    plt.plot(x1,x2)\n",
    "    plt.show()\n",
    "plotDescisionBoundary(X,y,theta)"
   ]
  },
  {
   "cell_type": "markdown",
   "metadata": {},
   "source": [
    "[分类指标](https://www.cnblogs.com/guoyaohua/p/classification-metrics.html)"
   ]
  },
  {
   "cell_type": "code",
   "execution_count": 8,
   "metadata": {
    "ExecuteTime": {
     "end_time": "2020-07-27T23:37:03.705047Z",
     "start_time": "2020-07-27T23:37:03.696013Z"
    }
   },
   "outputs": [
    {
     "name": "stdout",
     "output_type": "stream",
     "text": [
      "准确度： 0.9\n",
      "准确度： 0.9\n"
     ]
    }
   ],
   "source": [
    "p = predict(X)\n",
    "print('准确度：',np.mean(p==y))\n",
    "print('准确度：',accuracy_score(y,p))"
   ]
  },
  {
   "cell_type": "markdown",
   "metadata": {},
   "source": [
    "# 逻辑回归正则化\n",
    "+ 代价函数  \n",
    "$$J(\\theta)=\\frac{1}{m} \\sum_{i=1}^{m}\\left[-y^{(i)} \\log \\frac{1}{1+e^{-\\theta^{T} x^{(i)}}}-\\left(1-y^{(i)}\\right) \\log \\left(1-\\frac{1}{1+e^{-\\theta^{T} x^{(i)}}}\\right)\\right]+\\frac{\\lambda}{2 m}\\|\\theta\\|_{2}^{2}$$\n",
    "+ 迭代公式\n",
    "$$\\theta_{j}:=\\theta_{j}-\\frac{\\alpha}{m}\\left(\\sum_{i=1}^{m}\\left[\\left(h_{\\theta}\\left(x^{(i)}\\right)-y^{(i)}\\right) x_{j}^{(i)}\\right]+\\lambda \\theta_{j}\\right)$$"
   ]
  },
  {
   "cell_type": "markdown",
   "metadata": {},
   "source": [
    "## 代码实现"
   ]
  },
  {
   "cell_type": "code",
   "execution_count": 9,
   "metadata": {
    "ExecuteTime": {
     "end_time": "2020-07-27T23:37:03.716014Z",
     "start_time": "2020-07-27T23:37:03.708019Z"
    }
   },
   "outputs": [],
   "source": [
    "def sigmoide(z):\n",
    "    r = 1 / (1 + np.exp(-z))\n",
    "    return r\n",
    "def hypothesis(X, theta):\n",
    "    z = np.dot(X, theta)\n",
    "    return sigmoide(z)\n",
    "def computeCost(X, y, theta, lamda):\n",
    "    m = X.shape[0]\n",
    "    z = -1 * y * np.log(hypothesis(X,theta))-(1-y) * np.log(1-hypothesis(X,theta))\n",
    "    return np.sum(z)/m + (lamda/(2*m)*np.sum(np.power(theta, 2)))"
   ]
  },
  {
   "cell_type": "code",
   "execution_count": 10,
   "metadata": {
    "ExecuteTime": {
     "end_time": "2020-07-27T23:37:03.731012Z",
     "start_time": "2020-07-27T23:37:03.718020Z"
    }
   },
   "outputs": [],
   "source": [
    "def gradientDescent(X,y,theta,iterations,alpha,lamda):\n",
    "    #取数据条数\n",
    "    m = X.shape[0]\n",
    "    #在x最前面插入全1的列\n",
    "    X = np.hstack((np.ones((m, 1)), X))\n",
    "    for i in range(iterations):\n",
    "        for j in range(len(theta)):\n",
    "            theta[j] = theta[j]-(alpha/m)*(np.sum((hypothesis(X,theta) - y)*X[:,j].reshape(-1,1)) + lamda * theta[j])\n",
    "        #每迭代1000次输出一次损失值\n",
    "        if(i%50000==0):\n",
    "            print('第',i,'次迭代，当前损失为：',computeCost(X,y,theta, lamda),'theta=',theta)\n",
    "    return theta\n",
    "\n",
    "def predict(X):\n",
    "    # 在x最前面插入全1的列\n",
    "    c = np.ones(X.shape[0]).transpose()\n",
    "    X = np.insert(X, 0, values=c, axis=1)  \n",
    "    #求解假设函数的值\n",
    "    h = hypothesis(X,theta)\n",
    "    #根据概率值决定最终的分类,>=0.5为1类，<0.5为0类\n",
    "    h[h>=0.5]=1\n",
    "    h[h<0.5]=0\n",
    "    return h"
   ]
  },
  {
   "cell_type": "code",
   "execution_count": 11,
   "metadata": {
    "ExecuteTime": {
     "end_time": "2020-07-27T23:37:21.927816Z",
     "start_time": "2020-07-27T23:37:03.735015Z"
    }
   },
   "outputs": [
    {
     "name": "stdout",
     "output_type": "stream",
     "text": [
      "第 0 次迭代，当前损失为： 3.4898211734024334 theta= [[ 0.0008    ]\n",
      " [ 0.0959687 ]\n",
      " [-0.17080118]]\n",
      "第 50000 次迭代，当前损失为： 0.7870734058134988 theta= [[-19.33019256]\n",
      " [  0.1848856 ]\n",
      " [  0.1962559 ]]\n",
      "第 100000 次迭代，当前损失为： 0.4656598627829162 theta= [[-23.45384231]\n",
      " [  0.11660825]\n",
      " [  0.27483063]]\n",
      "第 150000 次迭代，当前损失为： 0.3660485164508709 theta= [[-24.70994973]\n",
      " [  0.23088081]\n",
      " [  0.14543833]]\n",
      "第 200000 次迭代，当前损失为： 0.3273561243941825 theta= [[-25.04162387]\n",
      " [  0.25808419]\n",
      " [  0.16673773]]\n",
      "theta=\n",
      " [[-25.11944059]\n",
      " [  0.21193097]\n",
      " [  0.17255222]]\n"
     ]
    }
   ],
   "source": [
    "n = X.shape[1]#特征数\n",
    "theta = np.zeros(n+1).reshape(n+1, 1)  # theta是列向量,+1是因为求梯度时X前会增加一个全1列\n",
    "iterations = 250000\n",
    "alpha = 0.008\n",
    "lamda = 0.01\n",
    "theta = gradientDescent(X,y,theta,iterations,alpha, lamda)\n",
    "print('theta=\\n',theta)"
   ]
  },
  {
   "cell_type": "code",
   "execution_count": 12,
   "metadata": {
    "ExecuteTime": {
     "end_time": "2020-07-27T23:37:34.001141Z",
     "start_time": "2020-07-27T23:37:33.836248Z"
    }
   },
   "outputs": [
    {
     "data": {
      "image/png": "[encoded data removed]",
      "text/plain": [
       "<Figure size 432x288 with 1 Axes>"
      ]
     },
     "metadata": {
      "needs_background": "light"
     },
     "output_type": "display_data"
    }
   ],
   "source": [
    "from matplotlib import colors\n",
    "def plotDescisionBoundary(X,y,theta):\n",
    "    cm_dark = colors.ListedColormap(['g', 'r'])\n",
    "    plt.xlabel('Exam 1 score')\n",
    "    plt.ylabel('Exam 2 score')\n",
    "    plt.scatter(X[:,0],X[:,1],c=np.array(y).squeeze(),cmap=cm_dark,s=30)\n",
    "\n",
    "    #化分类决策面 theta0+theta1*x1+theta2*x2 = 0\n",
    "    # x1 = np.arange(20,110,0.1)\n",
    "    x1 = np.arange(min(X[:, 0]), max(X[:, 0]), 0.1)\n",
    "    x2 = -(theta[1]*x1+theta[0])/theta[2]\n",
    "    plt.plot(x1,x2)\n",
    "    plt.show()\n",
    "plotDescisionBoundary(X,y,theta)"
   ]
  },
  {
   "cell_type": "code",
   "execution_count": 13,
   "metadata": {
    "ExecuteTime": {
     "end_time": "2020-07-27T23:37:36.230029Z",
     "start_time": "2020-07-27T23:37:36.223010Z"
    }
   },
   "outputs": [
    {
     "name": "stdout",
     "output_type": "stream",
     "text": [
      "准确度： 0.88\n",
      "准确度： 0.88\n"
     ]
    }
   ],
   "source": [
    "p = predict(X)\n",
    "print('准确度：',np.mean(p==y))\n",
    "print('准确度：',accuracy_score(y,p))"
   ]
  },
  {
   "cell_type": "markdown",
   "metadata": {},
   "source": [
    "# 逻辑回归多分类"
   ]
  },
  {
   "cell_type": "markdown",
   "metadata": {},
   "source": [
    "## One over Rest(OvR)\n",
    "$\\max _{k} h_{\\theta}^k(x)$  \n",
    "K个类别将有K个分类器   \n",
    "缺点：训练集有偏，对结果会造成影响\n",
    "\n",
    "## One over One (OvO)  \n",
    "比较赢数最高的就是分类结果  \n",
    "K个类别将有k(k-1)/2个分类器  \n",
    "缺点：训练开销大  \n",
    "优点：相对OvR准确类高\n",
    "\n",
    "## Multi over Mutti（MvM）\n",
    "编码：对N个类别做M次划分，每次划分将一部分类别划为正类，其余父类（M个分类器）   \n",
    "解码：M个分类器预测标记组成一个编码，将此预测编码与各自类别的编码进行比较，返回其中距离最小的类  \n",
    "OvO是MvM的一个特例"
   ]
  },
  {
   "cell_type": "markdown",
   "metadata": {},
   "source": [
    "# 使用sklearn"
   ]
  },
  {
   "cell_type": "code",
   "execution_count": null,
   "metadata": {},
   "outputs": [],
   "source": []
  }
 ],
 "metadata": {
  "hide_input": false,
  "kernelspec": {
   "display_name": "Python 3",
   "language": "python",
   "name": "python3"
  },
  "language_info": {
   "codemirror_mode": {
    "name": "ipython",
    "version": 3
   },
   "file_extension": ".py",
   "mimetype": "text/x-python",
   "name": "python",
   "nbconvert_exporter": "python",
   "pygments_lexer": "ipython3",
   "version": "3.7.6"
  },
  "nbTranslate": {
   "displayLangs": [
    "*"
   ],
   "hotkey": "alt-t",
   "langInMainMenu": true,
   "sourceLang": "en",
   "targetLang": "fr",
   "useGoogleTranslate": true
  },
  "toc": {
   "base_numbering": 1,
   "nav_menu": {},
   "number_sections": true,
   "sideBar": true,
   "skip_h1_title": false,
   "title_cell": "Table of Contents",
   "title_sidebar": "Contents",
   "toc_cell": false,
   "toc_position": {},
   "toc_section_display": true,
   "toc_window_display": true
  },
  "varInspector": {
   "cols": {
    "lenName": 16,
    "lenType": 16,
    "lenVar": 40
   },
   "kernels_config": {
    "python": {
     "delete_cmd_postfix": "",
     "delete_cmd_prefix": "del ",
     "library": "var_list.py",
     "varRefreshCmd": "print(var_dic_list())"
    },
    "r": {
     "delete_cmd_postfix": ") ",
     "delete_cmd_prefix": "rm(",
     "library": "var_list.r",
     "varRefreshCmd": "cat(var_dic_list()) "
    }
   },
   "types_to_exclude": [
    "module",
    "function",
    "builtin_function_or_method",
    "instance",
    "_Feature"
   ],
   "window_display": false
  }
 },
 "nbformat": 4,
 "nbformat_minor": 2
}
